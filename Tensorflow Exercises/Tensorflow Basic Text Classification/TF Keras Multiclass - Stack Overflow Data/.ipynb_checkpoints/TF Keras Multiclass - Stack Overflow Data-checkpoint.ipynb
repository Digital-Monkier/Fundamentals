{
 "cells": [
  {
   "cell_type": "code",
   "execution_count": 1,
   "metadata": {},
   "outputs": [],
   "source": [
    "import matplotlib.pyplot as plt\n",
    "import os\n",
    "import re\n",
    "import shutil\n",
    "import string\n",
    "import tensorflow as tf\n",
    "\n",
    "from tensorflow.keras import layers\n",
    "from tensorflow.keras import losses\n",
    "from tensorflow.keras import preprocessing\n",
    "from tensorflow.keras.layers.experimental.preprocessing import TextVectorization"
   ]
  },
  {
   "cell_type": "code",
   "execution_count": 2,
   "metadata": {},
   "outputs": [],
   "source": [
    "url = 'http://storage.googleapis.com/download.tensorflow.org/data/stack_overflow_16k.tar.gz'\n",
    "\n",
    "dataset = tf.keras.utils.get_file('stack_overflow_16k', url,\n",
    "                              untar=True, cache_dir='.',\n",
    "                              cache_subdir='')\n",
    "\n",
    "dataset_dir = os.path.join(os.path.dirname(dataset))"
   ]
  },
  {
   "cell_type": "code",
   "execution_count": 3,
   "metadata": {},
   "outputs": [
    {
     "data": {
      "text/plain": [
       "['python', 'java', 'csharp', 'javascript']"
      ]
     },
     "execution_count": 3,
     "metadata": {},
     "output_type": "execute_result"
    }
   ],
   "source": [
    "# Creating train directory\n",
    "train_dir = os.path.join(dataset_dir, 'train')\n",
    "os.listdir(train_dir)"
   ]
  },
  {
   "cell_type": "code",
   "execution_count": 4,
   "metadata": {
    "scrolled": true
   },
   "outputs": [],
   "source": [
    "# Sample of the train data\n",
    "# sample_file = os.path.join(train_dir, 'csharp/1053.txt')\n",
    "# with open(sample_file) as f:\n",
    "#     print(f.read())"
   ]
  },
  {
   "cell_type": "code",
   "execution_count": 5,
   "metadata": {},
   "outputs": [
    {
     "data": {
      "text/plain": [
       "['python', 'java', 'csharp', 'javascript']"
      ]
     },
     "execution_count": 5,
     "metadata": {},
     "output_type": "execute_result"
    }
   ],
   "source": [
    "# Creating test directory\n",
    "test_dir = os.path.join(dataset_dir, 'test')\n",
    "os.listdir(test_dir)"
   ]
  },
  {
   "cell_type": "code",
   "execution_count": 6,
   "metadata": {},
   "outputs": [],
   "source": [
    "# Sample of the train data\n",
    "# sample_file = os.path.join(test_dir, 'csharp/267.txt')\n",
    "# with open(sample_file) as f:\n",
    "#     print(f.read())"
   ]
  },
  {
   "cell_type": "markdown",
   "metadata": {},
   "source": [
    "# Train / Validation / Test"
   ]
  },
  {
   "cell_type": "code",
   "execution_count": 7,
   "metadata": {
    "code_folding": []
   },
   "outputs": [
    {
     "name": "stdout",
     "output_type": "stream",
     "text": [
      "Training\n",
      "Found 8000 files belonging to 4 classes.\n",
      "Using 6400 files for training.\n",
      "\n",
      "\n",
      "Validation\n",
      "Found 8000 files belonging to 4 classes.\n",
      "Using 1600 files for validation.\n",
      "\n",
      "\n",
      "Test\n",
      "Found 8000 files belonging to 4 classes.\n"
     ]
    }
   ],
   "source": [
    "batch_size = 32\n",
    "seed = 2021\n",
    "\n",
    "print('Training')\n",
    "raw_train_data = tf.keras.preprocessing.text_dataset_from_directory('train',\n",
    "                                                                    batch_size =batch_size,\n",
    "                                                                    validation_split = 0.2,\n",
    "                                                                    subset = 'training',\n",
    "                                                                    seed = seed)\n",
    "print('\\n')\n",
    "print('Validation')\n",
    "raw_val_data = tf.keras.preprocessing.text_dataset_from_directory('train',\n",
    "                                                                  batch_size =batch_size,\n",
    "                                                                  validation_split = 0.2,\n",
    "                                                                  subset='validation',\n",
    "                                                                  seed =seed)\n",
    "print('\\n')\n",
    "print('Test')\n",
    "raw_test_data = tf.keras.preprocessing.text_dataset_from_directory('test',\n",
    "                                                                   batch_size = batch_size)"
   ]
  },
  {
   "cell_type": "markdown",
   "metadata": {},
   "source": [
    "# Prepare the dataset for training\n",
    "* Removing HTML requires custom standardization function to be added into TextVectorization\n",
    "* Cleaning the text\n",
    "* Removing punctuation\n",
    "* Lower casing"
   ]
  },
  {
   "cell_type": "code",
   "execution_count": 8,
   "metadata": {},
   "outputs": [],
   "source": [
    "# Stripping HTML and special characters\n",
    "def custom_standardization(input_data):\n",
    "    lowercase = tf.strings.lower(input_data)\n",
    "    stripped_html =tf.strings.regex_replace(lowercase,  '<br />', ' ')\n",
    "    return tf.strings.regex_replace(stripped_html, '[%s]' % re.escape(string.punctuation),'')"
   ]
  },
  {
   "cell_type": "code",
   "execution_count": 9,
   "metadata": {},
   "outputs": [],
   "source": [
    "max_features = 15000\n",
    "sequence_length = 250\n",
    "vectorize_layer = TextVectorization(standardize=custom_standardization,\n",
    "                                    max_tokens=max_features,\n",
    "                                    output_mode='int',\n",
    "                                    output_sequence_length=sequence_length)"
   ]
  },
  {
   "cell_type": "code",
   "execution_count": 10,
   "metadata": {},
   "outputs": [],
   "source": [
    "# Splitting and vectorizing just the text data and not the label\n",
    "train_text = raw_train_data.map(lambda x,y:x)\n",
    "vectorize_layer.adapt(train_text)"
   ]
  },
  {
   "cell_type": "code",
   "execution_count": 11,
   "metadata": {
    "code_folding": []
   },
   "outputs": [],
   "source": [
    "# Vectorizing text and \n",
    "def vectorize_text(text, label):\n",
    "    text = tf.expand_dims(text, -1)\n",
    "    return vectorize_layer(text), label"
   ]
  },
  {
   "cell_type": "code",
   "execution_count": 12,
   "metadata": {},
   "outputs": [
    {
     "name": "stdout",
     "output_type": "stream",
     "text": [
      "Question tf.Tensor(b'\"i want to install picamera but i get this error: when i try to run \"\"pip install --user picamera\"\" this command on cmd os(window). ..it throws the following error. anyone here help me?\"\\n', shape=(), dtype=string)\n",
      "Label python\n",
      "Vectorization (<tf.Tensor: shape=(1, 250), dtype=int64, numpy=\n",
      "array([[   3,   45,    4,  971,    1,   27,    3,   41,   13,   64,   46,\n",
      "           3,  128,    4,  139, 3244,  971,  100,    1,   13,  320,   36,\n",
      "        1006,    1,   11,  332,    2,  123,   64,  278,   96,  102,   75,\n",
      "           0,    0,    0,    0,    0,    0,    0,    0,    0,    0,    0,\n",
      "           0,    0,    0,    0,    0,    0,    0,    0,    0,    0,    0,\n",
      "           0,    0,    0,    0,    0,    0,    0,    0,    0,    0,    0,\n",
      "           0,    0,    0,    0,    0,    0,    0,    0,    0,    0,    0,\n",
      "           0,    0,    0,    0,    0,    0,    0,    0,    0,    0,    0,\n",
      "           0,    0,    0,    0,    0,    0,    0,    0,    0,    0,    0,\n",
      "           0,    0,    0,    0,    0,    0,    0,    0,    0,    0,    0,\n",
      "           0,    0,    0,    0,    0,    0,    0,    0,    0,    0,    0,\n",
      "           0,    0,    0,    0,    0,    0,    0,    0,    0,    0,    0,\n",
      "           0,    0,    0,    0,    0,    0,    0,    0,    0,    0,    0,\n",
      "           0,    0,    0,    0,    0,    0,    0,    0,    0,    0,    0,\n",
      "           0,    0,    0,    0,    0,    0,    0,    0,    0,    0,    0,\n",
      "           0,    0,    0,    0,    0,    0,    0,    0,    0,    0,    0,\n",
      "           0,    0,    0,    0,    0,    0,    0,    0,    0,    0,    0,\n",
      "           0,    0,    0,    0,    0,    0,    0,    0,    0,    0,    0,\n",
      "           0,    0,    0,    0,    0,    0,    0,    0,    0,    0,    0,\n",
      "           0,    0,    0,    0,    0,    0,    0,    0,    0,    0,    0,\n",
      "           0,    0,    0,    0,    0,    0,    0,    0,    0,    0,    0,\n",
      "           0,    0,    0,    0,    0,    0,    0,    0,    0,    0,    0,\n",
      "           0,    0,    0,    0,    0,    0,    0,    0]])>, 3)\n"
     ]
    }
   ],
   "source": [
    "text_batch, label_batch = next(iter(raw_train_data))\n",
    "first_question, first_label = text_batch[0], label_batch[0]\n",
    "print('Question', first_question)\n",
    "print('Label', raw_train_data.class_names[first_label])\n",
    "print('Vectorization', vectorize_text(first_question, \n",
    "                                      first_label.numpy())) # numpy() returns just the numeric label value"
   ]
  },
  {
   "cell_type": "code",
   "execution_count": 13,
   "metadata": {},
   "outputs": [
    {
     "name": "stdout",
     "output_type": "stream",
     "text": [
      "Vocab 15000\n"
     ]
    }
   ],
   "source": [
    "# Double checking the vocab size defined earlier\n",
    "print('Vocab {}'.format(len(vectorize_layer.get_vocabulary())))"
   ]
  },
  {
   "cell_type": "code",
   "execution_count": 14,
   "metadata": {},
   "outputs": [],
   "source": [
    "# Mapping the vectorizer function to the datasets\n",
    "train_df = raw_train_data.map(vectorize_text)\n",
    "val_df = raw_val_data.map(vectorize_text)\n",
    "test_df = raw_test_data.map(vectorize_text)"
   ]
  },
  {
   "cell_type": "code",
   "execution_count": 15,
   "metadata": {},
   "outputs": [],
   "source": [
    "# cache keeps data on memory and prefetch overlaps the preprocessing and model execution\n",
    "AUTOTUNE = tf.data.AUTOTUNE\n",
    "\n",
    "train_df = train_df.cache().prefetch(buffer_size=AUTOTUNE)\n",
    "val_df = val_df.cache().prefetch(buffer_size=AUTOTUNE)\n",
    "test_df = test_df.cache().prefetch(buffer_size=AUTOTUNE)"
   ]
  },
  {
   "cell_type": "code",
   "execution_count": 16,
   "metadata": {},
   "outputs": [
    {
     "name": "stdout",
     "output_type": "stream",
     "text": [
      "Model: \"sequential\"\n",
      "_________________________________________________________________\n",
      "Layer (type)                 Output Shape              Param #   \n",
      "=================================================================\n",
      "embedding (Embedding)        (None, None, 256)         3840256   \n",
      "_________________________________________________________________\n",
      "dropout (Dropout)            (None, None, 256)         0         \n",
      "_________________________________________________________________\n",
      "global_average_pooling1d (Gl (None, 256)               0         \n",
      "_________________________________________________________________\n",
      "dropout_1 (Dropout)          (None, 256)               0         \n",
      "_________________________________________________________________\n",
      "dense (Dense)                (None, 4)                 1028      \n",
      "=================================================================\n",
      "Total params: 3,841,284\n",
      "Trainable params: 3,841,284\n",
      "Non-trainable params: 0\n",
      "_________________________________________________________________\n"
     ]
    }
   ],
   "source": [
    "# Building the model (playing around with dimension sizes)\n",
    "embedding_dim = 256\n",
    "\n",
    "model = tf.keras.Sequential([\n",
    "    layers.Embedding(max_features+1, embedding_dim),\n",
    "    layers.Dropout(0.3),\n",
    "    layers.GlobalAveragePooling1D(),\n",
    "    layers.Dropout(0.3),\n",
    "    layers.Dense(4)\n",
    "])\n",
    "\n",
    "model.summary()"
   ]
  },
  {
   "cell_type": "code",
   "execution_count": 17,
   "metadata": {},
   "outputs": [],
   "source": [
    "# Compiling the mobel for multiclass classification \n",
    "model.compile(loss=losses.SparseCategoricalCrossentropy(from_logits=True),\n",
    "             optimizer='adam',metrics =['accuracy'])"
   ]
  },
  {
   "cell_type": "code",
   "execution_count": 18,
   "metadata": {
    "scrolled": true
   },
   "outputs": [
    {
     "name": "stdout",
     "output_type": "stream",
     "text": [
      "Epoch 1/15\n",
      "200/200 [==============================] - 9s 44ms/step - loss: 1.3688 - accuracy: 0.3515 - val_loss: 1.2917 - val_accuracy: 0.4550\n",
      "Epoch 2/15\n",
      "200/200 [==============================] - 7s 36ms/step - loss: 1.2258 - accuracy: 0.5478 - val_loss: 1.0729 - val_accuracy: 0.6231\n",
      "Epoch 3/15\n",
      "200/200 [==============================] - 7s 36ms/step - loss: 0.9931 - accuracy: 0.6872 - val_loss: 0.8857 - val_accuracy: 0.7256\n",
      "Epoch 4/15\n",
      "200/200 [==============================] - 7s 36ms/step - loss: 0.8040 - accuracy: 0.7688 - val_loss: 0.7661 - val_accuracy: 0.7550\n",
      "Epoch 5/15\n",
      "200/200 [==============================] - 7s 36ms/step - loss: 0.6739 - accuracy: 0.8055 - val_loss: 0.6893 - val_accuracy: 0.7688\n",
      "Epoch 6/15\n",
      "200/200 [==============================] - 7s 37ms/step - loss: 0.5821 - accuracy: 0.8339 - val_loss: 0.6369 - val_accuracy: 0.7713\n",
      "Epoch 7/15\n",
      "200/200 [==============================] - 7s 36ms/step - loss: 0.5108 - accuracy: 0.8557 - val_loss: 0.5988 - val_accuracy: 0.7862\n",
      "Epoch 8/15\n",
      "200/200 [==============================] - 7s 37ms/step - loss: 0.4501 - accuracy: 0.8796 - val_loss: 0.5713 - val_accuracy: 0.7944\n",
      "Epoch 9/15\n",
      "200/200 [==============================] - 7s 37ms/step - loss: 0.4008 - accuracy: 0.8974 - val_loss: 0.5503 - val_accuracy: 0.8000\n",
      "Epoch 10/15\n",
      "200/200 [==============================] - 7s 37ms/step - loss: 0.3610 - accuracy: 0.9059 - val_loss: 0.5349 - val_accuracy: 0.7994\n",
      "Epoch 11/15\n",
      "200/200 [==============================] - 7s 37ms/step - loss: 0.3266 - accuracy: 0.9178 - val_loss: 0.5242 - val_accuracy: 0.7994\n",
      "Epoch 12/15\n",
      "200/200 [==============================] - 8s 38ms/step - loss: 0.2960 - accuracy: 0.9278 - val_loss: 0.5154 - val_accuracy: 0.8031\n",
      "Epoch 13/15\n",
      "200/200 [==============================] - 7s 37ms/step - loss: 0.2696 - accuracy: 0.9354 - val_loss: 0.5105 - val_accuracy: 0.7987\n",
      "Epoch 14/15\n",
      "200/200 [==============================] - 8s 38ms/step - loss: 0.2444 - accuracy: 0.9406 - val_loss: 0.5065 - val_accuracy: 0.7994\n",
      "Epoch 15/15\n",
      "200/200 [==============================] - 8s 38ms/step - loss: 0.2240 - accuracy: 0.9478 - val_loss: 0.5047 - val_accuracy: 0.7994\n"
     ]
    }
   ],
   "source": [
    "# Training the model on 30 epochs\n",
    "epochs = 15\n",
    "\n",
    "history = model.fit(train_df,\n",
    "                    validation_data = val_df,\n",
    "                    epochs=epochs)"
   ]
  },
  {
   "cell_type": "code",
   "execution_count": 19,
   "metadata": {},
   "outputs": [
    {
     "name": "stdout",
     "output_type": "stream",
     "text": [
      "250/250 [==============================] - 4s 14ms/step - loss: 0.5336 - accuracy: 0.8002\n",
      "Loss:  0.5336364507675171\n",
      "Accuracy:  0.8002499938011169\n"
     ]
    }
   ],
   "source": [
    "loss, accuracy = model.evaluate(test_df)\n",
    "print('Loss: ', loss)\n",
    "print('Accuracy: ', accuracy)"
   ]
  },
  {
   "cell_type": "code",
   "execution_count": 20,
   "metadata": {},
   "outputs": [
    {
     "data": {
      "text/plain": [
       "dict_keys(['loss', 'accuracy', 'val_loss', 'val_accuracy'])"
      ]
     },
     "execution_count": 20,
     "metadata": {},
     "output_type": "execute_result"
    }
   ],
   "source": [
    "history_dict = history.history\n",
    "history_dict.keys()"
   ]
  },
  {
   "cell_type": "markdown",
   "metadata": {},
   "source": [
    "# Plotting the Loss "
   ]
  },
  {
   "cell_type": "code",
   "execution_count": 21,
   "metadata": {},
   "outputs": [
    {
     "data": {
      "image/png": "[encoded data removed]",
      "text/plain": [
       "<Figure size 576x288 with 1 Axes>"
      ]
     },
     "metadata": {
      "needs_background": "light"
     },
     "output_type": "display_data"
    }
   ],
   "source": [
    "acc = history_dict['accuracy']\n",
    "val_acc = history_dict['val_accuracy']\n",
    "loss = history_dict['loss']\n",
    "val_loss = history_dict['val_loss']\n",
    "\n",
    "epochs = range(1, len(acc)+1)\n",
    "\n",
    "plt.figure(figsize=(8,4))\n",
    "plt.plot(epochs, loss, label='Training loss')\n",
    "plt.plot(epochs, val_loss, label='Validation loss')\n",
    "plt.title('Loss vs Val Loss')\n",
    "plt.xlabel('Epochs')\n",
    "plt.ylabel('Loss')\n",
    "plt.legend()\n",
    "plt.show()"
   ]
  },
  {
   "cell_type": "markdown",
   "metadata": {},
   "source": [
    "# Plotting The Accuracy"
   ]
  },
  {
   "cell_type": "code",
   "execution_count": 22,
   "metadata": {},
   "outputs": [
    {
     "data": {
      "image/png": "[encoded data removed]",
      "text/plain": [
       "<Figure size 576x288 with 1 Axes>"
      ]
     },
     "metadata": {
      "needs_background": "light"
     },
     "output_type": "display_data"
    }
   ],
   "source": [
    "plt.figure(figsize=(8,4))\n",
    "plt.plot(epochs, acc, label='Training Acc')\n",
    "plt.plot(epochs, val_acc, label='Validation Acc')\n",
    "plt.title('Acc vs Val Acc')\n",
    "plt.xlabel('Epochs')\n",
    "plt.ylabel('Acc')\n",
    "plt.legend()\n",
    "plt.show()"
   ]
  }
 ],
 "metadata": {
  "kernelspec": {
   "display_name": "Python 3",
   "language": "python",
   "name": "python3"
  },
  "language_info": {
   "codemirror_mode": {
    "name": "ipython",
    "version": 3
   },
   "file_extension": ".py",
   "mimetype": "text/x-python",
   "name": "python",
   "nbconvert_exporter": "python",
   "pygments_lexer": "ipython3",
   "version": "3.7.6"
  }
 },
 "nbformat": 4,
 "nbformat_minor": 4
}
