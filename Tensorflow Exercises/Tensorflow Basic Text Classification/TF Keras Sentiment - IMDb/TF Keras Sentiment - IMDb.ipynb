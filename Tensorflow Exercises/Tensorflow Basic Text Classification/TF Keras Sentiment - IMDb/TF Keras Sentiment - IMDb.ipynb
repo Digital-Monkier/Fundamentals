{
 "cells": [
  {
   "cell_type": "code",
   "execution_count": 37,
   "metadata": {},
   "outputs": [],
   "source": [
    "import matplotlib.pyplot as plt\n",
    "import os\n",
    "import re\n",
    "import shutil\n",
    "import string\n",
    "import tensorflow as tf\n",
    "\n",
    "from tensorflow.keras import layers\n",
    "from tensorflow.keras import losses\n",
    "from tensorflow.keras import preprocessing\n",
    "from tensorflow.keras.layers.experimental.preprocessing import TextVectorization"
   ]
  },
  {
   "cell_type": "code",
   "execution_count": 38,
   "metadata": {},
   "outputs": [
    {
     "name": "stdout",
     "output_type": "stream",
     "text": [
      "2.4.1\n"
     ]
    }
   ],
   "source": [
    "print(tf.__version__)"
   ]
  },
  {
   "cell_type": "markdown",
   "metadata": {},
   "source": [
    "# Download and explore the IMDB dataset"
   ]
  },
  {
   "cell_type": "code",
   "execution_count": 39,
   "metadata": {},
   "outputs": [],
   "source": [
    "url = \"https://ai.stanford.edu/~amaas/data/sentiment/aclImdb_v1.tar.gz\"\n",
    "\n",
    "dataset = tf.keras.utils.get_file(\"aclImdb_v1\", url,\n",
    "                              untar=True, cache_dir='.',\n",
    "                              cache_subdir='')\n",
    "\n",
    "dataset_dir = os.path.join(os.path.dirname(dataset), 'aclImdb')"
   ]
  },
  {
   "cell_type": "code",
   "execution_count": 40,
   "metadata": {},
   "outputs": [
    {
     "data": {
      "text/plain": [
       "['imdbEr.txt', 'test', 'imdb.vocab', 'README', 'train']"
      ]
     },
     "execution_count": 40,
     "metadata": {},
     "output_type": "execute_result"
    }
   ],
   "source": [
    "# Looking into at directory contents\n",
    "os.listdir(dataset_dir)"
   ]
  },
  {
   "cell_type": "code",
   "execution_count": 41,
   "metadata": {},
   "outputs": [
    {
     "data": {
      "text/plain": [
       "['urls_unsup.txt',\n",
       " 'neg',\n",
       " 'urls_pos.txt',\n",
       " 'unsup',\n",
       " 'urls_neg.txt',\n",
       " 'pos',\n",
       " 'unsupBow.feat',\n",
       " 'labeledBow.feat']"
      ]
     },
     "execution_count": 41,
     "metadata": {},
     "output_type": "execute_result"
    }
   ],
   "source": [
    "# Creating train directory\n",
    "train_dir = os.path.join(dataset_dir, 'train')\n",
    "os.listdir(train_dir)"
   ]
  },
  {
   "cell_type": "code",
   "execution_count": 42,
   "metadata": {},
   "outputs": [
    {
     "name": "stdout",
     "output_type": "stream",
     "text": [
      "Rachel Griffiths writes and directs this award winning short film. A heartwarming story about coping with grief and cherishing the memory of those we've loved and lost. Although, only 15 minutes long, Griffiths manages to capture so much emotion and truth onto film in the short space of time. Bud Tingwell gives a touching performance as Will, a widower struggling to cope with his wife's death. Will is confronted by the harsh reality of loneliness and helplessness as he proceeds to take care of Ruth's pet cow, Tulip. The film displays the grief and responsibility one feels for those they have loved and lost. Good cinematography, great direction, and superbly acted. It will bring tears to all those who have lost a loved one, and survived.\n"
     ]
    }
   ],
   "source": [
    "# The aclImdb/train/pos and /neg directory contains thousands of text files each one a single review\n",
    "sample_file = os.path.join(train_dir, 'pos/1181_9.txt')\n",
    "with open(sample_file) as f:\n",
    "    print(f.read())"
   ]
  },
  {
   "cell_type": "markdown",
   "metadata": {},
   "source": [
    "# Load the dataset"
   ]
  },
  {
   "cell_type": "code",
   "execution_count": 43,
   "metadata": {},
   "outputs": [],
   "source": [
    "# Loading the data off the disk and into two folder class_a and class_b to prepare for training \n",
    "remove_dir = os.path.join(train_dir, 'unsup')\n",
    "shutil.rmtree(remove_dir)"
   ]
  },
  {
   "cell_type": "code",
   "execution_count": 44,
   "metadata": {},
   "outputs": [
    {
     "name": "stdout",
     "output_type": "stream",
     "text": [
      "Found 25000 files belonging to 2 classes.\n",
      "Using 20000 files for training.\n"
     ]
    }
   ],
   "source": [
    "# Using text_dataset_from_directory utility to create a labelled tf.data.Dataset \n",
    "# with train/validation/test sets from the loaded aclImdb/train directory\n",
    "# The utlity locates and quantifies the files selecting 80% for training \n",
    "batch_size = 32\n",
    "seed = 2020\n",
    "\n",
    "raw_train_ds = tf.keras.preprocessing.text_dataset_from_directory(\\\n",
    "                                                                  'aclImdb/train', \n",
    "                                                                  batch_size=batch_size,\n",
    "                                                                  validation_split = 0.2, #specifying split\n",
    "                                                                  subset ='training', # specifying the portion used\n",
    "                                                                  seed = seed)"
   ]
  },
  {
   "cell_type": "code",
   "execution_count": 45,
   "metadata": {
    "scrolled": true
   },
   "outputs": [
    {
     "name": "stdout",
     "output_type": "stream",
     "text": [
      "Review b\"This is one of the best movies I've ever seen. It has very good acting by Hanks, Newman, and everyone else. Definitely Jude Law's best performance. The cinematography is excellent, the editing is about as good, and includes a great original score that really fits in with the mood of the movie. The production design is also a factor in what makes this movie special. To me, it takes a lot to beat Godfather, but the fantastic cinematography displayed wins this contest. Definitely a Best Picture nominee in my book.\"\n",
      "Label 1 \n",
      "\n",
      "Review b\"New York, I Love You, or rather should-be-titled Manhattan, I Love Looking At Your People In Sometimes Love, is a precise example of the difference between telling a story and telling a situation. Case in point, look at two of the segments in the film, one where Ethan Hawke lights a cigarette for a woman on a street and proceeds to chat her up with obnoxious sexy-talk, and another with Orlando Bloom trying to score a movie with an incredulous demand from his director to read two Dostoyevsky books. While the latter isn't a great story by any stretch, it's at least something that has a beginning, middle and end, as the composer tries to score, gets Dostoyevky dumped in his lap, and in the end gets some help (and maybe something more) from a girl he's been talking to as a liaison between him and the director. The Ethan Hawke scene, however, is like nothing, and feels like it, like a fluke added in or directed by a filmmaker phoning it in (or, for that matter, Hawke with a combo of Before Sunrise and Reality Bites).<br /><br />What's irksome about the film overall is seeing the few stories that do work really well go up against the one or two possible 'stories' and then the rest of the situations that unfold that are made to connect or overlap with one another (i.e. bits involving Bradley Cooper, Drea DeMatteo, Hayden Christensen, Andy Garcia, James Caan, Natalie Portman, etc). It's not even so much that the film- set practically always in *Manhattan* and not the New York of Queens or Staten Island or the Bronx (not even, say, Harlem or Washington Heights)- lacks a good deal of diversity, since there is some. It's the lack of imagination that one found in spades, for better or worse, in Paris J'taime. It's mostly got little to do with New York, except for passing references, and at its worst (the Julie Christie/Shia LaBeouf segment) it's incomprehensible on a level that is appalling.<br /><br />So, basically, wait for TV, and do your best to dip in and out of the film - in, that is, for three scenes: the aforementioned Bloom/Christina Ricci segment which is charming; the Brett Ratner directed segment (yes, X-Men 3 Brett Ratner) with a very funny story of a teen taking a girl in a wheelchair to the prom only to come upon a great big twist; and Eli Wallach and Cloris Leachman as an adorable quite old couple walking along in Brooklyn on their 67th wedding anniversary. Everything else can be missed, even Natalie Portman's directorial debut, and the return of a Hughes brother (only one, Allan) to the screen. A mixed bag is putting it lightly: it's like having to search through a bag of mixed nuts full of crappy peanuts to find the few almonds left.\"\n",
      "Label 0 \n",
      "\n",
      "Review b'Was convincing the world that he didn\\'t exist...<br /><br />This is a line that is probably remembered by a lot of people. It\\'s from The Usual Suspects of course in relation to Kaiser Gold..I mean Sose..<br /><br />I got another one like that: -The dumbest trick a director ever pulled was trying to convince an audience he actually had a storyline-<br /><br />This movie is one of the saddest pieces of film-making I have seen in a long time. It starts out so well, with really fantastic cinematography, great acting and a very smart premise. But alas, the only way this movie is heading is on a course of self-destruction. And it does so, not by a single blow but with nagging little wrist-cuts.<br /><br />Pay no attention to the comments here that marvel at the fact that they found a way to explain this donut. With enough booze in my brain I would probably be capable of explaining the very existence of mankind to a very plausible degree. I have seen and read about a dozen totally different ways people explained the story. And they vary from a story set totally in someones head, playing chess with himself, to a cunning way for a criminal to play out his enemies by means resembling chess gaming.<br /><br />And that\\'s all jolly swell. But at the same time it is a painful giveaway that there is something terribly wrong with this story. And apart from that, it is in any case a blunt rip off of a score of movies and books like \"Fight Club, Kill Bill, Casino, The Usual Suspects, Snatch, Magnolia and Shachnovelle. And we are not dealing with kind borrowing here, it\\'s a blatant robbery.<br /><br />What ultimately goes wrong here in this movie is that the storyline swirls like a drunk bum on speed. If this movie was a roller-coaster ride, you\\'d have crashed into the attraction next to it shorty after take off. There are so many twists in this movie which will never be resolved, that if it was a cocktail, you\\'d be needing a life supply of hurl-buckets to work of the nausea after drinking it. Nothing is ever explained and when you finally get some grasp of the direction you think it\\'s going, you get pulled in yet another one.<br /><br />I guess this story wasn\\'t going anywhere on paper and Ritchy must have thought that is was awesome to make a movie out of it anyway, being the next David Lynch or something.<br /><br />1/10 for totally violating one\\'s own work (Ritchy: seek professional help). What could have easily been a gem instead becomes a contrived art-piece, food for pseudo intellectuals to debate on at sundayafternoon debating-clubs. <br /><br />Spare your soul and stomach, avoid at all cost!'\n",
      "Label 0 \n",
      "\n"
     ]
    }
   ],
   "source": [
    "# Lets print some tf.data examples using .numpy() convert from tf.data\n",
    "for text_batch, label_batch in raw_train_ds.take(1):\n",
    "    for i in range(3):\n",
    "        print('Review', text_batch.numpy()[i])\n",
    "        print('Label', label_batch.numpy()[i], '\\n')"
   ]
  },
  {
   "cell_type": "code",
   "execution_count": 46,
   "metadata": {},
   "outputs": [
    {
     "name": "stdout",
     "output_type": "stream",
     "text": [
      "Label 0 corresponds to neg\n",
      "Label 1 corresponds to pos\n"
     ]
    }
   ],
   "source": [
    "print('Label 0 corresponds to', raw_train_ds.class_names[0])\n",
    "print('Label 1 corresponds to', raw_train_ds.class_names[1])"
   ]
  },
  {
   "cell_type": "code",
   "execution_count": 47,
   "metadata": {},
   "outputs": [
    {
     "name": "stdout",
     "output_type": "stream",
     "text": [
      "Found 25000 files belonging to 2 classes.\n",
      "Using 5000 files for validation.\n"
     ]
    }
   ],
   "source": [
    "# Using text_dataset_from_directory utility to create a labelled tf.data.Dataset \n",
    "# with train/validation/test sets from the loaded aclImdb/train directory\n",
    "# The utlity locates and quantifies the files selecting 20% for validation \n",
    "raw_val_ds = tf.keras.preprocessing.text_dataset_from_directory(\\\n",
    "                                                               'aclImdb/train',\n",
    "                                                               batch_size = batch_size,\n",
    "                                                               validation_split=0.2,\n",
    "                                                               subset='validation', # Specifying the portion used\n",
    "                                                               seed=seed)"
   ]
  },
  {
   "cell_type": "code",
   "execution_count": 48,
   "metadata": {},
   "outputs": [
    {
     "name": "stdout",
     "output_type": "stream",
     "text": [
      "Found 25000 files belonging to 2 classes.\n"
     ]
    }
   ],
   "source": [
    "# Specifying the entire dataset for testing dont set split, subset, seed\n",
    "raw_test_ds = tf.keras.preprocessing.text_dataset_from_directory(\\\n",
    "                                                                 'aclImdb/test',\n",
    "                                                                  batch_size = batch_size)\n",
    "                                                                 \n"
   ]
  },
  {
   "cell_type": "markdown",
   "metadata": {},
   "source": [
    "# Prepare the dataset for training\n",
    "* Removing HTML requires custom standardization function to be added into TextVectorization\n",
    "* Cleaning the text\n",
    "* Removing punctuation\n",
    "* Lower casing"
   ]
  },
  {
   "cell_type": "code",
   "execution_count": 49,
   "metadata": {},
   "outputs": [],
   "source": [
    "# Using tensorflows tf.strings API call with regex_replace\n",
    "def custom_standardization(input_data):\n",
    "    # Lowercase then regex replace\n",
    "    lowercase = tf.strings.lower(input_data)\n",
    "    stripped_html = tf.strings.regex_replace(lowercase, '<br />', ' ')\n",
    "    # Returning stripped html and further stripping special characters\n",
    "    return tf.strings.regex_replace(stripped_html,'[%s]' % re.escape(string.punctuation),'')"
   ]
  },
  {
   "cell_type": "code",
   "execution_count": 50,
   "metadata": {},
   "outputs": [],
   "source": [
    "# Creating a TextVectorization layer to standardize, tokenize, and vectorize the data\n",
    "# Set the output_mode to int to create unique integer indices for each token.\n",
    "max_features = 10000\n",
    "sequence_length = 250 # Maximum length (truncation/padding)\n",
    "\n",
    "vectorize_layer = TextVectorization(\\\n",
    "                                   standardize=custom_standardization,\n",
    "                                   max_tokens = max_features,\n",
    "                                   output_mode = 'int',\n",
    "                                   output_sequence_length=sequence_length)\n"
   ]
  },
  {
   "cell_type": "code",
   "execution_count": 51,
   "metadata": {},
   "outputs": [],
   "source": [
    "# Adapt fits the vectorize_layer to the dataset\n",
    "# Removing the labels from the training tf.dataset \n",
    "train_text = raw_train_ds.map(lambda x, y:x) # removes labels \n",
    "# Fitting the vectorizing layer to train_text\n",
    "vectorize_layer.adapt(train_text)"
   ]
  },
  {
   "cell_type": "code",
   "execution_count": 52,
   "metadata": {},
   "outputs": [],
   "source": [
    "#Custom function to display the result of the vectorization\n",
    "def vectorize_text(text, label):\n",
    "    text = tf.expand_dims(text, -1)\n",
    "    return vectorize_layer(text), label # Returns expanded text and from the predefined vectorization layer"
   ]
  },
  {
   "cell_type": "code",
   "execution_count": 53,
   "metadata": {},
   "outputs": [
    {
     "name": "stdout",
     "output_type": "stream",
     "text": [
      "Review tf.Tensor(b\"I am not a parent, neither am I a male. But I was able to identify with every character's heartaches and pains.<br /><br />This is a movie teenagers should watch. Maybe that way they will start appreciating the value of family again. I'm sorry for those that don't understand the value of love, family and friendship.<br /><br />It was very interesting to watch Patrick Duffy in a different role than that of Bobby Ewing. And it is great to see a 19 year old Ben Affleck giving his best in a moving and sincere performance. He showed at an early age, that he is capable of heartfelt drama. He should be offered more serious roles. Note Hollywoodland... his first serious role in years and he went out and won Best Actor at the Venice Festival in 2006.<br /><br />This movie can be appreciated by people of all ages. Maybe shouldn't be watched by children under 10 because they might get scared that the same may happen to their families, but I recommend it to the entire family.<br /><br />I bought this movie on DVD and have watched it with friends many times. Because it portrays the values that are important in life.\", shape=(), dtype=string)\n",
      "label pos\n",
      "Vectorization (<tf.Tensor: shape=(1, 250), dtype=int64, numpy=\n",
      "array([[  10,  236,   21,    3, 4379, 1048,  236,   10,    3,  955,   18,\n",
      "          10,   13,  493,    6, 3549,   16,  171,  101,    1,    4, 7206,\n",
      "          11,    7,    3,   17, 2219,  138,  103,  276,   12,   93,   34,\n",
      "          77,  363,    1,    2, 1134,    5,  222,  169,  141,  815,   15,\n",
      "         144,   12,   89,  373,    2, 1134,    5,  112,  222,    4, 1791,\n",
      "           9,   13,   52,  214,    6,  103, 2393,    1,    8,    3,  266,\n",
      "         212,   71,   12,    5, 3616,    1,    4,    9,    7,   83,    6,\n",
      "          67,    3, 6597,  332,  164,  979, 6714,  738,   24,  114,    8,\n",
      "           3,  722,    4, 4928,  230,   26, 1111,   30,   33,  397,  568,\n",
      "          12,   26,    7, 2073,    5, 5020,  474,   26,  138,   27, 2428,\n",
      "          50,  601,  536,  883,    1,   24,   84,  601,  212,    8,  143,\n",
      "           4,   26,  419,   45,    4, 1201,  114,  287,   30,    2,    1,\n",
      "        1367,    8, 3090,   11,   17,   68,   27, 2913,   32,   82,    5,\n",
      "          31, 2032,  276, 1566,   27,  289,   32,  478,  488,  298,   80,\n",
      "          34,  229,   76, 1722,   12,    2,  166,  194,  557,    6,   64,\n",
      "        2121,   18,   10,  366,    9,    6,    2,  403,  222,   10, 1213,\n",
      "          11,   17,   20,  292,    4,   25,  289,    9,   16,  331,  104,\n",
      "         206,   80,    9, 2182,    2, 1210,   12,   23,  662,    8,  118,\n",
      "           0,    0,    0,    0,    0,    0,    0,    0,    0,    0,    0,\n",
      "           0,    0,    0,    0,    0,    0,    0,    0,    0,    0,    0,\n",
      "           0,    0,    0,    0,    0,    0,    0,    0,    0,    0,    0,\n",
      "           0,    0,    0,    0,    0,    0,    0,    0,    0,    0,    0,\n",
      "           0,    0,    0,    0,    0,    0,    0,    0]])>, <tf.Tensor: shape=(), dtype=int32, numpy=1>)\n"
     ]
    }
   ],
   "source": [
    "text_batch, label_batch = next(iter(raw_train_ds))\n",
    "first_review, first_label = text_batch[0], label_batch[0]\n",
    "print('Review', first_review)\n",
    "print('label', raw_train_ds.class_names[first_label])\n",
    "print('Vectorization', vectorize_text(first_review, first_label))"
   ]
  },
  {
   "cell_type": "code",
   "execution_count": 54,
   "metadata": {},
   "outputs": [
    {
     "name": "stdout",
     "output_type": "stream",
     "text": [
      "Token No. 595 corresponds to the word please\n",
      "Token No. 6522 corresponds to the word nbc\n",
      "Vocab size: 10000\n"
     ]
    }
   ],
   "source": [
    "# Exploring the tokens using the vectorizer layers get_vocabulary()\n",
    "print('Token No. 595 corresponds to the word', vectorize_layer.get_vocabulary()[595])\n",
    "print('Token No. 6522 corresponds to the word', vectorize_layer.get_vocabulary()[6522])\n",
    "print('Vocab size: {}'.format(len(vectorize_layer.get_vocabulary())))"
   ]
  },
  {
   "cell_type": "code",
   "execution_count": 55,
   "metadata": {},
   "outputs": [],
   "source": [
    "# Applying the vectorize_text function/vectorize_layer on the train, validation, and test dataset\n",
    "\n",
    "train_df = raw_train_ds.map(vectorize_text) # Custom function only vectorizes text\n",
    "val_df = raw_val_ds.map(vectorize_text)\n",
    "test_df = raw_test_ds.map(vectorize_text)"
   ]
  },
  {
   "cell_type": "markdown",
   "metadata": {},
   "source": [
    "# Configure the dataset for performance"
   ]
  },
  {
   "cell_type": "code",
   "execution_count": 56,
   "metadata": {},
   "outputs": [],
   "source": [
    "# .cache() keeps data in memory after it's loaded off disk. This will ensure the dataset does not become a bottleneck \n",
    "# .prefetch() overlaps data preprocessing and model execution while training\n",
    "AUTOTUNE = tf.data.AUTOTUNE\n",
    "\n",
    "train_df = train_df.cache().prefetch(buffer_size=AUTOTUNE)\n",
    "val_df = val_df.cache().prefetch(buffer_size=AUTOTUNE)\n",
    "test_df = test_df.cache().prefetch(buffer_size=AUTOTUNE)\n"
   ]
  },
  {
   "cell_type": "markdown",
   "metadata": {},
   "source": [
    "# Create The Model"
   ]
  },
  {
   "cell_type": "code",
   "execution_count": 57,
   "metadata": {},
   "outputs": [
    {
     "name": "stdout",
     "output_type": "stream",
     "text": [
      "Model: \"sequential_2\"\n",
      "_________________________________________________________________\n",
      "Layer (type)                 Output Shape              Param #   \n",
      "=================================================================\n",
      "embedding_1 (Embedding)      (None, None, 16)          160016    \n",
      "_________________________________________________________________\n",
      "dropout_2 (Dropout)          (None, None, 16)          0         \n",
      "_________________________________________________________________\n",
      "global_average_pooling1d_1 ( (None, 16)                0         \n",
      "_________________________________________________________________\n",
      "dropout_3 (Dropout)          (None, 16)                0         \n",
      "_________________________________________________________________\n",
      "dense_1 (Dense)              (None, 1)                 17        \n",
      "=================================================================\n",
      "Total params: 160,033\n",
      "Trainable params: 160,033\n",
      "Non-trainable params: 0\n",
      "_________________________________________________________________\n"
     ]
    }
   ],
   "source": [
    "# Create The Model\n",
    "\n",
    "embedding_dim = 16\n",
    "\n",
    "model = tf.keras.Sequential([\n",
    "    layers.Embedding(max_features+1, embedding_dim), # takes the integer-encoded reviews and looks up an embedding vector for each word-index\n",
    "    layers.Dropout(0.2),\n",
    "    layers.GlobalAveragePooling1D(), # returns a fixed-length output vector for each example by averaging over the sequence dimension\n",
    "    layers.Dropout(0.2),\n",
    "    layers.Dense(1)\n",
    "])\n",
    "\n",
    "model.summary()"
   ]
  },
  {
   "cell_type": "markdown",
   "metadata": {},
   "source": [
    "# Loss function and optimizer"
   ]
  },
  {
   "cell_type": "code",
   "execution_count": 58,
   "metadata": {},
   "outputs": [],
   "source": [
    "model.compile(loss=losses.BinaryCrossentropy(from_logits=True),\n",
    "             optimizer='adam',\n",
    "             metrics = tf.metrics.BinaryAccuracy(threshold=0.0))"
   ]
  },
  {
   "cell_type": "markdown",
   "metadata": {},
   "source": [
    "# Train the model"
   ]
  },
  {
   "cell_type": "code",
   "execution_count": 59,
   "metadata": {},
   "outputs": [
    {
     "name": "stdout",
     "output_type": "stream",
     "text": [
      "Epoch 1/15\n",
      "625/625 [==============================] - 10s 16ms/step - loss: 0.6825 - binary_accuracy: 0.6158 - val_loss: 0.6156 - val_binary_accuracy: 0.7696\n",
      "Epoch 2/15\n",
      "625/625 [==============================] - 2s 4ms/step - loss: 0.5798 - binary_accuracy: 0.7905 - val_loss: 0.4989 - val_binary_accuracy: 0.8212\n",
      "Epoch 3/15\n",
      "625/625 [==============================] - 2s 3ms/step - loss: 0.4636 - binary_accuracy: 0.8426 - val_loss: 0.4224 - val_binary_accuracy: 0.8438\n",
      "Epoch 4/15\n",
      "625/625 [==============================] - 2s 3ms/step - loss: 0.3876 - binary_accuracy: 0.8689 - val_loss: 0.3780 - val_binary_accuracy: 0.8548\n",
      "Epoch 5/15\n",
      "625/625 [==============================] - 2s 3ms/step - loss: 0.3393 - binary_accuracy: 0.8813 - val_loss: 0.3508 - val_binary_accuracy: 0.8622\n",
      "Epoch 6/15\n",
      "625/625 [==============================] - 2s 3ms/step - loss: 0.3051 - binary_accuracy: 0.8913 - val_loss: 0.3325 - val_binary_accuracy: 0.8692\n",
      "Epoch 7/15\n",
      "625/625 [==============================] - 2s 3ms/step - loss: 0.2801 - binary_accuracy: 0.8989 - val_loss: 0.3201 - val_binary_accuracy: 0.8728\n",
      "Epoch 8/15\n",
      "625/625 [==============================] - 2s 3ms/step - loss: 0.2584 - binary_accuracy: 0.9056 - val_loss: 0.3113 - val_binary_accuracy: 0.8744\n",
      "Epoch 9/15\n",
      "625/625 [==============================] - 2s 3ms/step - loss: 0.2414 - binary_accuracy: 0.9120 - val_loss: 0.3050 - val_binary_accuracy: 0.8780\n",
      "Epoch 10/15\n",
      "625/625 [==============================] - 2s 3ms/step - loss: 0.2267 - binary_accuracy: 0.9189 - val_loss: 0.3006 - val_binary_accuracy: 0.8792\n",
      "Epoch 11/15\n",
      "625/625 [==============================] - 2s 4ms/step - loss: 0.2138 - binary_accuracy: 0.9243 - val_loss: 0.2976 - val_binary_accuracy: 0.8810\n",
      "Epoch 12/15\n",
      "625/625 [==============================] - 2s 4ms/step - loss: 0.2007 - binary_accuracy: 0.9281 - val_loss: 0.2962 - val_binary_accuracy: 0.8806\n",
      "Epoch 13/15\n",
      "625/625 [==============================] - 2s 3ms/step - loss: 0.1906 - binary_accuracy: 0.9328 - val_loss: 0.2954 - val_binary_accuracy: 0.8808\n",
      "Epoch 14/15\n",
      "625/625 [==============================] - 2s 3ms/step - loss: 0.1810 - binary_accuracy: 0.9362 - val_loss: 0.2960 - val_binary_accuracy: 0.8822\n",
      "Epoch 15/15\n",
      "625/625 [==============================] - 2s 3ms/step - loss: 0.1729 - binary_accuracy: 0.9411 - val_loss: 0.2977 - val_binary_accuracy: 0.8832\n"
     ]
    }
   ],
   "source": [
    "epochs = 15\n",
    "\n",
    "history = model.fit(train_df,\n",
    "                    validation_data=val_df,\n",
    "                   epochs=epochs)"
   ]
  },
  {
   "cell_type": "markdown",
   "metadata": {},
   "source": [
    "# Evaluate the model"
   ]
  },
  {
   "cell_type": "code",
   "execution_count": 60,
   "metadata": {},
   "outputs": [
    {
     "name": "stdout",
     "output_type": "stream",
     "text": [
      "782/782 [==============================] - 12s 15ms/step - loss: 0.3146 - binary_accuracy: 0.8715\n",
      "Loss:  0.31460797786712646\n",
      "Accuracy:  0.8714799880981445\n"
     ]
    }
   ],
   "source": [
    "loss, accuracy = model.evaluate(test_df)\n",
    "print('Loss: ', loss)\n",
    "print('Accuracy: ', accuracy)"
   ]
  },
  {
   "cell_type": "markdown",
   "metadata": {},
   "source": [
    "# Create a plot of accuracy and loss over time"
   ]
  },
  {
   "cell_type": "code",
   "execution_count": 61,
   "metadata": {},
   "outputs": [
    {
     "data": {
      "text/plain": [
       "dict_keys(['loss', 'binary_accuracy', 'val_loss', 'val_binary_accuracy'])"
      ]
     },
     "execution_count": 61,
     "metadata": {},
     "output_type": "execute_result"
    }
   ],
   "source": [
    "# model.fit() returns a History object that contains a dictionary with everything that happened during training\n",
    "\n",
    "history_dict = history.history\n",
    "history_dict.keys()"
   ]
  },
  {
   "cell_type": "code",
   "execution_count": 62,
   "metadata": {},
   "outputs": [
    {
     "data": {
      "image/png": "[encoded data removed]",
      "text/plain": [
       "<Figure size 432x288 with 1 Axes>"
      ]
     },
     "metadata": {
      "needs_background": "light"
     },
     "output_type": "display_data"
    }
   ],
   "source": [
    "acc = history_dict['binary_accuracy']\n",
    "val_acc = history_dict['val_binary_accuracy']\n",
    "loss = history_dict['loss']\n",
    "val_loss = history_dict['val_loss']\n",
    "\n",
    "epochs = range(1, len(acc)+1)\n",
    "\n",
    "# Plot loss vs val_loss \n",
    "plt.plot(epochs, loss, 'bo', label ='Training Loss')\n",
    "plt.plot(epochs, val_loss, 'b', label ='Validation Loss')\n",
    "plt.title('loss vs val_loss')\n",
    "plt.xlabel('Epochs')\n",
    "plt.ylabel('Loss')\n",
    "plt.legend()\n",
    "plt.show()"
   ]
  },
  {
   "cell_type": "code",
   "execution_count": 63,
   "metadata": {},
   "outputs": [
    {
     "data": {
      "image/png": "[encoded data removed]",
      "text/plain": [
       "<Figure size 432x288 with 1 Axes>"
      ]
     },
     "metadata": {
      "needs_background": "light"
     },
     "output_type": "display_data"
    }
   ],
   "source": [
    "# Plot acc vs val acc \n",
    "plt.plot(epochs, acc, 'bo', label ='Training Acc')\n",
    "plt.plot(epochs, val_acc, 'b', label ='Validation Acc')\n",
    "plt.title('loss vs val_loss')\n",
    "plt.xlabel('Epochs')\n",
    "plt.ylabel('Acc')\n",
    "plt.legend()\n",
    "plt.show()"
   ]
  },
  {
   "cell_type": "markdown",
   "metadata": {},
   "source": [
    "# Export the model"
   ]
  },
  {
   "cell_type": "code",
   "execution_count": 64,
   "metadata": {},
   "outputs": [
    {
     "name": "stdout",
     "output_type": "stream",
     "text": [
      "782/782 [==============================] - 9s 11ms/step - loss: 0.3178 - accuracy: 0.8679\n",
      "0.8714799880981445\n"
     ]
    }
   ],
   "source": [
    "# Create a new model using the weights you just trained. Include the TextVectorization\n",
    "# layer inside your model so model is capable of processing raw strings\n",
    "\n",
    "\n",
    "export_model = tf.keras.Sequential([\n",
    "    vectorize_layer,model,layers.Activation('sigmoid')\n",
    "])\n",
    "\n",
    "export_model.compile(\\\n",
    "                    loss = losses.BinaryCrossentropy(from_logits=False),\n",
    "                    optimizer='adam', metrics=['accuracy'])\n",
    "\n",
    "# Testing with `raw_test_ds`, which yields raw strings\n",
    "loss, accuracy = export_model.evaluate(raw_test_ds)\n",
    "print(accuracy)"
   ]
  },
  {
   "cell_type": "markdown",
   "metadata": {},
   "source": [
    "# Inference on new data"
   ]
  },
  {
   "cell_type": "code",
   "execution_count": 65,
   "metadata": {},
   "outputs": [
    {
     "data": {
      "text/plain": [
       "array([[0.06495965],\n",
       "       [0.6943211 ],\n",
       "       [0.2578559 ]], dtype=float32)"
      ]
     },
     "execution_count": 65,
     "metadata": {},
     "output_type": "execute_result"
    }
   ],
   "source": [
    "example_reviews =[\n",
    "    'This movie sucks so bad its the worst',\n",
    "    'This movie is great I really enjoyed it',\n",
    "    'I like the actors but the story is really bad'\n",
    "]\n",
    "\n",
    "export_model.predict(example_reviews)"
   ]
  },
  {
   "cell_type": "code",
   "execution_count": null,
   "metadata": {},
   "outputs": [],
   "source": []
  }
 ],
 "metadata": {
  "kernelspec": {
   "display_name": "Python 3",
   "language": "python",
   "name": "python3"
  },
  "language_info": {
   "codemirror_mode": {
    "name": "ipython",
    "version": 3
   },
   "file_extension": ".py",
   "mimetype": "text/x-python",
   "name": "python",
   "nbconvert_exporter": "python",
   "pygments_lexer": "ipython3",
   "version": "3.7.6"
  }
 },
 "nbformat": 4,
 "nbformat_minor": 4
}
