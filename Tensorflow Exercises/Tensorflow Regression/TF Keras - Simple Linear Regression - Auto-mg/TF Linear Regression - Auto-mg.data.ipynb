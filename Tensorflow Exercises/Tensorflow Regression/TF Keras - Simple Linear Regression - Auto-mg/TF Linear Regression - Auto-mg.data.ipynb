{
 "cells": [
  {
   "cell_type": "code",
   "execution_count": 6,
   "metadata": {},
   "outputs": [],
   "source": [
    "import matplotlib.pyplot as plt\n",
    "import numpy as np\n",
    "import pandas as pd\n",
    "import seaborn as sns\n",
    "\n",
    "# Make numpy printouts easier to read.\n",
    "np.set_printoptions(precision=3, suppress=True)\n",
    "\n",
    "import tensorflow as tf\n",
    "\n",
    "from tensorflow import keras\n",
    "from tensorflow.keras import layers\n",
    "from tensorflow.keras.layers.experimental import preprocessing"
   ]
  },
  {
   "cell_type": "markdown",
   "metadata": {},
   "source": [
    "# Download and convert .data file and save to csv"
   ]
  },
  {
   "cell_type": "code",
   "execution_count": 7,
   "metadata": {},
   "outputs": [],
   "source": [
    "# url = 'http://archive.ics.uci.edu/ml/machine-learning-databases/auto-mpg/auto-mpg.data'\n",
    "# column_names = ['MPG', 'Cylinders', 'Displacement', 'Horsepower', 'Weight',\n",
    "#                 'Acceleration', 'Model Year', 'Origin']\n",
    "\n",
    "# raw_df = pd.read_csv(url, names=column_names,\n",
    "#                     na_values='?', comment ='\\t',\n",
    "#                     sep=' ', skipinitialspace = True)\n",
    "\n",
    "# raw_df.to_csv('auto-mg.csv', index=False)"
   ]
  },
  {
   "cell_type": "markdown",
   "metadata": {},
   "source": [
    "# Load and Inspect the data"
   ]
  },
  {
   "cell_type": "code",
   "execution_count": 8,
   "metadata": {},
   "outputs": [],
   "source": [
    "df = pd.read_csv('auto-mg.csv')"
   ]
  },
  {
   "cell_type": "code",
   "execution_count": 9,
   "metadata": {
    "scrolled": true
   },
   "outputs": [
    {
     "data": {
      "text/html": [
       "<div>\n",
       "<style scoped>\n",
       "    .dataframe tbody tr th:only-of-type {\n",
       "        vertical-align: middle;\n",
       "    }\n",
       "\n",
       "    .dataframe tbody tr th {\n",
       "        vertical-align: top;\n",
       "    }\n",
       "\n",
       "    .dataframe thead th {\n",
       "        text-align: right;\n",
       "    }\n",
       "</style>\n",
       "<table border=\"1\" class=\"dataframe\">\n",
       "  <thead>\n",
       "    <tr style=\"text-align: right;\">\n",
       "      <th></th>\n",
       "      <th>MPG</th>\n",
       "      <th>Cylinders</th>\n",
       "      <th>Displacement</th>\n",
       "      <th>Horsepower</th>\n",
       "      <th>Weight</th>\n",
       "      <th>Acceleration</th>\n",
       "      <th>Model Year</th>\n",
       "      <th>Origin</th>\n",
       "    </tr>\n",
       "  </thead>\n",
       "  <tbody>\n",
       "    <tr>\n",
       "      <th>0</th>\n",
       "      <td>18.0</td>\n",
       "      <td>8</td>\n",
       "      <td>307.0</td>\n",
       "      <td>130.0</td>\n",
       "      <td>3504.0</td>\n",
       "      <td>12.0</td>\n",
       "      <td>70</td>\n",
       "      <td>1</td>\n",
       "    </tr>\n",
       "    <tr>\n",
       "      <th>1</th>\n",
       "      <td>15.0</td>\n",
       "      <td>8</td>\n",
       "      <td>350.0</td>\n",
       "      <td>165.0</td>\n",
       "      <td>3693.0</td>\n",
       "      <td>11.5</td>\n",
       "      <td>70</td>\n",
       "      <td>1</td>\n",
       "    </tr>\n",
       "    <tr>\n",
       "      <th>2</th>\n",
       "      <td>18.0</td>\n",
       "      <td>8</td>\n",
       "      <td>318.0</td>\n",
       "      <td>150.0</td>\n",
       "      <td>3436.0</td>\n",
       "      <td>11.0</td>\n",
       "      <td>70</td>\n",
       "      <td>1</td>\n",
       "    </tr>\n",
       "    <tr>\n",
       "      <th>3</th>\n",
       "      <td>16.0</td>\n",
       "      <td>8</td>\n",
       "      <td>304.0</td>\n",
       "      <td>150.0</td>\n",
       "      <td>3433.0</td>\n",
       "      <td>12.0</td>\n",
       "      <td>70</td>\n",
       "      <td>1</td>\n",
       "    </tr>\n",
       "    <tr>\n",
       "      <th>4</th>\n",
       "      <td>17.0</td>\n",
       "      <td>8</td>\n",
       "      <td>302.0</td>\n",
       "      <td>140.0</td>\n",
       "      <td>3449.0</td>\n",
       "      <td>10.5</td>\n",
       "      <td>70</td>\n",
       "      <td>1</td>\n",
       "    </tr>\n",
       "  </tbody>\n",
       "</table>\n",
       "</div>"
      ],
      "text/plain": [
       "    MPG  Cylinders  Displacement  Horsepower  Weight  Acceleration  \\\n",
       "0  18.0          8         307.0       130.0  3504.0          12.0   \n",
       "1  15.0          8         350.0       165.0  3693.0          11.5   \n",
       "2  18.0          8         318.0       150.0  3436.0          11.0   \n",
       "3  16.0          8         304.0       150.0  3433.0          12.0   \n",
       "4  17.0          8         302.0       140.0  3449.0          10.5   \n",
       "\n",
       "   Model Year  Origin  \n",
       "0          70       1  \n",
       "1          70       1  \n",
       "2          70       1  \n",
       "3          70       1  \n",
       "4          70       1  "
      ]
     },
     "execution_count": 9,
     "metadata": {},
     "output_type": "execute_result"
    }
   ],
   "source": [
    "df.head()"
   ]
  },
  {
   "cell_type": "code",
   "execution_count": 10,
   "metadata": {},
   "outputs": [
    {
     "data": {
      "text/plain": [
       "MPG                 61.089611\n",
       "Cylinders            2.893415\n",
       "Displacement     10872.199152\n",
       "Horsepower        1481.569393\n",
       "Weight          717140.990526\n",
       "Acceleration         7.604848\n",
       "Model Year          13.672443\n",
       "Origin               0.643292\n",
       "dtype: float64"
      ]
     },
     "execution_count": 10,
     "metadata": {},
     "output_type": "execute_result"
    }
   ],
   "source": [
    "df.var()"
   ]
  },
  {
   "cell_type": "code",
   "execution_count": 11,
   "metadata": {},
   "outputs": [
    {
     "data": {
      "text/plain": [
       "MPG             0\n",
       "Cylinders       0\n",
       "Displacement    0\n",
       "Horsepower      6\n",
       "Weight          0\n",
       "Acceleration    0\n",
       "Model Year      0\n",
       "Origin          0\n",
       "dtype: int64"
      ]
     },
     "execution_count": 11,
     "metadata": {},
     "output_type": "execute_result"
    }
   ],
   "source": [
    "# Checking for NaN values\n",
    "df.isna().sum()"
   ]
  },
  {
   "cell_type": "code",
   "execution_count": 12,
   "metadata": {},
   "outputs": [
    {
     "data": {
      "text/html": [
       "<div>\n",
       "<style scoped>\n",
       "    .dataframe tbody tr th:only-of-type {\n",
       "        vertical-align: middle;\n",
       "    }\n",
       "\n",
       "    .dataframe tbody tr th {\n",
       "        vertical-align: top;\n",
       "    }\n",
       "\n",
       "    .dataframe thead th {\n",
       "        text-align: right;\n",
       "    }\n",
       "</style>\n",
       "<table border=\"1\" class=\"dataframe\">\n",
       "  <thead>\n",
       "    <tr style=\"text-align: right;\">\n",
       "      <th></th>\n",
       "      <th>MPG</th>\n",
       "      <th>Cylinders</th>\n",
       "      <th>Displacement</th>\n",
       "      <th>Horsepower</th>\n",
       "      <th>Weight</th>\n",
       "      <th>Acceleration</th>\n",
       "      <th>Model Year</th>\n",
       "      <th>Origin</th>\n",
       "    </tr>\n",
       "  </thead>\n",
       "  <tbody>\n",
       "    <tr>\n",
       "      <th>MPG</th>\n",
       "      <td>1.000000</td>\n",
       "      <td>-0.775396</td>\n",
       "      <td>-0.804203</td>\n",
       "      <td>-0.778427</td>\n",
       "      <td>-0.831741</td>\n",
       "      <td>0.420289</td>\n",
       "      <td>0.579267</td>\n",
       "      <td>0.563450</td>\n",
       "    </tr>\n",
       "    <tr>\n",
       "      <th>Cylinders</th>\n",
       "      <td>-0.775396</td>\n",
       "      <td>1.000000</td>\n",
       "      <td>0.950721</td>\n",
       "      <td>0.842983</td>\n",
       "      <td>0.896017</td>\n",
       "      <td>-0.505419</td>\n",
       "      <td>-0.348746</td>\n",
       "      <td>-0.562543</td>\n",
       "    </tr>\n",
       "    <tr>\n",
       "      <th>Displacement</th>\n",
       "      <td>-0.804203</td>\n",
       "      <td>0.950721</td>\n",
       "      <td>1.000000</td>\n",
       "      <td>0.897257</td>\n",
       "      <td>0.932824</td>\n",
       "      <td>-0.543684</td>\n",
       "      <td>-0.370164</td>\n",
       "      <td>-0.609409</td>\n",
       "    </tr>\n",
       "    <tr>\n",
       "      <th>Horsepower</th>\n",
       "      <td>-0.778427</td>\n",
       "      <td>0.842983</td>\n",
       "      <td>0.897257</td>\n",
       "      <td>1.000000</td>\n",
       "      <td>0.864538</td>\n",
       "      <td>-0.689196</td>\n",
       "      <td>-0.416361</td>\n",
       "      <td>-0.455171</td>\n",
       "    </tr>\n",
       "    <tr>\n",
       "      <th>Weight</th>\n",
       "      <td>-0.831741</td>\n",
       "      <td>0.896017</td>\n",
       "      <td>0.932824</td>\n",
       "      <td>0.864538</td>\n",
       "      <td>1.000000</td>\n",
       "      <td>-0.417457</td>\n",
       "      <td>-0.306564</td>\n",
       "      <td>-0.581024</td>\n",
       "    </tr>\n",
       "    <tr>\n",
       "      <th>Acceleration</th>\n",
       "      <td>0.420289</td>\n",
       "      <td>-0.505419</td>\n",
       "      <td>-0.543684</td>\n",
       "      <td>-0.689196</td>\n",
       "      <td>-0.417457</td>\n",
       "      <td>1.000000</td>\n",
       "      <td>0.288137</td>\n",
       "      <td>0.205873</td>\n",
       "    </tr>\n",
       "    <tr>\n",
       "      <th>Model Year</th>\n",
       "      <td>0.579267</td>\n",
       "      <td>-0.348746</td>\n",
       "      <td>-0.370164</td>\n",
       "      <td>-0.416361</td>\n",
       "      <td>-0.306564</td>\n",
       "      <td>0.288137</td>\n",
       "      <td>1.000000</td>\n",
       "      <td>0.180662</td>\n",
       "    </tr>\n",
       "    <tr>\n",
       "      <th>Origin</th>\n",
       "      <td>0.563450</td>\n",
       "      <td>-0.562543</td>\n",
       "      <td>-0.609409</td>\n",
       "      <td>-0.455171</td>\n",
       "      <td>-0.581024</td>\n",
       "      <td>0.205873</td>\n",
       "      <td>0.180662</td>\n",
       "      <td>1.000000</td>\n",
       "    </tr>\n",
       "  </tbody>\n",
       "</table>\n",
       "</div>"
      ],
      "text/plain": [
       "                   MPG  Cylinders  Displacement  Horsepower    Weight  \\\n",
       "MPG           1.000000  -0.775396     -0.804203   -0.778427 -0.831741   \n",
       "Cylinders    -0.775396   1.000000      0.950721    0.842983  0.896017   \n",
       "Displacement -0.804203   0.950721      1.000000    0.897257  0.932824   \n",
       "Horsepower   -0.778427   0.842983      0.897257    1.000000  0.864538   \n",
       "Weight       -0.831741   0.896017      0.932824    0.864538  1.000000   \n",
       "Acceleration  0.420289  -0.505419     -0.543684   -0.689196 -0.417457   \n",
       "Model Year    0.579267  -0.348746     -0.370164   -0.416361 -0.306564   \n",
       "Origin        0.563450  -0.562543     -0.609409   -0.455171 -0.581024   \n",
       "\n",
       "              Acceleration  Model Year    Origin  \n",
       "MPG               0.420289    0.579267  0.563450  \n",
       "Cylinders        -0.505419   -0.348746 -0.562543  \n",
       "Displacement     -0.543684   -0.370164 -0.609409  \n",
       "Horsepower       -0.689196   -0.416361 -0.455171  \n",
       "Weight           -0.417457   -0.306564 -0.581024  \n",
       "Acceleration      1.000000    0.288137  0.205873  \n",
       "Model Year        0.288137    1.000000  0.180662  \n",
       "Origin            0.205873    0.180662  1.000000  "
      ]
     },
     "execution_count": 12,
     "metadata": {},
     "output_type": "execute_result"
    }
   ],
   "source": [
    "# Identifying the column with the highest correlation to the column containing NaN values\n",
    "df.corr()"
   ]
  },
  {
   "cell_type": "markdown",
   "metadata": {},
   "source": [
    "# Mapping Values to NaN"
   ]
  },
  {
   "cell_type": "code",
   "execution_count": 13,
   "metadata": {},
   "outputs": [
    {
     "data": {
      "text/html": [
       "<div>\n",
       "<style scoped>\n",
       "    .dataframe tbody tr th:only-of-type {\n",
       "        vertical-align: middle;\n",
       "    }\n",
       "\n",
       "    .dataframe tbody tr th {\n",
       "        vertical-align: top;\n",
       "    }\n",
       "\n",
       "    .dataframe thead th {\n",
       "        text-align: right;\n",
       "    }\n",
       "</style>\n",
       "<table border=\"1\" class=\"dataframe\">\n",
       "  <thead>\n",
       "    <tr style=\"text-align: right;\">\n",
       "      <th></th>\n",
       "      <th>MPG</th>\n",
       "      <th>Cylinders</th>\n",
       "      <th>Displacement</th>\n",
       "      <th>Horsepower</th>\n",
       "      <th>Weight</th>\n",
       "      <th>Acceleration</th>\n",
       "      <th>Model Year</th>\n",
       "      <th>Origin</th>\n",
       "    </tr>\n",
       "  </thead>\n",
       "  <tbody>\n",
       "  </tbody>\n",
       "</table>\n",
       "</div>"
      ],
      "text/plain": [
       "Empty DataFrame\n",
       "Columns: [MPG, Cylinders, Displacement, Horsepower, Weight, Acceleration, Model Year, Origin]\n",
       "Index: []"
      ]
     },
     "execution_count": 13,
     "metadata": {},
     "output_type": "execute_result"
    }
   ],
   "source": [
    "# After inpecting lets fill the NaNs based on the groupby average of a highly correlated column\n",
    "# Displacement has the highest correlation but too much variation for average mapping lets go with cylinders\n",
    "# Creating a boolean mask to locate NaN values\n",
    "hp_mask = df['Horsepower'].isnull()\n",
    "\n",
    "# Groupby a highly correlated column and averaging the target column(Horsepower) values\n",
    "cylinders = dict(df.groupby('Cylinders')['Horsepower'].mean())\n",
    "\n",
    "# Mapping these highly correlated averages to the target column\n",
    "df.loc[hp_mask, 'Horsepower'] = df.loc[hp_mask, 'Cylinders'].map(cylinders)\n",
    "df[df['Horsepower'].isnull()]"
   ]
  },
  {
   "cell_type": "code",
   "execution_count": 14,
   "metadata": {},
   "outputs": [
    {
     "data": {
      "text/html": [
       "<div>\n",
       "<style scoped>\n",
       "    .dataframe tbody tr th:only-of-type {\n",
       "        vertical-align: middle;\n",
       "    }\n",
       "\n",
       "    .dataframe tbody tr th {\n",
       "        vertical-align: top;\n",
       "    }\n",
       "\n",
       "    .dataframe thead th {\n",
       "        text-align: right;\n",
       "    }\n",
       "</style>\n",
       "<table border=\"1\" class=\"dataframe\">\n",
       "  <thead>\n",
       "    <tr style=\"text-align: right;\">\n",
       "      <th></th>\n",
       "      <th>MPG</th>\n",
       "      <th>Cylinders</th>\n",
       "      <th>Displacement</th>\n",
       "      <th>Horsepower</th>\n",
       "      <th>Weight</th>\n",
       "      <th>Acceleration</th>\n",
       "      <th>Model Year</th>\n",
       "      <th>Europe</th>\n",
       "      <th>Japan</th>\n",
       "      <th>USA</th>\n",
       "    </tr>\n",
       "  </thead>\n",
       "  <tbody>\n",
       "    <tr>\n",
       "      <th>0</th>\n",
       "      <td>18.0</td>\n",
       "      <td>8</td>\n",
       "      <td>307.0</td>\n",
       "      <td>130.0</td>\n",
       "      <td>3504.0</td>\n",
       "      <td>12.0</td>\n",
       "      <td>70</td>\n",
       "      <td>0</td>\n",
       "      <td>0</td>\n",
       "      <td>1</td>\n",
       "    </tr>\n",
       "    <tr>\n",
       "      <th>1</th>\n",
       "      <td>15.0</td>\n",
       "      <td>8</td>\n",
       "      <td>350.0</td>\n",
       "      <td>165.0</td>\n",
       "      <td>3693.0</td>\n",
       "      <td>11.5</td>\n",
       "      <td>70</td>\n",
       "      <td>0</td>\n",
       "      <td>0</td>\n",
       "      <td>1</td>\n",
       "    </tr>\n",
       "    <tr>\n",
       "      <th>2</th>\n",
       "      <td>18.0</td>\n",
       "      <td>8</td>\n",
       "      <td>318.0</td>\n",
       "      <td>150.0</td>\n",
       "      <td>3436.0</td>\n",
       "      <td>11.0</td>\n",
       "      <td>70</td>\n",
       "      <td>0</td>\n",
       "      <td>0</td>\n",
       "      <td>1</td>\n",
       "    </tr>\n",
       "    <tr>\n",
       "      <th>3</th>\n",
       "      <td>16.0</td>\n",
       "      <td>8</td>\n",
       "      <td>304.0</td>\n",
       "      <td>150.0</td>\n",
       "      <td>3433.0</td>\n",
       "      <td>12.0</td>\n",
       "      <td>70</td>\n",
       "      <td>0</td>\n",
       "      <td>0</td>\n",
       "      <td>1</td>\n",
       "    </tr>\n",
       "    <tr>\n",
       "      <th>4</th>\n",
       "      <td>17.0</td>\n",
       "      <td>8</td>\n",
       "      <td>302.0</td>\n",
       "      <td>140.0</td>\n",
       "      <td>3449.0</td>\n",
       "      <td>10.5</td>\n",
       "      <td>70</td>\n",
       "      <td>0</td>\n",
       "      <td>0</td>\n",
       "      <td>1</td>\n",
       "    </tr>\n",
       "  </tbody>\n",
       "</table>\n",
       "</div>"
      ],
      "text/plain": [
       "    MPG  Cylinders  Displacement  Horsepower  Weight  Acceleration  \\\n",
       "0  18.0          8         307.0       130.0  3504.0          12.0   \n",
       "1  15.0          8         350.0       165.0  3693.0          11.5   \n",
       "2  18.0          8         318.0       150.0  3436.0          11.0   \n",
       "3  16.0          8         304.0       150.0  3433.0          12.0   \n",
       "4  17.0          8         302.0       140.0  3449.0          10.5   \n",
       "\n",
       "   Model Year  Europe  Japan  USA  \n",
       "0          70       0      0    1  \n",
       "1          70       0      0    1  \n",
       "2          70       0      0    1  \n",
       "3          70       0      0    1  \n",
       "4          70       0      0    1  "
      ]
     },
     "execution_count": 14,
     "metadata": {},
     "output_type": "execute_result"
    }
   ],
   "source": [
    "# One-Hot encoding the Origin column\n",
    "df['Origin'] = df['Origin'].map({1:'USA', 2:'Europe', 3:'Japan'})\n",
    "df = pd.get_dummies(df, prefix='', prefix_sep='')\n",
    "df.head()"
   ]
  },
  {
   "cell_type": "markdown",
   "metadata": {},
   "source": [
    "# Splitting the data"
   ]
  },
  {
   "cell_type": "code",
   "execution_count": 15,
   "metadata": {},
   "outputs": [],
   "source": [
    "train_data = df.sample(frac=0.8, random_state=32)\n",
    "test_data = df.drop(train_data.index)"
   ]
  },
  {
   "cell_type": "code",
   "execution_count": 16,
   "metadata": {},
   "outputs": [
    {
     "data": {
      "image/png": "[encoded data removed]",
      "text/plain": [
       "<Figure size 720x720 with 20 Axes>"
      ]
     },
     "metadata": {
      "needs_background": "light"
     },
     "output_type": "display_data"
    }
   ],
   "source": [
    "# As described by df.corr() all rows are a function of each other\n",
    "sns.pairplot(train_data[['MPG', 'Cylinders', 'Displacement', 'Weight']], diag_kind='kde')\n",
    "plt.show()"
   ]
  },
  {
   "cell_type": "code",
   "execution_count": 17,
   "metadata": {},
   "outputs": [
    {
     "data": {
      "text/html": [
       "<div>\n",
       "<style scoped>\n",
       "    .dataframe tbody tr th:only-of-type {\n",
       "        vertical-align: middle;\n",
       "    }\n",
       "\n",
       "    .dataframe tbody tr th {\n",
       "        vertical-align: top;\n",
       "    }\n",
       "\n",
       "    .dataframe thead th {\n",
       "        text-align: right;\n",
       "    }\n",
       "</style>\n",
       "<table border=\"1\" class=\"dataframe\">\n",
       "  <thead>\n",
       "    <tr style=\"text-align: right;\">\n",
       "      <th></th>\n",
       "      <th>count</th>\n",
       "      <th>mean</th>\n",
       "      <th>std</th>\n",
       "      <th>min</th>\n",
       "      <th>25%</th>\n",
       "      <th>50%</th>\n",
       "      <th>75%</th>\n",
       "      <th>max</th>\n",
       "    </tr>\n",
       "  </thead>\n",
       "  <tbody>\n",
       "    <tr>\n",
       "      <th>MPG</th>\n",
       "      <td>318.0</td>\n",
       "      <td>23.974214</td>\n",
       "      <td>7.894387</td>\n",
       "      <td>9.0</td>\n",
       "      <td>18.00</td>\n",
       "      <td>23.35</td>\n",
       "      <td>29.875</td>\n",
       "      <td>46.6</td>\n",
       "    </tr>\n",
       "    <tr>\n",
       "      <th>Cylinders</th>\n",
       "      <td>318.0</td>\n",
       "      <td>5.393082</td>\n",
       "      <td>1.658422</td>\n",
       "      <td>3.0</td>\n",
       "      <td>4.00</td>\n",
       "      <td>4.00</td>\n",
       "      <td>6.000</td>\n",
       "      <td>8.0</td>\n",
       "    </tr>\n",
       "    <tr>\n",
       "      <th>Displacement</th>\n",
       "      <td>318.0</td>\n",
       "      <td>189.646226</td>\n",
       "      <td>103.027981</td>\n",
       "      <td>68.0</td>\n",
       "      <td>98.00</td>\n",
       "      <td>142.50</td>\n",
       "      <td>258.000</td>\n",
       "      <td>455.0</td>\n",
       "    </tr>\n",
       "    <tr>\n",
       "      <th>Horsepower</th>\n",
       "      <td>318.0</td>\n",
       "      <td>102.528697</td>\n",
       "      <td>38.330227</td>\n",
       "      <td>46.0</td>\n",
       "      <td>75.00</td>\n",
       "      <td>90.00</td>\n",
       "      <td>115.000</td>\n",
       "      <td>230.0</td>\n",
       "    </tr>\n",
       "    <tr>\n",
       "      <th>Weight</th>\n",
       "      <td>318.0</td>\n",
       "      <td>2928.176101</td>\n",
       "      <td>827.842691</td>\n",
       "      <td>1613.0</td>\n",
       "      <td>2206.25</td>\n",
       "      <td>2740.00</td>\n",
       "      <td>3523.750</td>\n",
       "      <td>5140.0</td>\n",
       "    </tr>\n",
       "    <tr>\n",
       "      <th>Acceleration</th>\n",
       "      <td>318.0</td>\n",
       "      <td>15.706289</td>\n",
       "      <td>2.770193</td>\n",
       "      <td>8.0</td>\n",
       "      <td>14.00</td>\n",
       "      <td>15.50</td>\n",
       "      <td>17.300</td>\n",
       "      <td>24.6</td>\n",
       "    </tr>\n",
       "    <tr>\n",
       "      <th>Model Year</th>\n",
       "      <td>318.0</td>\n",
       "      <td>76.125786</td>\n",
       "      <td>3.742909</td>\n",
       "      <td>70.0</td>\n",
       "      <td>73.00</td>\n",
       "      <td>76.00</td>\n",
       "      <td>79.000</td>\n",
       "      <td>82.0</td>\n",
       "    </tr>\n",
       "    <tr>\n",
       "      <th>Europe</th>\n",
       "      <td>318.0</td>\n",
       "      <td>0.176101</td>\n",
       "      <td>0.381506</td>\n",
       "      <td>0.0</td>\n",
       "      <td>0.00</td>\n",
       "      <td>0.00</td>\n",
       "      <td>0.000</td>\n",
       "      <td>1.0</td>\n",
       "    </tr>\n",
       "    <tr>\n",
       "      <th>Japan</th>\n",
       "      <td>318.0</td>\n",
       "      <td>0.201258</td>\n",
       "      <td>0.401572</td>\n",
       "      <td>0.0</td>\n",
       "      <td>0.00</td>\n",
       "      <td>0.00</td>\n",
       "      <td>0.000</td>\n",
       "      <td>1.0</td>\n",
       "    </tr>\n",
       "    <tr>\n",
       "      <th>USA</th>\n",
       "      <td>318.0</td>\n",
       "      <td>0.622642</td>\n",
       "      <td>0.485490</td>\n",
       "      <td>0.0</td>\n",
       "      <td>0.00</td>\n",
       "      <td>1.00</td>\n",
       "      <td>1.000</td>\n",
       "      <td>1.0</td>\n",
       "    </tr>\n",
       "  </tbody>\n",
       "</table>\n",
       "</div>"
      ],
      "text/plain": [
       "              count         mean         std     min      25%      50%  \\\n",
       "MPG           318.0    23.974214    7.894387     9.0    18.00    23.35   \n",
       "Cylinders     318.0     5.393082    1.658422     3.0     4.00     4.00   \n",
       "Displacement  318.0   189.646226  103.027981    68.0    98.00   142.50   \n",
       "Horsepower    318.0   102.528697   38.330227    46.0    75.00    90.00   \n",
       "Weight        318.0  2928.176101  827.842691  1613.0  2206.25  2740.00   \n",
       "Acceleration  318.0    15.706289    2.770193     8.0    14.00    15.50   \n",
       "Model Year    318.0    76.125786    3.742909    70.0    73.00    76.00   \n",
       "Europe        318.0     0.176101    0.381506     0.0     0.00     0.00   \n",
       "Japan         318.0     0.201258    0.401572     0.0     0.00     0.00   \n",
       "USA           318.0     0.622642    0.485490     0.0     0.00     1.00   \n",
       "\n",
       "                   75%     max  \n",
       "MPG             29.875    46.6  \n",
       "Cylinders        6.000     8.0  \n",
       "Displacement   258.000   455.0  \n",
       "Horsepower     115.000   230.0  \n",
       "Weight        3523.750  5140.0  \n",
       "Acceleration    17.300    24.6  \n",
       "Model Year      79.000    82.0  \n",
       "Europe           0.000     1.0  \n",
       "Japan            0.000     1.0  \n",
       "USA              1.000     1.0  "
      ]
     },
     "execution_count": 17,
     "metadata": {},
     "output_type": "execute_result"
    }
   ],
   "source": [
    "# Each feature covers a very different range:\n",
    "train_data.describe().transpose()"
   ]
  },
  {
   "cell_type": "code",
   "execution_count": 18,
   "metadata": {},
   "outputs": [],
   "source": [
    "# Splitting for training\n",
    "train_features = train_data.copy()\n",
    "test_features = test_data.copy()\n",
    "\n",
    "train_labels = train_features.pop('MPG')\n",
    "test_labels = test_features.pop('MPG')"
   ]
  },
  {
   "cell_type": "markdown",
   "metadata": {},
   "source": [
    "# Single-variable Linear Regression"
   ]
  },
  {
   "cell_type": "code",
   "execution_count": 19,
   "metadata": {},
   "outputs": [],
   "source": [
    "# Normalize variance of the dataset\n",
    "# Convert to numpy array \n",
    "horsepower = np.array(train_features['Horsepower'])\n",
    "# Set normalizer for single feature normalization \n",
    "hp_normalizer = preprocessing.Normalization(input_shape=[1,])\n",
    "# Fit the normalizer to the horsepower array\n",
    "hp_normalizer.adapt(horsepower)"
   ]
  },
  {
   "cell_type": "code",
   "execution_count": 20,
   "metadata": {},
   "outputs": [
    {
     "name": "stdout",
     "output_type": "stream",
     "text": [
      "Model: \"sequential\"\n",
      "_________________________________________________________________\n",
      "Layer (type)                 Output Shape              Param #   \n",
      "=================================================================\n",
      "normalization (Normalization (None, 1)                 3         \n",
      "_________________________________________________________________\n",
      "dense (Dense)                (None, 1)                 2         \n",
      "=================================================================\n",
      "Total params: 5\n",
      "Trainable params: 2\n",
      "Non-trainable params: 3\n",
      "_________________________________________________________________\n"
     ]
    }
   ],
   "source": [
    "# Simple Sequential Model\n",
    "horsepower_model = tf.keras.Sequential([\n",
    "    hp_normalizer,\n",
    "    layers.Dense(units=1)\n",
    "])\n",
    "\n",
    "horsepower_model.summary()"
   ]
  },
  {
   "cell_type": "code",
   "execution_count": 21,
   "metadata": {},
   "outputs": [],
   "source": [
    "# Configure Training Procedure\n",
    "horsepower_model.compile(optimizer= tf.optimizers.Adam(learning_rate=0.1),\n",
    "                        loss='mean_absolute_error')"
   ]
  },
  {
   "cell_type": "code",
   "execution_count": 22,
   "metadata": {
    "scrolled": true
   },
   "outputs": [
    {
     "name": "stdout",
     "output_type": "stream",
     "text": [
      "Epoch 1/100\n",
      "8/8 [==============================] - 1s 28ms/step - loss: 23.9539 - val_loss: 22.9728\n",
      "Epoch 2/100\n",
      "8/8 [==============================] - 0s 6ms/step - loss: 23.7411 - val_loss: 22.1705\n",
      "Epoch 3/100\n",
      "8/8 [==============================] - 0s 8ms/step - loss: 21.8665 - val_loss: 21.3925\n",
      "Epoch 4/100\n",
      "8/8 [==============================] - 0s 8ms/step - loss: 21.4477 - val_loss: 20.5984\n",
      "Epoch 5/100\n",
      "8/8 [==============================] - 0s 8ms/step - loss: 20.0503 - val_loss: 19.8222\n",
      "Epoch 6/100\n",
      "8/8 [==============================] - 0s 8ms/step - loss: 19.2165 - val_loss: 19.0331\n",
      "Epoch 7/100\n",
      "8/8 [==============================] - 0s 9ms/step - loss: 18.6720 - val_loss: 18.2460\n",
      "Epoch 8/100\n",
      "8/8 [==============================] - 0s 6ms/step - loss: 18.9771 - val_loss: 17.4435\n",
      "Epoch 9/100\n",
      "8/8 [==============================] - 0s 7ms/step - loss: 17.0838 - val_loss: 16.6602\n",
      "Epoch 10/100\n",
      "8/8 [==============================] - 0s 7ms/step - loss: 16.6666 - val_loss: 15.8611\n",
      "Epoch 11/100\n",
      "8/8 [==============================] - 0s 7ms/step - loss: 15.8331 - val_loss: 15.0681\n",
      "Epoch 12/100\n",
      "8/8 [==============================] - 0s 7ms/step - loss: 15.1755 - val_loss: 14.2779\n",
      "Epoch 13/100\n",
      "8/8 [==============================] - 0s 6ms/step - loss: 15.2585 - val_loss: 13.4736\n",
      "Epoch 14/100\n",
      "8/8 [==============================] - 0s 7ms/step - loss: 13.9917 - val_loss: 12.6942\n",
      "Epoch 15/100\n",
      "8/8 [==============================] - 0s 6ms/step - loss: 12.0905 - val_loss: 11.8966\n",
      "Epoch 16/100\n",
      "8/8 [==============================] - 0s 7ms/step - loss: 11.5815 - val_loss: 11.1103\n",
      "Epoch 17/100\n",
      "8/8 [==============================] - 0s 6ms/step - loss: 10.8901 - val_loss: 10.3154\n",
      "Epoch 18/100\n",
      "8/8 [==============================] - 0s 5ms/step - loss: 10.5013 - val_loss: 9.4840\n",
      "Epoch 19/100\n",
      "8/8 [==============================] - 0s 6ms/step - loss: 9.6766 - val_loss: 8.7034\n",
      "Epoch 20/100\n",
      "8/8 [==============================] - 0s 5ms/step - loss: 8.8153 - val_loss: 7.9194\n",
      "Epoch 21/100\n",
      "8/8 [==============================] - 0s 8ms/step - loss: 8.4302 - val_loss: 7.1814\n",
      "Epoch 22/100\n",
      "8/8 [==============================] - 0s 5ms/step - loss: 7.6969 - val_loss: 6.5045\n",
      "Epoch 23/100\n",
      "8/8 [==============================] - 0s 6ms/step - loss: 6.2210 - val_loss: 5.9079\n",
      "Epoch 24/100\n",
      "8/8 [==============================] - 0s 7ms/step - loss: 6.8615 - val_loss: 5.4289\n",
      "Epoch 25/100\n",
      "8/8 [==============================] - 0s 5ms/step - loss: 5.8226 - val_loss: 5.0654\n",
      "Epoch 26/100\n",
      "8/8 [==============================] - 0s 5ms/step - loss: 5.2151 - val_loss: 4.7934\n",
      "Epoch 27/100\n",
      "8/8 [==============================] - 0s 5ms/step - loss: 4.8763 - val_loss: 4.5890\n",
      "Epoch 28/100\n",
      "8/8 [==============================] - 0s 7ms/step - loss: 4.3937 - val_loss: 4.4121\n",
      "Epoch 29/100\n",
      "8/8 [==============================] - 0s 6ms/step - loss: 4.5272 - val_loss: 4.3067\n",
      "Epoch 30/100\n",
      "8/8 [==============================] - 0s 6ms/step - loss: 4.1821 - val_loss: 4.2191\n",
      "Epoch 31/100\n",
      "8/8 [==============================] - 0s 5ms/step - loss: 4.1138 - val_loss: 4.1667\n",
      "Epoch 32/100\n",
      "8/8 [==============================] - 0s 6ms/step - loss: 4.0592 - val_loss: 4.1255\n",
      "Epoch 33/100\n",
      "8/8 [==============================] - 0s 6ms/step - loss: 4.4153 - val_loss: 4.1058\n",
      "Epoch 34/100\n",
      "8/8 [==============================] - 0s 6ms/step - loss: 3.8943 - val_loss: 4.1125\n",
      "Epoch 35/100\n",
      "8/8 [==============================] - 0s 6ms/step - loss: 4.0515 - val_loss: 4.0971\n",
      "Epoch 36/100\n",
      "8/8 [==============================] - 0s 6ms/step - loss: 4.1840 - val_loss: 4.0968\n",
      "Epoch 37/100\n",
      "8/8 [==============================] - 0s 6ms/step - loss: 3.9178 - val_loss: 4.0985\n",
      "Epoch 38/100\n",
      "8/8 [==============================] - 0s 7ms/step - loss: 3.8822 - val_loss: 4.0977\n",
      "Epoch 39/100\n",
      "8/8 [==============================] - 0s 8ms/step - loss: 4.1672 - val_loss: 4.0902\n",
      "Epoch 40/100\n",
      "8/8 [==============================] - 0s 7ms/step - loss: 4.1115 - val_loss: 4.1063\n",
      "Epoch 41/100\n",
      "8/8 [==============================] - 0s 7ms/step - loss: 4.0621 - val_loss: 4.1136\n",
      "Epoch 42/100\n",
      "8/8 [==============================] - 0s 6ms/step - loss: 3.8923 - val_loss: 4.1037\n",
      "Epoch 43/100\n",
      "8/8 [==============================] - 0s 6ms/step - loss: 3.7996 - val_loss: 4.1031\n",
      "Epoch 44/100\n",
      "8/8 [==============================] - 0s 6ms/step - loss: 3.9871 - val_loss: 4.0857\n",
      "Epoch 45/100\n",
      "8/8 [==============================] - 0s 6ms/step - loss: 3.8944 - val_loss: 4.1109\n",
      "Epoch 46/100\n",
      "8/8 [==============================] - 0s 6ms/step - loss: 3.8331 - val_loss: 4.1393\n",
      "Epoch 47/100\n",
      "8/8 [==============================] - 0s 5ms/step - loss: 3.7402 - val_loss: 4.1244\n",
      "Epoch 48/100\n",
      "8/8 [==============================] - 0s 7ms/step - loss: 3.9283 - val_loss: 4.1061\n",
      "Epoch 49/100\n",
      "8/8 [==============================] - 0s 15ms/step - loss: 3.9214 - val_loss: 4.1028\n",
      "Epoch 50/100\n",
      "8/8 [==============================] - 0s 11ms/step - loss: 3.9167 - val_loss: 4.1236\n",
      "Epoch 51/100\n",
      "8/8 [==============================] - 0s 9ms/step - loss: 3.9365 - val_loss: 4.1258\n",
      "Epoch 52/100\n",
      "8/8 [==============================] - 0s 9ms/step - loss: 3.8682 - val_loss: 4.0896\n",
      "Epoch 53/100\n",
      "8/8 [==============================] - 0s 6ms/step - loss: 3.6700 - val_loss: 4.1231\n",
      "Epoch 54/100\n",
      "8/8 [==============================] - 0s 6ms/step - loss: 4.0372 - val_loss: 4.1325\n",
      "Epoch 55/100\n",
      "8/8 [==============================] - 0s 6ms/step - loss: 3.8546 - val_loss: 4.1263\n",
      "Epoch 56/100\n",
      "8/8 [==============================] - 0s 7ms/step - loss: 3.8153 - val_loss: 4.1223\n",
      "Epoch 57/100\n",
      "8/8 [==============================] - 0s 9ms/step - loss: 3.8800 - val_loss: 4.1156\n",
      "Epoch 58/100\n",
      "8/8 [==============================] - 0s 16ms/step - loss: 3.7810 - val_loss: 4.0928\n",
      "Epoch 59/100\n",
      "8/8 [==============================] - 0s 50ms/step - loss: 4.0213 - val_loss: 4.1043\n",
      "Epoch 60/100\n",
      "8/8 [==============================] - 0s 7ms/step - loss: 3.8783 - val_loss: 4.1063\n",
      "Epoch 61/100\n",
      "8/8 [==============================] - 0s 7ms/step - loss: 3.8934 - val_loss: 4.0971\n",
      "Epoch 62/100\n",
      "8/8 [==============================] - 0s 7ms/step - loss: 3.9140 - val_loss: 4.1124\n",
      "Epoch 63/100\n",
      "8/8 [==============================] - 0s 7ms/step - loss: 4.0295 - val_loss: 4.1149\n",
      "Epoch 64/100\n",
      "8/8 [==============================] - 0s 6ms/step - loss: 3.8781 - val_loss: 4.1046\n",
      "Epoch 65/100\n",
      "8/8 [==============================] - 0s 5ms/step - loss: 4.0245 - val_loss: 4.1047\n",
      "Epoch 66/100\n",
      "8/8 [==============================] - 0s 6ms/step - loss: 3.9429 - val_loss: 4.1006\n",
      "Epoch 67/100\n",
      "8/8 [==============================] - 0s 5ms/step - loss: 4.0646 - val_loss: 4.1190\n",
      "Epoch 68/100\n",
      "8/8 [==============================] - 0s 6ms/step - loss: 4.1897 - val_loss: 4.1173\n",
      "Epoch 69/100\n",
      "8/8 [==============================] - 0s 6ms/step - loss: 4.0004 - val_loss: 4.1047\n",
      "Epoch 70/100\n",
      "8/8 [==============================] - 0s 5ms/step - loss: 3.8133 - val_loss: 4.0983\n",
      "Epoch 71/100\n",
      "8/8 [==============================] - 0s 5ms/step - loss: 3.6802 - val_loss: 4.1060\n",
      "Epoch 72/100\n",
      "8/8 [==============================] - 0s 5ms/step - loss: 3.9644 - val_loss: 4.1017\n",
      "Epoch 73/100\n",
      "8/8 [==============================] - 0s 6ms/step - loss: 3.7058 - val_loss: 4.1071\n",
      "Epoch 74/100\n",
      "8/8 [==============================] - 0s 5ms/step - loss: 4.0483 - val_loss: 4.1033\n",
      "Epoch 75/100\n",
      "8/8 [==============================] - 0s 6ms/step - loss: 3.8824 - val_loss: 4.1188\n",
      "Epoch 76/100\n",
      "8/8 [==============================] - 0s 23ms/step - loss: 3.8159 - val_loss: 4.1095\n",
      "Epoch 77/100\n",
      "8/8 [==============================] - 0s 6ms/step - loss: 3.8079 - val_loss: 4.1019\n",
      "Epoch 78/100\n",
      "8/8 [==============================] - 0s 5ms/step - loss: 3.8422 - val_loss: 4.0992\n",
      "Epoch 79/100\n",
      "8/8 [==============================] - 0s 6ms/step - loss: 3.8728 - val_loss: 4.1171\n",
      "Epoch 80/100\n",
      "8/8 [==============================] - 0s 7ms/step - loss: 3.9434 - val_loss: 4.1390\n",
      "Epoch 81/100\n",
      "8/8 [==============================] - 0s 9ms/step - loss: 4.0585 - val_loss: 4.1193\n",
      "Epoch 82/100\n",
      "8/8 [==============================] - 0s 10ms/step - loss: 3.8738 - val_loss: 4.1139\n",
      "Epoch 83/100\n",
      "8/8 [==============================] - 0s 10ms/step - loss: 3.7320 - val_loss: 4.0899\n",
      "Epoch 84/100\n"
     ]
    },
    {
     "name": "stdout",
     "output_type": "stream",
     "text": [
      "8/8 [==============================] - 0s 6ms/step - loss: 3.9501 - val_loss: 4.1096\n",
      "Epoch 85/100\n",
      "8/8 [==============================] - 0s 6ms/step - loss: 3.8467 - val_loss: 4.1293\n",
      "Epoch 86/100\n",
      "8/8 [==============================] - 0s 6ms/step - loss: 3.9872 - val_loss: 4.1240\n",
      "Epoch 87/100\n",
      "8/8 [==============================] - 0s 6ms/step - loss: 3.9050 - val_loss: 4.0947\n",
      "Epoch 88/100\n",
      "8/8 [==============================] - 0s 5ms/step - loss: 3.9673 - val_loss: 4.1109\n",
      "Epoch 89/100\n",
      "8/8 [==============================] - 0s 6ms/step - loss: 3.5408 - val_loss: 4.1153\n",
      "Epoch 90/100\n",
      "8/8 [==============================] - 0s 6ms/step - loss: 4.2063 - val_loss: 4.1072\n",
      "Epoch 91/100\n",
      "8/8 [==============================] - 0s 6ms/step - loss: 4.0274 - val_loss: 4.1024\n",
      "Epoch 92/100\n",
      "8/8 [==============================] - 0s 6ms/step - loss: 3.7027 - val_loss: 4.1205\n",
      "Epoch 93/100\n",
      "8/8 [==============================] - 0s 6ms/step - loss: 4.1356 - val_loss: 4.1110\n",
      "Epoch 94/100\n",
      "8/8 [==============================] - 0s 6ms/step - loss: 3.7961 - val_loss: 4.1069\n",
      "Epoch 95/100\n",
      "8/8 [==============================] - 0s 6ms/step - loss: 4.2660 - val_loss: 4.1193\n",
      "Epoch 96/100\n",
      "8/8 [==============================] - 0s 6ms/step - loss: 4.1578 - val_loss: 4.0926\n",
      "Epoch 97/100\n",
      "8/8 [==============================] - 0s 6ms/step - loss: 4.0182 - val_loss: 4.1017\n",
      "Epoch 98/100\n",
      "8/8 [==============================] - 0s 5ms/step - loss: 3.9152 - val_loss: 4.1226\n",
      "Epoch 99/100\n",
      "8/8 [==============================] - 0s 6ms/step - loss: 3.8317 - val_loss: 4.1124\n",
      "Epoch 100/100\n",
      "8/8 [==============================] - 0s 6ms/step - loss: 3.9020 - val_loss: 4.1036\n"
     ]
    }
   ],
   "source": [
    "# Execute Training\n",
    "history = horsepower_model.fit(train_features['Horsepower'],\n",
    "                     train_labels,\n",
    "                     epochs=100,\n",
    "                     verbose=1,\n",
    "                     validation_split=0.2)"
   ]
  },
  {
   "cell_type": "code",
   "execution_count": 23,
   "metadata": {},
   "outputs": [
    {
     "data": {
      "text/plain": [
       "dict_keys(['loss', 'val_loss'])"
      ]
     },
     "execution_count": 23,
     "metadata": {},
     "output_type": "execute_result"
    }
   ],
   "source": [
    "# Saving model fit history to dictionary\n",
    "history_dict = history.history\n",
    "history_dict.keys()\n"
   ]
  },
  {
   "cell_type": "code",
   "execution_count": 24,
   "metadata": {},
   "outputs": [
    {
     "data": {
      "image/png": "[encoded data removed]",
      "text/plain": [
       "<Figure size 576x288 with 1 Axes>"
      ]
     },
     "metadata": {
      "needs_background": "light"
     },
     "output_type": "display_data"
    }
   ],
   "source": [
    "# Plot loss vs val_loss\n",
    "\n",
    "loss = history_dict['loss']\n",
    "val_loss = history_dict['val_loss']\n",
    "\n",
    "plt.figure(figsize=(8,4))\n",
    "plt.plot(loss, label='loss')\n",
    "plt.plot( val_loss, label='val_loss')\n",
    "plt.ylim([0, 10])\n",
    "plt.title('Loss vs Val Loss')\n",
    "plt.xlabel('epochs')\n",
    "plt.ylabel('error [MPG]')\n",
    "plt.show()"
   ]
  },
  {
   "cell_type": "code",
   "execution_count": 25,
   "metadata": {
    "code_folding": []
   },
   "outputs": [
    {
     "name": "stdout",
     "output_type": "stream",
     "text": [
      "3/3 [==============================] - 0s 3ms/step - loss: 3.3476\n"
     ]
    }
   ],
   "source": [
    "# Model test loss\n",
    "test_history = horsepower_model.evaluate(test_features['Horsepower'],\n",
    "                                        test_labels, verbose=1)"
   ]
  },
  {
   "cell_type": "code",
   "execution_count": 26,
   "metadata": {},
   "outputs": [],
   "source": [
    "# Look at the model's predictions as a function of the input (max hp is 230)\n",
    "x = tf.linspace(0.0, 240, 241)\n",
    "y = horsepower_model.predict(x)"
   ]
  },
  {
   "cell_type": "code",
   "execution_count": 27,
   "metadata": {},
   "outputs": [
    {
     "data": {
      "image/png": "[encoded data removed]",
      "text/plain": [
       "<Figure size 432x288 with 1 Axes>"
      ]
     },
     "metadata": {
      "needs_background": "light"
     },
     "output_type": "display_data"
    }
   ],
   "source": [
    "# Plit the models predictions of x against the actual data\n",
    "plt.scatter(train_features['Horsepower'], train_labels, label='Data')\n",
    "plt.plot(x, y, color='k', label='Predictions')\n",
    "plt.xlabel('Horsepower')\n",
    "plt.ylabel('MPG')\n",
    "plt.legend()\n",
    "plt.show()"
   ]
  },
  {
   "cell_type": "markdown",
   "metadata": {},
   "source": [
    "# Multi-variable Linear Regression"
   ]
  },
  {
   "cell_type": "code",
   "execution_count": 28,
   "metadata": {},
   "outputs": [
    {
     "name": "stdout",
     "output_type": "stream",
     "text": [
      "[   5.393  189.646  102.529 2928.176   15.706   76.126    0.176    0.201\n",
      "    0.623]\n"
     ]
    }
   ],
   "source": [
    "# Normalize the train dataset\n",
    "normalizer = preprocessing.Normalization()\n",
    "\n",
    "normalizer.adapt(np.array(train_features))\n",
    "print(normalizer.mean.numpy())"
   ]
  },
  {
   "cell_type": "code",
   "execution_count": 29,
   "metadata": {},
   "outputs": [
    {
     "name": "stdout",
     "output_type": "stream",
     "text": [
      "First example: [[   4.  151.   90. 2735.   18.   82.    0.    0.    1.]]\n",
      "\n",
      "Normalized: [[-0.84 -0.38 -0.33 -0.23  0.83  1.57 -0.46 -0.5   0.78]]\n"
     ]
    }
   ],
   "source": [
    "first = np.array(train_features[:1])\n",
    "\n",
    "with np.printoptions(precision=2, suppress=True):\n",
    "    print('First example:', first)\n",
    "    print()\n",
    "    print('Normalized:', normalizer(first).numpy())"
   ]
  },
  {
   "cell_type": "code",
   "execution_count": 30,
   "metadata": {},
   "outputs": [
    {
     "name": "stdout",
     "output_type": "stream",
     "text": [
      "Model: \"sequential_1\"\n",
      "_________________________________________________________________\n",
      "Layer (type)                 Output Shape              Param #   \n",
      "=================================================================\n",
      "normalization_1 (Normalizati (None, 9)                 19        \n",
      "_________________________________________________________________\n",
      "dense_1 (Dense)              (None, 1)                 10        \n",
      "=================================================================\n",
      "Total params: 29\n",
      "Trainable params: 10\n",
      "Non-trainable params: 19\n",
      "_________________________________________________________________\n"
     ]
    }
   ],
   "source": [
    "# Adding the train_features normalizer\n",
    "model = tf.keras.Sequential([\n",
    "    normalizer,\n",
    "    layers.Dense(units=1)\n",
    "])\n",
    "model.summary()"
   ]
  },
  {
   "cell_type": "code",
   "execution_count": 31,
   "metadata": {},
   "outputs": [
    {
     "data": {
      "text/plain": [
       "<tf.Variable 'dense_1/kernel:0' shape=(9, 1) dtype=float32, numpy=\n",
       "array([[-0.215],\n",
       "       [ 0.376],\n",
       "       [-0.281],\n",
       "       [ 0.546],\n",
       "       [ 0.594],\n",
       "       [-0.711],\n",
       "       [ 0.358],\n",
       "       [-0.534],\n",
       "       [ 0.453]], dtype=float32)>"
      ]
     },
     "execution_count": 31,
     "metadata": {},
     "output_type": "execute_result"
    }
   ],
   "source": [
    "# weight matrices\n",
    "model.layers[1].kernel"
   ]
  },
  {
   "cell_type": "code",
   "execution_count": 32,
   "metadata": {},
   "outputs": [],
   "source": [
    "model.compile(\n",
    "    optimizer=tf.optimizers.Adam(learning_rate=0.1),\n",
    "    loss='mean_absolute_error')"
   ]
  },
  {
   "cell_type": "code",
   "execution_count": 33,
   "metadata": {
    "scrolled": true
   },
   "outputs": [
    {
     "name": "stdout",
     "output_type": "stream",
     "text": [
      "Epoch 1/100\n",
      "8/8 [==============================] - 1s 19ms/step - loss: 23.9635 - val_loss: 22.9469\n",
      "Epoch 2/100\n",
      "8/8 [==============================] - 0s 6ms/step - loss: 22.9076 - val_loss: 22.1714\n",
      "Epoch 3/100\n",
      "8/8 [==============================] - 0s 6ms/step - loss: 22.3958 - val_loss: 21.3988\n",
      "Epoch 4/100\n",
      "8/8 [==============================] - 0s 6ms/step - loss: 21.3225 - val_loss: 20.6415\n",
      "Epoch 5/100\n",
      "8/8 [==============================] - 0s 5ms/step - loss: 20.7211 - val_loss: 19.8733\n",
      "Epoch 6/100\n",
      "8/8 [==============================] - 0s 6ms/step - loss: 19.8885 - val_loss: 19.0928\n",
      "Epoch 7/100\n",
      "8/8 [==============================] - 0s 7ms/step - loss: 18.5210 - val_loss: 18.3230\n",
      "Epoch 8/100\n",
      "8/8 [==============================] - 0s 7ms/step - loss: 17.7897 - val_loss: 17.5578\n",
      "Epoch 9/100\n",
      "8/8 [==============================] - 0s 6ms/step - loss: 17.2209 - val_loss: 16.8014\n",
      "Epoch 10/100\n",
      "8/8 [==============================] - 0s 7ms/step - loss: 16.4426 - val_loss: 16.0376\n",
      "Epoch 11/100\n",
      "8/8 [==============================] - 0s 9ms/step - loss: 15.7955 - val_loss: 15.2597\n",
      "Epoch 12/100\n",
      "8/8 [==============================] - 0s 9ms/step - loss: 14.7396 - val_loss: 14.4971\n",
      "Epoch 13/100\n",
      "8/8 [==============================] - 0s 6ms/step - loss: 13.8589 - val_loss: 13.7551\n",
      "Epoch 14/100\n",
      "8/8 [==============================] - 0s 5ms/step - loss: 13.9854 - val_loss: 12.9648\n",
      "Epoch 15/100\n",
      "8/8 [==============================] - 0s 6ms/step - loss: 12.6472 - val_loss: 12.1637\n",
      "Epoch 16/100\n",
      "8/8 [==============================] - 0s 7ms/step - loss: 11.6456 - val_loss: 11.3981\n",
      "Epoch 17/100\n",
      "8/8 [==============================] - 0s 8ms/step - loss: 11.0735 - val_loss: 10.6221\n",
      "Epoch 18/100\n",
      "8/8 [==============================] - 0s 9ms/step - loss: 10.7082 - val_loss: 9.8114\n",
      "Epoch 19/100\n",
      "8/8 [==============================] - 0s 42ms/step - loss: 9.8009 - val_loss: 9.0176\n",
      "Epoch 20/100\n",
      "8/8 [==============================] - 0s 14ms/step - loss: 9.0393 - val_loss: 8.2431\n",
      "Epoch 21/100\n",
      "8/8 [==============================] - 0s 8ms/step - loss: 8.1362 - val_loss: 7.4540\n",
      "Epoch 22/100\n",
      "8/8 [==============================] - 0s 7ms/step - loss: 7.4779 - val_loss: 6.6520\n",
      "Epoch 23/100\n",
      "8/8 [==============================] - 0s 12ms/step - loss: 6.5166 - val_loss: 5.8946\n",
      "Epoch 24/100\n",
      "8/8 [==============================] - 0s 23ms/step - loss: 5.7661 - val_loss: 5.1831\n",
      "Epoch 25/100\n",
      "8/8 [==============================] - 0s 8ms/step - loss: 5.4523 - val_loss: 4.5223\n",
      "Epoch 26/100\n",
      "8/8 [==============================] - 0s 7ms/step - loss: 4.6764 - val_loss: 3.8430\n",
      "Epoch 27/100\n",
      "8/8 [==============================] - 0s 7ms/step - loss: 3.7796 - val_loss: 3.3257\n",
      "Epoch 28/100\n",
      "8/8 [==============================] - 0s 6ms/step - loss: 3.4650 - val_loss: 2.9451\n",
      "Epoch 29/100\n",
      "8/8 [==============================] - 0s 6ms/step - loss: 3.2020 - val_loss: 2.6943\n",
      "Epoch 30/100\n",
      "8/8 [==============================] - 0s 7ms/step - loss: 3.0133 - val_loss: 2.4905\n",
      "Epoch 31/100\n",
      "8/8 [==============================] - 0s 7ms/step - loss: 2.8910 - val_loss: 2.3819\n",
      "Epoch 32/100\n",
      "8/8 [==============================] - 0s 8ms/step - loss: 2.5751 - val_loss: 2.4793\n",
      "Epoch 33/100\n",
      "8/8 [==============================] - 0s 7ms/step - loss: 2.6774 - val_loss: 2.3403\n",
      "Epoch 34/100\n",
      "8/8 [==============================] - 0s 7ms/step - loss: 2.6793 - val_loss: 2.2744\n",
      "Epoch 35/100\n",
      "8/8 [==============================] - 0s 7ms/step - loss: 2.5894 - val_loss: 2.3228\n",
      "Epoch 36/100\n",
      "8/8 [==============================] - 0s 6ms/step - loss: 2.3993 - val_loss: 2.3544\n",
      "Epoch 37/100\n",
      "8/8 [==============================] - 0s 8ms/step - loss: 2.6586 - val_loss: 2.3257\n",
      "Epoch 38/100\n",
      "8/8 [==============================] - 0s 7ms/step - loss: 2.5200 - val_loss: 2.3408\n",
      "Epoch 39/100\n",
      "8/8 [==============================] - 0s 6ms/step - loss: 2.6872 - val_loss: 2.3918\n",
      "Epoch 40/100\n",
      "8/8 [==============================] - 0s 6ms/step - loss: 2.4883 - val_loss: 2.3867\n",
      "Epoch 41/100\n",
      "8/8 [==============================] - 0s 5ms/step - loss: 2.5982 - val_loss: 2.3300\n",
      "Epoch 42/100\n",
      "8/8 [==============================] - 0s 8ms/step - loss: 2.6600 - val_loss: 2.3133\n",
      "Epoch 43/100\n",
      "8/8 [==============================] - 0s 7ms/step - loss: 2.6436 - val_loss: 2.3147\n",
      "Epoch 44/100\n",
      "8/8 [==============================] - 0s 8ms/step - loss: 2.5985 - val_loss: 2.3211\n",
      "Epoch 45/100\n",
      "8/8 [==============================] - 0s 6ms/step - loss: 2.6072 - val_loss: 2.3358\n",
      "Epoch 46/100\n",
      "8/8 [==============================] - 0s 6ms/step - loss: 2.4749 - val_loss: 2.3657\n",
      "Epoch 47/100\n",
      "8/8 [==============================] - 0s 8ms/step - loss: 2.5440 - val_loss: 2.3006\n",
      "Epoch 48/100\n",
      "8/8 [==============================] - 0s 7ms/step - loss: 2.5350 - val_loss: 2.3134\n",
      "Epoch 49/100\n",
      "8/8 [==============================] - 0s 6ms/step - loss: 2.5659 - val_loss: 2.3208\n",
      "Epoch 50/100\n",
      "8/8 [==============================] - 0s 7ms/step - loss: 2.4661 - val_loss: 2.3074\n",
      "Epoch 51/100\n",
      "8/8 [==============================] - 0s 5ms/step - loss: 2.5686 - val_loss: 2.3301\n",
      "Epoch 52/100\n",
      "8/8 [==============================] - 0s 13ms/step - loss: 2.7526 - val_loss: 2.3433\n",
      "Epoch 53/100\n",
      "8/8 [==============================] - 0s 5ms/step - loss: 2.7257 - val_loss: 2.3714\n",
      "Epoch 54/100\n",
      "8/8 [==============================] - 0s 8ms/step - loss: 2.5130 - val_loss: 2.3609\n",
      "Epoch 55/100\n",
      "8/8 [==============================] - 0s 7ms/step - loss: 2.6018 - val_loss: 2.3077\n",
      "Epoch 56/100\n",
      "8/8 [==============================] - 0s 7ms/step - loss: 2.3646 - val_loss: 2.3246\n",
      "Epoch 57/100\n",
      "8/8 [==============================] - 0s 7ms/step - loss: 2.4733 - val_loss: 2.3237\n",
      "Epoch 58/100\n",
      "8/8 [==============================] - 0s 7ms/step - loss: 2.3975 - val_loss: 2.3360\n",
      "Epoch 59/100\n",
      "8/8 [==============================] - 0s 7ms/step - loss: 2.5613 - val_loss: 2.3430\n",
      "Epoch 60/100\n",
      "8/8 [==============================] - 0s 7ms/step - loss: 2.5530 - val_loss: 2.3536\n",
      "Epoch 61/100\n",
      "8/8 [==============================] - 0s 7ms/step - loss: 2.4175 - val_loss: 2.3588\n",
      "Epoch 62/100\n",
      "8/8 [==============================] - 0s 7ms/step - loss: 2.4309 - val_loss: 2.3903\n",
      "Epoch 63/100\n",
      "8/8 [==============================] - 0s 7ms/step - loss: 2.4403 - val_loss: 2.4037\n",
      "Epoch 64/100\n",
      "8/8 [==============================] - 0s 5ms/step - loss: 2.6318 - val_loss: 2.4264\n",
      "Epoch 65/100\n",
      "8/8 [==============================] - 0s 8ms/step - loss: 2.5022 - val_loss: 2.3130\n",
      "Epoch 66/100\n",
      "8/8 [==============================] - 0s 6ms/step - loss: 2.6811 - val_loss: 2.3052\n",
      "Epoch 67/100\n",
      "8/8 [==============================] - 0s 8ms/step - loss: 2.5670 - val_loss: 2.3614\n",
      "Epoch 68/100\n",
      "8/8 [==============================] - 0s 7ms/step - loss: 2.3582 - val_loss: 2.3532\n",
      "Epoch 69/100\n",
      "8/8 [==============================] - 0s 5ms/step - loss: 2.4143 - val_loss: 2.3100\n",
      "Epoch 70/100\n",
      "8/8 [==============================] - 0s 7ms/step - loss: 2.4605 - val_loss: 2.3330\n",
      "Epoch 71/100\n",
      "8/8 [==============================] - 0s 7ms/step - loss: 2.5361 - val_loss: 2.3546\n",
      "Epoch 72/100\n",
      "8/8 [==============================] - 0s 6ms/step - loss: 2.7577 - val_loss: 2.3566\n",
      "Epoch 73/100\n",
      "8/8 [==============================] - 0s 7ms/step - loss: 2.4620 - val_loss: 2.3683\n",
      "Epoch 74/100\n",
      "8/8 [==============================] - 0s 6ms/step - loss: 2.4145 - val_loss: 2.3052\n",
      "Epoch 75/100\n",
      "8/8 [==============================] - 0s 5ms/step - loss: 2.6048 - val_loss: 2.3204\n",
      "Epoch 76/100\n",
      "8/8 [==============================] - 0s 8ms/step - loss: 2.6800 - val_loss: 2.3518\n",
      "Epoch 77/100\n",
      "8/8 [==============================] - 0s 7ms/step - loss: 2.4113 - val_loss: 2.3386\n",
      "Epoch 78/100\n",
      "8/8 [==============================] - 0s 7ms/step - loss: 2.4649 - val_loss: 2.3158\n",
      "Epoch 79/100\n",
      "8/8 [==============================] - 0s 7ms/step - loss: 2.5269 - val_loss: 2.3213\n",
      "Epoch 80/100\n",
      "8/8 [==============================] - 0s 7ms/step - loss: 2.4691 - val_loss: 2.3380\n",
      "Epoch 81/100\n",
      "8/8 [==============================] - 0s 7ms/step - loss: 2.6331 - val_loss: 2.3805\n",
      "Epoch 82/100\n",
      "8/8 [==============================] - 0s 8ms/step - loss: 2.6205 - val_loss: 2.3741\n",
      "Epoch 83/100\n",
      "8/8 [==============================] - 0s 6ms/step - loss: 2.4782 - val_loss: 2.3545\n",
      "Epoch 84/100\n"
     ]
    },
    {
     "name": "stdout",
     "output_type": "stream",
     "text": [
      "8/8 [==============================] - 0s 7ms/step - loss: 2.6690 - val_loss: 2.3164\n",
      "Epoch 85/100\n",
      "8/8 [==============================] - 0s 5ms/step - loss: 2.6544 - val_loss: 2.3338\n",
      "Epoch 86/100\n",
      "8/8 [==============================] - 0s 7ms/step - loss: 2.3474 - val_loss: 2.3528\n",
      "Epoch 87/100\n",
      "8/8 [==============================] - 0s 5ms/step - loss: 2.3645 - val_loss: 2.3683\n",
      "Epoch 88/100\n",
      "8/8 [==============================] - 0s 5ms/step - loss: 2.4195 - val_loss: 2.3737\n",
      "Epoch 89/100\n",
      "8/8 [==============================] - 0s 41ms/step - loss: 2.4694 - val_loss: 2.3412\n",
      "Epoch 90/100\n",
      "8/8 [==============================] - 0s 7ms/step - loss: 2.5852 - val_loss: 2.3416\n",
      "Epoch 91/100\n",
      "8/8 [==============================] - 0s 7ms/step - loss: 2.4980 - val_loss: 2.3979\n",
      "Epoch 92/100\n",
      "8/8 [==============================] - 0s 7ms/step - loss: 2.5301 - val_loss: 2.3720\n",
      "Epoch 93/100\n",
      "8/8 [==============================] - 0s 7ms/step - loss: 2.4798 - val_loss: 2.3224\n",
      "Epoch 94/100\n",
      "8/8 [==============================] - 0s 7ms/step - loss: 2.7314 - val_loss: 2.3712\n",
      "Epoch 95/100\n",
      "8/8 [==============================] - 0s 7ms/step - loss: 2.6034 - val_loss: 2.3821\n",
      "Epoch 96/100\n",
      "8/8 [==============================] - 0s 7ms/step - loss: 2.5581 - val_loss: 2.3572\n",
      "Epoch 97/100\n",
      "8/8 [==============================] - 0s 7ms/step - loss: 2.6856 - val_loss: 2.3116\n",
      "Epoch 98/100\n",
      "8/8 [==============================] - 0s 7ms/step - loss: 2.5836 - val_loss: 2.3518\n",
      "Epoch 99/100\n",
      "8/8 [==============================] - 0s 5ms/step - loss: 2.7104 - val_loss: 2.3391\n",
      "Epoch 100/100\n",
      "8/8 [==============================] - 0s 7ms/step - loss: 2.4490 - val_loss: 2.3509\n"
     ]
    }
   ],
   "source": [
    "history = model.fit(train_features, \n",
    "                    train_labels,\n",
    "                    validation_split=0.2,\n",
    "                    verbose=1,\n",
    "                    epochs=100\n",
    "                   )"
   ]
  },
  {
   "cell_type": "code",
   "execution_count": 34,
   "metadata": {},
   "outputs": [
    {
     "data": {
      "text/plain": [
       "dict_keys(['loss', 'val_loss'])"
      ]
     },
     "execution_count": 34,
     "metadata": {},
     "output_type": "execute_result"
    }
   ],
   "source": [
    "history_dict = history.history\n",
    "history_dict.keys()"
   ]
  },
  {
   "cell_type": "code",
   "execution_count": 35,
   "metadata": {},
   "outputs": [
    {
     "data": {
      "image/png": "[encoded data removed]",
      "text/plain": [
       "<Figure size 576x288 with 1 Axes>"
      ]
     },
     "metadata": {
      "needs_background": "light"
     },
     "output_type": "display_data"
    }
   ],
   "source": [
    "# Plot loss vs val_loss starting at 100 \n",
    "\n",
    "loss = history_dict['loss']\n",
    "val_loss = history_dict['val_loss']\n",
    "\n",
    "\n",
    "plt.figure(figsize=(8,4))\n",
    "plt.plot(loss, label='loss')\n",
    "plt.plot( val_loss, label='val_loss')\n",
    "plt.ylim([0, 10])\n",
    "plt.title('Loss vs Val Loss')\n",
    "plt.xlabel('epochs')\n",
    "plt.ylabel('error [MPG]')\n",
    "plt.show()"
   ]
  },
  {
   "cell_type": "code",
   "execution_count": null,
   "metadata": {},
   "outputs": [],
   "source": []
  }
 ],
 "metadata": {
  "kernelspec": {
   "display_name": "Python 3",
   "language": "python",
   "name": "python3"
  },
  "language_info": {
   "codemirror_mode": {
    "name": "ipython",
    "version": 3
   },
   "file_extension": ".py",
   "mimetype": "text/x-python",
   "name": "python",
   "nbconvert_exporter": "python",
   "pygments_lexer": "ipython3",
   "version": "3.7.6"
  }
 },
 "nbformat": 4,
 "nbformat_minor": 4
}
