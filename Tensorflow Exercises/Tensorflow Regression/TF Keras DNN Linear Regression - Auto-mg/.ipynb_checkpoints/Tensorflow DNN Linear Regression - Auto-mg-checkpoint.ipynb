{
 "cells": [
  {
   "cell_type": "code",
   "execution_count": 2,
   "metadata": {},
   "outputs": [],
   "source": [
    "import matplotlib.pyplot as plt\n",
    "import numpy as np\n",
    "import pandas as pd\n",
    "import seaborn as sns\n",
    "\n",
    "\n",
    "# Make numpy printouts easier to read.\n",
    "np.set_printoptions(precision=3, suppress=True)\n",
    "\n",
    "import tensorflow as tf\n",
    "from tensorflow import keras\n",
    "from tensorflow.keras import layers\n",
    "from tensorflow.keras.layers.experimental import preprocessing"
   ]
  },
  {
   "cell_type": "code",
   "execution_count": 5,
   "metadata": {},
   "outputs": [],
   "source": [
    "url = 'http://archive.ics.uci.edu/ml/machine-learning-databases/auto-mpg/auto-mpg.data'\n",
    "column_names = ['MPG', 'Cylinders', 'Displacement', 'Horsepower', 'Weight',\n",
    "                'Acceleration', 'Model Year', 'Origin']\n",
    "\n",
    "raw_df = pd.read_csv(url, names=column_names,\n",
    "                    na_values='?', comment='\\t',\n",
    "                    sep=' ', skipinitialspace=True)\n",
    "\n",
    "raw_df.to_csv('auto-mg.csv', index=True)"
   ]
  },
  {
   "cell_type": "code",
   "execution_count": 6,
   "metadata": {},
   "outputs": [],
   "source": [
    "df = raw_df"
   ]
  },
  {
   "cell_type": "code",
   "execution_count": 8,
   "metadata": {},
   "outputs": [
    {
     "data": {
      "text/plain": [
       "MPG             0\n",
       "Cylinders       0\n",
       "Displacement    0\n",
       "Horsepower      6\n",
       "Weight          0\n",
       "Acceleration    0\n",
       "Model Year      0\n",
       "Origin          0\n",
       "dtype: int64"
      ]
     },
     "execution_count": 8,
     "metadata": {},
     "output_type": "execute_result"
    }
   ],
   "source": [
    "df.isna().sum()"
   ]
  },
  {
   "cell_type": "code",
   "execution_count": 9,
   "metadata": {},
   "outputs": [
    {
     "data": {
      "text/plain": [
       "0"
      ]
     },
     "execution_count": 9,
     "metadata": {},
     "output_type": "execute_result"
    }
   ],
   "source": [
    "mask = df['Horsepower'].isna()\n",
    "\n",
    "cylinder_group = df.groupby('Cylinders')['Horsepower'].mean()\n",
    "df.loc[mask, 'Horsepower'] = df.loc[mask, 'Cylinders'].map(cylinder_group)\n",
    "df['Horsepower'].isna().sum()"
   ]
  },
  {
   "cell_type": "code",
   "execution_count": 10,
   "metadata": {},
   "outputs": [],
   "source": [
    "train_data = df.sample(frac=0.8, random_state=32)\n",
    "test_data = df.drop(train_data.index)"
   ]
  },
  {
   "cell_type": "code",
   "execution_count": 15,
   "metadata": {},
   "outputs": [],
   "source": [
    "train_features = train_data.copy()\n",
    "test_features = test_data.copy()\n",
    "\n",
    "train_labels = train_features.pop('MPG')\n",
    "test_labels = test_features.pop('MPG')"
   ]
  },
  {
   "cell_type": "code",
   "execution_count": null,
   "metadata": {},
   "outputs": [],
   "source": []
  },
  {
   "cell_type": "code",
   "execution_count": 21,
   "metadata": {},
   "outputs": [],
   "source": [
    "hp_normalizer = preprocessing.Normalization(input_shape=[1,])\n",
    "\n",
    "normalizer = preprocessing.Normalization()"
   ]
  },
  {
   "cell_type": "code",
   "execution_count": 43,
   "metadata": {},
   "outputs": [],
   "source": [
    "def build_and_compile_model(norm):\n",
    "    model = keras.Sequential([\n",
    "      norm,\n",
    "      layers.Dense(64, activation='relu'),\n",
    "      layers.Dense(64, activation='relu'),\n",
    "      layers.Dense(1)\n",
    "    ])\n",
    "\n",
    "    model.compile(loss='mean_absolute_error',\n",
    "                optimizer=tf.keras.optimizers.Adam(0.001))\n",
    "    return model"
   ]
  },
  {
   "cell_type": "code",
   "execution_count": 44,
   "metadata": {},
   "outputs": [
    {
     "name": "stdout",
     "output_type": "stream",
     "text": [
      "Model: \"sequential_3\"\n",
      "_________________________________________________________________\n",
      "Layer (type)                 Output Shape              Param #   \n",
      "=================================================================\n",
      "normalization_2 (Normalizati (None, 1)                 3         \n",
      "_________________________________________________________________\n",
      "dense_9 (Dense)              (None, 64)                128       \n",
      "_________________________________________________________________\n",
      "dense_10 (Dense)             (None, 64)                4160      \n",
      "_________________________________________________________________\n",
      "dense_11 (Dense)             (None, 1)                 65        \n",
      "=================================================================\n",
      "Total params: 4,356\n",
      "Trainable params: 4,353\n",
      "Non-trainable params: 3\n",
      "_________________________________________________________________\n"
     ]
    }
   ],
   "source": [
    "dnn_single_feature_model = build_and_compile(hp_normalizer)\n",
    "dnn_single_feature_model.summary()"
   ]
  },
  {
   "cell_type": "code",
   "execution_count": 45,
   "metadata": {},
   "outputs": [
    {
     "name": "stdout",
     "output_type": "stream",
     "text": [
      "Epoch 1/100\n",
      "8/8 [==============================] - 1s 39ms/step - loss: 23.0397 - val_loss: 23.6379\n",
      "Epoch 2/100\n",
      "8/8 [==============================] - 0s 9ms/step - loss: 23.6688 - val_loss: 23.4661\n",
      "Epoch 3/100\n",
      "8/8 [==============================] - 0s 7ms/step - loss: 23.9277 - val_loss: 23.2646\n",
      "Epoch 4/100\n",
      "8/8 [==============================] - 0s 8ms/step - loss: 23.1035 - val_loss: 23.0128\n",
      "Epoch 5/100\n",
      "8/8 [==============================] - 0s 10ms/step - loss: 22.6111 - val_loss: 22.6921\n",
      "Epoch 6/100\n",
      "8/8 [==============================] - 0s 8ms/step - loss: 22.9715 - val_loss: 22.2776\n",
      "Epoch 7/100\n",
      "8/8 [==============================] - 0s 7ms/step - loss: 21.7741 - val_loss: 21.7389\n",
      "Epoch 8/100\n",
      "8/8 [==============================] - 0s 7ms/step - loss: 21.7676 - val_loss: 21.0542\n",
      "Epoch 9/100\n",
      "8/8 [==============================] - 0s 7ms/step - loss: 21.1174 - val_loss: 20.1866\n",
      "Epoch 10/100\n",
      "8/8 [==============================] - 0s 6ms/step - loss: 19.7862 - val_loss: 19.1578\n",
      "Epoch 11/100\n",
      "8/8 [==============================] - 0s 7ms/step - loss: 18.5913 - val_loss: 18.0471\n",
      "Epoch 12/100\n",
      "8/8 [==============================] - 0s 9ms/step - loss: 17.8815 - val_loss: 16.7292\n",
      "Epoch 13/100\n",
      "8/8 [==============================] - 0s 12ms/step - loss: 15.7543 - val_loss: 15.2597\n",
      "Epoch 14/100\n",
      "8/8 [==============================] - 0s 6ms/step - loss: 14.4766 - val_loss: 13.5379\n",
      "Epoch 15/100\n",
      "8/8 [==============================] - 0s 7ms/step - loss: 13.4990 - val_loss: 11.5261\n",
      "Epoch 16/100\n",
      "8/8 [==============================] - 0s 13ms/step - loss: 11.4920 - val_loss: 9.2968\n",
      "Epoch 17/100\n",
      "8/8 [==============================] - 0s 12ms/step - loss: 8.9335 - val_loss: 6.8897\n",
      "Epoch 18/100\n",
      "8/8 [==============================] - 0s 16ms/step - loss: 6.9753 - val_loss: 4.8658\n",
      "Epoch 19/100\n",
      "8/8 [==============================] - 0s 13ms/step - loss: 4.8476 - val_loss: 3.9736\n",
      "Epoch 20/100\n",
      "8/8 [==============================] - 0s 7ms/step - loss: 4.0873 - val_loss: 3.9484\n",
      "Epoch 21/100\n",
      "8/8 [==============================] - 0s 9ms/step - loss: 3.8261 - val_loss: 3.9377\n",
      "Epoch 22/100\n",
      "8/8 [==============================] - 0s 7ms/step - loss: 3.9852 - val_loss: 3.9138\n",
      "Epoch 23/100\n",
      "8/8 [==============================] - 0s 7ms/step - loss: 3.9989 - val_loss: 3.8720\n",
      "Epoch 24/100\n",
      "8/8 [==============================] - 0s 6ms/step - loss: 3.7376 - val_loss: 3.8480\n",
      "Epoch 25/100\n",
      "8/8 [==============================] - 0s 9ms/step - loss: 3.6650 - val_loss: 3.8223\n",
      "Epoch 26/100\n",
      "8/8 [==============================] - 0s 7ms/step - loss: 3.7831 - val_loss: 3.8150\n",
      "Epoch 27/100\n",
      "8/8 [==============================] - 0s 7ms/step - loss: 3.9332 - val_loss: 3.8051\n",
      "Epoch 28/100\n",
      "8/8 [==============================] - 0s 7ms/step - loss: 3.5111 - val_loss: 3.7953\n",
      "Epoch 29/100\n",
      "8/8 [==============================] - 0s 7ms/step - loss: 3.4427 - val_loss: 3.7882\n",
      "Epoch 30/100\n",
      "8/8 [==============================] - 0s 7ms/step - loss: 3.6237 - val_loss: 3.7814\n",
      "Epoch 31/100\n",
      "8/8 [==============================] - 0s 7ms/step - loss: 3.8277 - val_loss: 3.7674\n",
      "Epoch 32/100\n",
      "8/8 [==============================] - 0s 7ms/step - loss: 3.6877 - val_loss: 3.7606\n",
      "Epoch 33/100\n",
      "8/8 [==============================] - 0s 7ms/step - loss: 3.8675 - val_loss: 3.7572\n",
      "Epoch 34/100\n",
      "8/8 [==============================] - 0s 7ms/step - loss: 3.4427 - val_loss: 3.7431\n",
      "Epoch 35/100\n",
      "8/8 [==============================] - 0s 9ms/step - loss: 3.5879 - val_loss: 3.7341\n",
      "Epoch 36/100\n",
      "8/8 [==============================] - 0s 10ms/step - loss: 3.7373 - val_loss: 3.7263\n",
      "Epoch 37/100\n",
      "8/8 [==============================] - 0s 7ms/step - loss: 3.8379 - val_loss: 3.7196\n",
      "Epoch 38/100\n",
      "8/8 [==============================] - 0s 7ms/step - loss: 3.6737 - val_loss: 3.7171\n",
      "Epoch 39/100\n",
      "8/8 [==============================] - 0s 7ms/step - loss: 3.6131 - val_loss: 3.7138\n",
      "Epoch 40/100\n",
      "8/8 [==============================] - 0s 7ms/step - loss: 3.4951 - val_loss: 3.6933\n",
      "Epoch 41/100\n",
      "8/8 [==============================] - 0s 7ms/step - loss: 3.3761 - val_loss: 3.6776\n",
      "Epoch 42/100\n",
      "8/8 [==============================] - 0s 6ms/step - loss: 3.5408 - val_loss: 3.6638\n",
      "Epoch 43/100\n",
      "8/8 [==============================] - 0s 7ms/step - loss: 3.7360 - val_loss: 3.6602\n",
      "Epoch 44/100\n",
      "8/8 [==============================] - 0s 6ms/step - loss: 3.3853 - val_loss: 3.6590\n",
      "Epoch 45/100\n",
      "8/8 [==============================] - 0s 9ms/step - loss: 3.6706 - val_loss: 3.6306\n",
      "Epoch 46/100\n",
      "8/8 [==============================] - 0s 8ms/step - loss: 3.7262 - val_loss: 3.6419\n",
      "Epoch 47/100\n",
      "8/8 [==============================] - 0s 7ms/step - loss: 3.5602 - val_loss: 3.6651\n",
      "Epoch 48/100\n",
      "8/8 [==============================] - 0s 8ms/step - loss: 3.4885 - val_loss: 3.6278\n",
      "Epoch 49/100\n",
      "8/8 [==============================] - 0s 8ms/step - loss: 3.4275 - val_loss: 3.6203\n",
      "Epoch 50/100\n",
      "8/8 [==============================] - 0s 6ms/step - loss: 3.5058 - val_loss: 3.6354\n",
      "Epoch 51/100\n",
      "8/8 [==============================] - 0s 6ms/step - loss: 3.3231 - val_loss: 3.6484\n",
      "Epoch 52/100\n",
      "8/8 [==============================] - 0s 7ms/step - loss: 3.8361 - val_loss: 3.5921\n",
      "Epoch 53/100\n",
      "8/8 [==============================] - 0s 8ms/step - loss: 3.5264 - val_loss: 3.5997\n",
      "Epoch 54/100\n",
      "8/8 [==============================] - 0s 9ms/step - loss: 3.3582 - val_loss: 3.6146\n",
      "Epoch 55/100\n",
      "8/8 [==============================] - 0s 8ms/step - loss: 3.5696 - val_loss: 3.5755\n",
      "Epoch 56/100\n",
      "8/8 [==============================] - 0s 7ms/step - loss: 3.5938 - val_loss: 3.5884\n",
      "Epoch 57/100\n",
      "8/8 [==============================] - 0s 9ms/step - loss: 3.5006 - val_loss: 3.5997\n",
      "Epoch 58/100\n",
      "8/8 [==============================] - 0s 9ms/step - loss: 3.5022 - val_loss: 3.6058\n",
      "Epoch 59/100\n",
      "8/8 [==============================] - 0s 6ms/step - loss: 3.5530 - val_loss: 3.5791\n",
      "Epoch 60/100\n",
      "8/8 [==============================] - 0s 6ms/step - loss: 3.4871 - val_loss: 3.5751\n",
      "Epoch 61/100\n",
      "8/8 [==============================] - 0s 7ms/step - loss: 3.1884 - val_loss: 3.5591\n",
      "Epoch 62/100\n",
      "8/8 [==============================] - 0s 6ms/step - loss: 3.5390 - val_loss: 3.5833\n",
      "Epoch 63/100\n",
      "8/8 [==============================] - 0s 7ms/step - loss: 3.5011 - val_loss: 3.5952\n",
      "Epoch 64/100\n",
      "8/8 [==============================] - 0s 6ms/step - loss: 3.6878 - val_loss: 3.5717\n",
      "Epoch 65/100\n",
      "8/8 [==============================] - 0s 6ms/step - loss: 3.5356 - val_loss: 3.5769\n",
      "Epoch 66/100\n",
      "8/8 [==============================] - 0s 6ms/step - loss: 3.7294 - val_loss: 3.5591\n",
      "Epoch 67/100\n",
      "8/8 [==============================] - 0s 6ms/step - loss: 3.3476 - val_loss: 3.5603\n",
      "Epoch 68/100\n",
      "8/8 [==============================] - 0s 6ms/step - loss: 3.4415 - val_loss: 3.5672\n",
      "Epoch 69/100\n",
      "8/8 [==============================] - 0s 7ms/step - loss: 3.4884 - val_loss: 3.5761\n",
      "Epoch 70/100\n",
      "8/8 [==============================] - 0s 7ms/step - loss: 3.4558 - val_loss: 3.5831\n",
      "Epoch 71/100\n",
      "8/8 [==============================] - 0s 9ms/step - loss: 3.6907 - val_loss: 3.5376\n",
      "Epoch 72/100\n",
      "8/8 [==============================] - 0s 8ms/step - loss: 3.4278 - val_loss: 3.5667\n",
      "Epoch 73/100\n",
      "8/8 [==============================] - 0s 7ms/step - loss: 3.2895 - val_loss: 3.5682\n",
      "Epoch 74/100\n",
      "8/8 [==============================] - 0s 6ms/step - loss: 3.2086 - val_loss: 3.5261\n",
      "Epoch 75/100\n",
      "8/8 [==============================] - 0s 7ms/step - loss: 3.1732 - val_loss: 3.5444\n",
      "Epoch 76/100\n",
      "8/8 [==============================] - 0s 6ms/step - loss: 3.4261 - val_loss: 3.5579\n",
      "Epoch 77/100\n",
      "8/8 [==============================] - 0s 6ms/step - loss: 3.2282 - val_loss: 3.5352\n",
      "Epoch 78/100\n",
      "8/8 [==============================] - 0s 5ms/step - loss: 3.5731 - val_loss: 3.5310\n",
      "Epoch 79/100\n",
      "8/8 [==============================] - 0s 7ms/step - loss: 3.5296 - val_loss: 3.5361\n",
      "Epoch 80/100\n",
      "8/8 [==============================] - 0s 7ms/step - loss: 3.2772 - val_loss: 3.5251\n",
      "Epoch 81/100\n",
      "8/8 [==============================] - 0s 7ms/step - loss: 3.3350 - val_loss: 3.5493\n",
      "Epoch 82/100\n",
      "8/8 [==============================] - 0s 6ms/step - loss: 3.4124 - val_loss: 3.5946\n",
      "Epoch 83/100\n",
      "8/8 [==============================] - 0s 6ms/step - loss: 3.5777 - val_loss: 3.5220\n",
      "Epoch 84/100\n"
     ]
    },
    {
     "name": "stdout",
     "output_type": "stream",
     "text": [
      "8/8 [==============================] - 0s 6ms/step - loss: 3.3781 - val_loss: 3.5045\n",
      "Epoch 85/100\n",
      "8/8 [==============================] - 0s 6ms/step - loss: 3.3622 - val_loss: 3.5401\n",
      "Epoch 86/100\n",
      "8/8 [==============================] - 0s 6ms/step - loss: 3.4118 - val_loss: 3.5518\n",
      "Epoch 87/100\n",
      "8/8 [==============================] - 0s 7ms/step - loss: 3.4625 - val_loss: 3.5320\n",
      "Epoch 88/100\n",
      "8/8 [==============================] - 0s 6ms/step - loss: 3.5294 - val_loss: 3.5061\n",
      "Epoch 89/100\n",
      "8/8 [==============================] - 0s 6ms/step - loss: 3.4676 - val_loss: 3.5549\n",
      "Epoch 90/100\n",
      "8/8 [==============================] - 0s 6ms/step - loss: 3.2655 - val_loss: 3.5471\n",
      "Epoch 91/100\n",
      "8/8 [==============================] - 0s 6ms/step - loss: 3.3443 - val_loss: 3.5231\n",
      "Epoch 92/100\n",
      "8/8 [==============================] - 0s 6ms/step - loss: 3.4186 - val_loss: 3.5236\n",
      "Epoch 93/100\n",
      "8/8 [==============================] - 0s 6ms/step - loss: 3.5291 - val_loss: 3.5356\n",
      "Epoch 94/100\n",
      "8/8 [==============================] - 0s 6ms/step - loss: 3.4559 - val_loss: 3.5285\n",
      "Epoch 95/100\n",
      "8/8 [==============================] - 0s 6ms/step - loss: 3.3909 - val_loss: 3.5302\n",
      "Epoch 96/100\n",
      "8/8 [==============================] - 0s 6ms/step - loss: 3.3904 - val_loss: 3.5477\n",
      "Epoch 97/100\n",
      "8/8 [==============================] - 0s 6ms/step - loss: 3.4781 - val_loss: 3.5078\n",
      "Epoch 98/100\n",
      "8/8 [==============================] - 0s 7ms/step - loss: 3.2817 - val_loss: 3.5192\n",
      "Epoch 99/100\n",
      "8/8 [==============================] - 0s 6ms/step - loss: 3.4537 - val_loss: 3.4863\n",
      "Epoch 100/100\n",
      "8/8 [==============================] - 0s 6ms/step - loss: 3.6248 - val_loss: 3.5436\n"
     ]
    }
   ],
   "source": [
    "history = dnn_single_feature_model.fit(\n",
    "    train_features['Horsepower'], train_labels,\n",
    "    validation_split=0.2, verbose=1, epochs=100)"
   ]
  },
  {
   "cell_type": "code",
   "execution_count": 46,
   "metadata": {},
   "outputs": [],
   "source": [
    "def plot_loss(history):\n",
    "    plt.figure(figsize=(8,4))\n",
    "    plt.plot(history.history['val_loss'], label='val_loss')\n",
    "    plt.plot(history.history['loss'], label='loss')\n",
    "    plt.xlabel('Epochs')\n",
    "    plt.ylabel('Loss')\n",
    "    plt.legend()\n",
    "    plt.title('Loss vs Val Loss')\n",
    "    plt.show()"
   ]
  },
  {
   "cell_type": "code",
   "execution_count": 47,
   "metadata": {},
   "outputs": [
    {
     "data": {
      "image/png": "[encoded data removed]",
      "text/plain": [
       "<Figure size 576x288 with 1 Axes>"
      ]
     },
     "metadata": {
      "needs_background": "light"
     },
     "output_type": "display_data"
    }
   ],
   "source": [
    "plot_loss(history)"
   ]
  },
  {
   "cell_type": "code",
   "execution_count": 48,
   "metadata": {},
   "outputs": [],
   "source": [
    "def plot_horsepower(x, y):\n",
    "    plt.scatter(train_features['Horsepower'], train_labels, label='Data')\n",
    "    plt.plot(x, y, color='k', label='Predictions')\n",
    "    plt.xlabel('Horsepower')\n",
    "    plt.ylabel('MPG')\n",
    "    plt.legend()"
   ]
  },
  {
   "cell_type": "code",
   "execution_count": 49,
   "metadata": {},
   "outputs": [
    {
     "data": {
      "image/png": "[encoded data removed]",
      "text/plain": [
       "<Figure size 432x288 with 1 Axes>"
      ]
     },
     "metadata": {
      "needs_background": "light"
     },
     "output_type": "display_data"
    }
   ],
   "source": [
    "x = tf.linspace(0, 250, 251)\n",
    "y = dnn_single_feature_model.predict(x)\n",
    "plot_horsepower(x,y)"
   ]
  },
  {
   "cell_type": "code",
   "execution_count": 50,
   "metadata": {},
   "outputs": [],
   "source": [
    "test_results = {}\n",
    "test_results['dnn_single_feature_model'] = dnn_single_feature_model.evaluate(\n",
    "    test_features['Horsepower'], test_labels,\n",
    "    verbose=0)"
   ]
  },
  {
   "cell_type": "code",
   "execution_count": null,
   "metadata": {},
   "outputs": [],
   "source": []
  },
  {
   "cell_type": "markdown",
   "metadata": {},
   "source": [
    "# Multi-variable DNN Linear Regression"
   ]
  },
  {
   "cell_type": "code",
   "execution_count": 52,
   "metadata": {},
   "outputs": [
    {
     "name": "stdout",
     "output_type": "stream",
     "text": [
      "Model: \"sequential_5\"\n",
      "_________________________________________________________________\n",
      "Layer (type)                 Output Shape              Param #   \n",
      "=================================================================\n",
      "normalization_3 (Normalizati (None, 7)                 15        \n",
      "_________________________________________________________________\n",
      "dense_15 (Dense)             (None, 64)                512       \n",
      "_________________________________________________________________\n",
      "dense_16 (Dense)             (None, 64)                4160      \n",
      "_________________________________________________________________\n",
      "dense_17 (Dense)             (None, 1)                 65        \n",
      "=================================================================\n",
      "Total params: 4,752\n",
      "Trainable params: 4,737\n",
      "Non-trainable params: 15\n",
      "_________________________________________________________________\n"
     ]
    }
   ],
   "source": [
    "dnn_model = build_and_compile_model(normalizer)\n",
    "dnn_model.summary()"
   ]
  },
  {
   "cell_type": "code",
   "execution_count": 53,
   "metadata": {},
   "outputs": [
    {
     "name": "stdout",
     "output_type": "stream",
     "text": [
      "Epoch 1/100\n",
      "8/8 [==============================] - 0s 22ms/step - loss: 24.0438 - val_loss: 23.3907\n",
      "Epoch 2/100\n",
      "8/8 [==============================] - 0s 7ms/step - loss: 23.9281 - val_loss: 22.8246\n",
      "Epoch 3/100\n",
      "8/8 [==============================] - 0s 8ms/step - loss: 23.1232 - val_loss: 22.1681\n",
      "Epoch 4/100\n",
      "8/8 [==============================] - 0s 8ms/step - loss: 22.3349 - val_loss: 21.3332\n",
      "Epoch 5/100\n",
      "8/8 [==============================] - 0s 7ms/step - loss: 21.4812 - val_loss: 20.2175\n",
      "Epoch 6/100\n",
      "8/8 [==============================] - 0s 8ms/step - loss: 19.4057 - val_loss: 18.7910\n",
      "Epoch 7/100\n",
      "8/8 [==============================] - 0s 8ms/step - loss: 17.8497 - val_loss: 17.2924\n",
      "Epoch 8/100\n",
      "8/8 [==============================] - 0s 6ms/step - loss: 15.7817 - val_loss: 15.5904\n",
      "Epoch 9/100\n",
      "8/8 [==============================] - 0s 8ms/step - loss: 14.4829 - val_loss: 13.6014\n",
      "Epoch 10/100\n",
      "8/8 [==============================] - 0s 6ms/step - loss: 12.9576 - val_loss: 11.2500\n",
      "Epoch 11/100\n",
      "8/8 [==============================] - 0s 8ms/step - loss: 10.1915 - val_loss: 8.6189\n",
      "Epoch 12/100\n",
      "8/8 [==============================] - 0s 11ms/step - loss: 7.3516 - val_loss: 7.0429\n",
      "Epoch 13/100\n",
      "8/8 [==============================] - 0s 8ms/step - loss: 6.2666 - val_loss: 6.7725\n",
      "Epoch 14/100\n",
      "8/8 [==============================] - 0s 7ms/step - loss: 5.8382 - val_loss: 6.4555\n",
      "Epoch 15/100\n",
      "8/8 [==============================] - 0s 7ms/step - loss: 5.3624 - val_loss: 5.7578\n",
      "Epoch 16/100\n",
      "8/8 [==============================] - 0s 7ms/step - loss: 4.7876 - val_loss: 5.2116\n",
      "Epoch 17/100\n",
      "8/8 [==============================] - 0s 10ms/step - loss: 4.6286 - val_loss: 4.7435\n",
      "Epoch 18/100\n",
      "8/8 [==============================] - 0s 8ms/step - loss: 4.0678 - val_loss: 4.3160\n",
      "Epoch 19/100\n",
      "8/8 [==============================] - 0s 7ms/step - loss: 3.7712 - val_loss: 3.9654\n",
      "Epoch 20/100\n",
      "8/8 [==============================] - 0s 7ms/step - loss: 3.3569 - val_loss: 3.7024\n",
      "Epoch 21/100\n",
      "8/8 [==============================] - 0s 7ms/step - loss: 3.1507 - val_loss: 3.5058\n",
      "Epoch 22/100\n",
      "8/8 [==============================] - 0s 7ms/step - loss: 3.1430 - val_loss: 3.3298\n",
      "Epoch 23/100\n",
      "8/8 [==============================] - 0s 7ms/step - loss: 2.7347 - val_loss: 3.2089\n",
      "Epoch 24/100\n",
      "8/8 [==============================] - 0s 10ms/step - loss: 2.8783 - val_loss: 3.0414\n",
      "Epoch 25/100\n",
      "8/8 [==============================] - 0s 7ms/step - loss: 2.9014 - val_loss: 2.9434\n",
      "Epoch 26/100\n",
      "8/8 [==============================] - 0s 7ms/step - loss: 2.5862 - val_loss: 2.8539\n",
      "Epoch 27/100\n",
      "8/8 [==============================] - 0s 8ms/step - loss: 2.4153 - val_loss: 2.7923\n",
      "Epoch 28/100\n",
      "8/8 [==============================] - 0s 7ms/step - loss: 2.6580 - val_loss: 2.6887\n",
      "Epoch 29/100\n",
      "8/8 [==============================] - 0s 8ms/step - loss: 2.4436 - val_loss: 2.7775\n",
      "Epoch 30/100\n",
      "8/8 [==============================] - 0s 7ms/step - loss: 2.4565 - val_loss: 2.6199\n",
      "Epoch 31/100\n",
      "8/8 [==============================] - 0s 7ms/step - loss: 2.2234 - val_loss: 2.5171\n",
      "Epoch 32/100\n",
      "8/8 [==============================] - 0s 7ms/step - loss: 2.3304 - val_loss: 2.5055\n",
      "Epoch 33/100\n",
      "8/8 [==============================] - 0s 8ms/step - loss: 2.4138 - val_loss: 2.4918\n",
      "Epoch 34/100\n",
      "8/8 [==============================] - 0s 8ms/step - loss: 2.4230 - val_loss: 2.4601\n",
      "Epoch 35/100\n",
      "8/8 [==============================] - 0s 7ms/step - loss: 2.3368 - val_loss: 2.4092\n",
      "Epoch 36/100\n",
      "8/8 [==============================] - 0s 7ms/step - loss: 2.2400 - val_loss: 2.4064\n",
      "Epoch 37/100\n",
      "8/8 [==============================] - 0s 6ms/step - loss: 2.3058 - val_loss: 2.3616\n",
      "Epoch 38/100\n",
      "8/8 [==============================] - 0s 7ms/step - loss: 2.1912 - val_loss: 2.3844\n",
      "Epoch 39/100\n",
      "8/8 [==============================] - 0s 7ms/step - loss: 2.1077 - val_loss: 2.2858\n",
      "Epoch 40/100\n",
      "8/8 [==============================] - 0s 14ms/step - loss: 2.2308 - val_loss: 2.3058\n",
      "Epoch 41/100\n",
      "8/8 [==============================] - 0s 7ms/step - loss: 2.2601 - val_loss: 2.3369\n",
      "Epoch 42/100\n",
      "8/8 [==============================] - 0s 9ms/step - loss: 2.1029 - val_loss: 2.2346\n",
      "Epoch 43/100\n",
      "8/8 [==============================] - 0s 8ms/step - loss: 2.1824 - val_loss: 2.2814\n",
      "Epoch 44/100\n",
      "8/8 [==============================] - 0s 6ms/step - loss: 1.9411 - val_loss: 2.2454\n",
      "Epoch 45/100\n",
      "8/8 [==============================] - 1s 177ms/step - loss: 1.9354 - val_loss: 2.1864\n",
      "Epoch 46/100\n",
      "8/8 [==============================] - 0s 7ms/step - loss: 2.1256 - val_loss: 2.2432\n",
      "Epoch 47/100\n",
      "8/8 [==============================] - 0s 8ms/step - loss: 2.0786 - val_loss: 2.1576\n",
      "Epoch 48/100\n",
      "8/8 [==============================] - 0s 8ms/step - loss: 1.9779 - val_loss: 2.2451\n",
      "Epoch 49/100\n",
      "8/8 [==============================] - 0s 8ms/step - loss: 2.2018 - val_loss: 2.1535\n",
      "Epoch 50/100\n",
      "8/8 [==============================] - 0s 7ms/step - loss: 2.0640 - val_loss: 2.1665\n",
      "Epoch 51/100\n",
      "8/8 [==============================] - 0s 7ms/step - loss: 1.9475 - val_loss: 2.1462\n",
      "Epoch 52/100\n",
      "8/8 [==============================] - 0s 8ms/step - loss: 1.9088 - val_loss: 2.1458\n",
      "Epoch 53/100\n",
      "8/8 [==============================] - 0s 7ms/step - loss: 1.9205 - val_loss: 2.0876\n",
      "Epoch 54/100\n",
      "8/8 [==============================] - 0s 7ms/step - loss: 1.7667 - val_loss: 2.1345\n",
      "Epoch 55/100\n",
      "8/8 [==============================] - 0s 8ms/step - loss: 1.9663 - val_loss: 2.0755\n",
      "Epoch 56/100\n",
      "8/8 [==============================] - 0s 9ms/step - loss: 1.9155 - val_loss: 2.0756\n",
      "Epoch 57/100\n",
      "8/8 [==============================] - 0s 8ms/step - loss: 1.9113 - val_loss: 2.0561\n",
      "Epoch 58/100\n",
      "8/8 [==============================] - 0s 6ms/step - loss: 1.9198 - val_loss: 2.0564\n",
      "Epoch 59/100\n",
      "8/8 [==============================] - 0s 7ms/step - loss: 1.8258 - val_loss: 2.0522\n",
      "Epoch 60/100\n",
      "8/8 [==============================] - 0s 6ms/step - loss: 1.8804 - val_loss: 2.0459\n",
      "Epoch 61/100\n",
      "8/8 [==============================] - 0s 7ms/step - loss: 1.9382 - val_loss: 2.0578\n",
      "Epoch 62/100\n",
      "8/8 [==============================] - 0s 7ms/step - loss: 1.9604 - val_loss: 2.0049\n",
      "Epoch 63/100\n",
      "8/8 [==============================] - 0s 7ms/step - loss: 1.9937 - val_loss: 2.0386\n",
      "Epoch 64/100\n",
      "8/8 [==============================] - 0s 7ms/step - loss: 1.7357 - val_loss: 2.0062\n",
      "Epoch 65/100\n",
      "8/8 [==============================] - 0s 6ms/step - loss: 1.9881 - val_loss: 2.0045\n",
      "Epoch 66/100\n",
      "8/8 [==============================] - 0s 7ms/step - loss: 1.9537 - val_loss: 1.9711\n",
      "Epoch 67/100\n",
      "8/8 [==============================] - 0s 7ms/step - loss: 1.9366 - val_loss: 1.9940\n",
      "Epoch 68/100\n",
      "8/8 [==============================] - 0s 7ms/step - loss: 2.0337 - val_loss: 1.9724\n",
      "Epoch 69/100\n",
      "8/8 [==============================] - 0s 7ms/step - loss: 1.8940 - val_loss: 1.9678\n",
      "Epoch 70/100\n",
      "8/8 [==============================] - 0s 7ms/step - loss: 1.9612 - val_loss: 1.9622\n",
      "Epoch 71/100\n",
      "8/8 [==============================] - 0s 6ms/step - loss: 1.7636 - val_loss: 1.9573\n",
      "Epoch 72/100\n",
      "8/8 [==============================] - 0s 6ms/step - loss: 1.8240 - val_loss: 1.9457\n",
      "Epoch 73/100\n",
      "8/8 [==============================] - 0s 6ms/step - loss: 2.0198 - val_loss: 1.9430\n",
      "Epoch 74/100\n",
      "8/8 [==============================] - 0s 7ms/step - loss: 1.8609 - val_loss: 1.9628\n",
      "Epoch 75/100\n",
      "8/8 [==============================] - 0s 8ms/step - loss: 1.8802 - val_loss: 1.9685\n",
      "Epoch 76/100\n",
      "8/8 [==============================] - 0s 7ms/step - loss: 1.8234 - val_loss: 1.9629\n",
      "Epoch 77/100\n",
      "8/8 [==============================] - 0s 7ms/step - loss: 1.7413 - val_loss: 1.9387\n",
      "Epoch 78/100\n",
      "8/8 [==============================] - 0s 6ms/step - loss: 1.8850 - val_loss: 1.9184\n",
      "Epoch 79/100\n",
      "8/8 [==============================] - 0s 6ms/step - loss: 1.8652 - val_loss: 1.9150\n",
      "Epoch 80/100\n",
      "8/8 [==============================] - 0s 6ms/step - loss: 1.8738 - val_loss: 1.9331\n",
      "Epoch 81/100\n",
      "8/8 [==============================] - 0s 6ms/step - loss: 1.6698 - val_loss: 1.9122\n",
      "Epoch 82/100\n",
      "8/8 [==============================] - 0s 6ms/step - loss: 1.8646 - val_loss: 1.9002\n",
      "Epoch 83/100\n",
      "8/8 [==============================] - 0s 6ms/step - loss: 1.6750 - val_loss: 1.9082\n",
      "Epoch 84/100\n"
     ]
    },
    {
     "name": "stdout",
     "output_type": "stream",
     "text": [
      "8/8 [==============================] - 0s 6ms/step - loss: 1.9744 - val_loss: 1.9069\n",
      "Epoch 85/100\n",
      "8/8 [==============================] - 0s 6ms/step - loss: 1.8047 - val_loss: 1.9157\n",
      "Epoch 86/100\n",
      "8/8 [==============================] - 0s 6ms/step - loss: 1.7108 - val_loss: 1.9071\n",
      "Epoch 87/100\n",
      "8/8 [==============================] - 0s 6ms/step - loss: 1.8716 - val_loss: 1.8922\n",
      "Epoch 88/100\n",
      "8/8 [==============================] - 0s 6ms/step - loss: 1.9274 - val_loss: 1.8819\n",
      "Epoch 89/100\n",
      "8/8 [==============================] - 0s 6ms/step - loss: 1.7357 - val_loss: 1.8829\n",
      "Epoch 90/100\n",
      "8/8 [==============================] - 0s 6ms/step - loss: 1.7367 - val_loss: 1.8827\n",
      "Epoch 91/100\n",
      "8/8 [==============================] - 0s 6ms/step - loss: 1.7892 - val_loss: 1.8771\n",
      "Epoch 92/100\n",
      "8/8 [==============================] - 0s 7ms/step - loss: 1.7121 - val_loss: 1.9032\n",
      "Epoch 93/100\n",
      "8/8 [==============================] - 0s 7ms/step - loss: 1.6354 - val_loss: 1.8779\n",
      "Epoch 94/100\n",
      "8/8 [==============================] - 0s 7ms/step - loss: 1.7222 - val_loss: 1.8635\n",
      "Epoch 95/100\n",
      "8/8 [==============================] - 0s 7ms/step - loss: 1.6052 - val_loss: 1.8617\n",
      "Epoch 96/100\n",
      "8/8 [==============================] - 0s 7ms/step - loss: 1.8610 - val_loss: 1.8724\n",
      "Epoch 97/100\n",
      "8/8 [==============================] - 0s 7ms/step - loss: 1.7346 - val_loss: 1.8580\n",
      "Epoch 98/100\n",
      "8/8 [==============================] - 0s 6ms/step - loss: 1.7017 - val_loss: 1.8588\n",
      "Epoch 99/100\n",
      "8/8 [==============================] - 0s 6ms/step - loss: 1.8298 - val_loss: 1.8536\n",
      "Epoch 100/100\n",
      "8/8 [==============================] - 0s 6ms/step - loss: 1.7048 - val_loss: 1.8376\n"
     ]
    }
   ],
   "source": [
    "history = dnn_model.fit(train_features, train_labels,\n",
    "                       validation_split=0.2, epochs =100,\n",
    "                       verbose=1)"
   ]
  },
  {
   "cell_type": "code",
   "execution_count": 55,
   "metadata": {},
   "outputs": [
    {
     "data": {
      "image/png": "[encoded data removed]",
      "text/plain": [
       "<Figure size 576x288 with 1 Axes>"
      ]
     },
     "metadata": {
      "needs_background": "light"
     },
     "output_type": "display_data"
    }
   ],
   "source": [
    "plot_loss(history)"
   ]
  },
  {
   "cell_type": "code",
   "execution_count": 57,
   "metadata": {},
   "outputs": [],
   "source": [
    "test_results['dnn_model'] = dnn_model.evaluate(test_features, \n",
    "                                           test_labels,\n",
    "                                           verbose=0)"
   ]
  },
  {
   "cell_type": "code",
   "execution_count": 58,
   "metadata": {},
   "outputs": [
    {
     "data": {
      "text/html": [
       "<div>\n",
       "<style scoped>\n",
       "    .dataframe tbody tr th:only-of-type {\n",
       "        vertical-align: middle;\n",
       "    }\n",
       "\n",
       "    .dataframe tbody tr th {\n",
       "        vertical-align: top;\n",
       "    }\n",
       "\n",
       "    .dataframe thead th {\n",
       "        text-align: right;\n",
       "    }\n",
       "</style>\n",
       "<table border=\"1\" class=\"dataframe\">\n",
       "  <thead>\n",
       "    <tr style=\"text-align: right;\">\n",
       "      <th></th>\n",
       "      <th>mean_absolute_error</th>\n",
       "    </tr>\n",
       "  </thead>\n",
       "  <tbody>\n",
       "    <tr>\n",
       "      <th>dnn_single_feature_model</th>\n",
       "      <td>2.905999</td>\n",
       "    </tr>\n",
       "    <tr>\n",
       "      <th>dnn_model</th>\n",
       "      <td>1.886676</td>\n",
       "    </tr>\n",
       "  </tbody>\n",
       "</table>\n",
       "</div>"
      ],
      "text/plain": [
       "                          mean_absolute_error\n",
       "dnn_single_feature_model             2.905999\n",
       "dnn_model                            1.886676"
      ]
     },
     "execution_count": 58,
     "metadata": {},
     "output_type": "execute_result"
    }
   ],
   "source": [
    "pd.DataFrame(test_results, index=['mean_absolute_error']).T"
   ]
  },
  {
   "cell_type": "code",
   "execution_count": 65,
   "metadata": {},
   "outputs": [
    {
     "data": {
      "image/png": "[encoded data removed]",
      "text/plain": [
       "<Figure size 432x288 with 1 Axes>"
      ]
     },
     "metadata": {
      "needs_background": "light"
     },
     "output_type": "display_data"
    }
   ],
   "source": [
    "test_predictions = dnn_model.predict(test_features).flatten()\n",
    "\n",
    "plt.scatter(test_predictions, test_labels)\n",
    "plt.xlabel('true values [MPG]')\n",
    "plt.ylabel('predictions [MPG]')\n",
    "lims = [0,50]\n",
    "plt.xlim(lims)\n",
    "plt.ylim(lims)\n",
    "_ = plt.plot(lims, lims)"
   ]
  },
  {
   "cell_type": "code",
   "execution_count": 69,
   "metadata": {},
   "outputs": [
    {
     "data": {
      "image/png": "[encoded data removed]",
      "text/plain": [
       "<Figure size 432x288 with 1 Axes>"
      ]
     },
     "metadata": {
      "needs_background": "light"
     },
     "output_type": "display_data"
    }
   ],
   "source": [
    "error = test_predictions - test_labels\n",
    "plt.hist(error, bins=25)\n",
    "plt.xlabel('Prediction Error [MPG]')\n",
    "_ = plt.ylabel('Count')"
   ]
  },
  {
   "cell_type": "code",
   "execution_count": null,
   "metadata": {},
   "outputs": [],
   "source": []
  }
 ],
 "metadata": {
  "kernelspec": {
   "display_name": "Python 3",
   "language": "python",
   "name": "python3"
  },
  "language_info": {
   "codemirror_mode": {
    "name": "ipython",
    "version": 3
   },
   "file_extension": ".py",
   "mimetype": "text/x-python",
   "name": "python",
   "nbconvert_exporter": "python",
   "pygments_lexer": "ipython3",
   "version": "3.7.6"
  }
 },
 "nbformat": 4,
 "nbformat_minor": 4
}
