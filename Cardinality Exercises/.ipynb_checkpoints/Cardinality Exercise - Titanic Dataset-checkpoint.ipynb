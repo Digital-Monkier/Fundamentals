{
 "cells": [
  {
   "cell_type": "markdown",
   "metadata": {},
   "source": [
    "# Cardinality Exercise\n",
    "* Variables with too many labels tend to dominate over those with only a few labels\n",
    "* A big number of labels within a variable may introduce noise and underfitting\n",
    "* High cardinality leadsa to uneven category distribution between training and test sets and some of the labels may be present only in the trainin data set but not the test"
   ]
  },
  {
   "cell_type": "code",
   "execution_count": 67,
   "metadata": {},
   "outputs": [],
   "source": [
    "import pandas as pd\n",
    "import numpy as np\n",
    "import matplotlib as plt\n",
    "\n",
    "from sklearn.linear_model import LogisticRegression\n",
    "from sklearn.ensemble import AdaBoostClassifier\n",
    "from sklearn.ensemble import RandomForestClassifier\n",
    "from sklearn.ensemble import GradientBoostingClassifier\n",
    "\n",
    "from sklearn.metrics import roc_auc_score\n",
    "\n",
    "from sklearn.model_selection import train_test_split"
   ]
  },
  {
   "cell_type": "code",
   "execution_count": 68,
   "metadata": {},
   "outputs": [
    {
     "data": {
      "text/html": [
       "<div>\n",
       "<style scoped>\n",
       "    .dataframe tbody tr th:only-of-type {\n",
       "        vertical-align: middle;\n",
       "    }\n",
       "\n",
       "    .dataframe tbody tr th {\n",
       "        vertical-align: top;\n",
       "    }\n",
       "\n",
       "    .dataframe thead th {\n",
       "        text-align: right;\n",
       "    }\n",
       "</style>\n",
       "<table border=\"1\" class=\"dataframe\">\n",
       "  <thead>\n",
       "    <tr style=\"text-align: right;\">\n",
       "      <th></th>\n",
       "      <th>Unnamed: 0</th>\n",
       "      <th>PassengerId</th>\n",
       "      <th>Survived</th>\n",
       "      <th>Pclass</th>\n",
       "      <th>Name</th>\n",
       "      <th>Sex</th>\n",
       "      <th>Age</th>\n",
       "      <th>SibSp</th>\n",
       "      <th>Parch</th>\n",
       "      <th>Ticket</th>\n",
       "      <th>Fare</th>\n",
       "      <th>Cabin</th>\n",
       "      <th>Embarked</th>\n",
       "    </tr>\n",
       "  </thead>\n",
       "  <tbody>\n",
       "    <tr>\n",
       "      <th>0</th>\n",
       "      <td>0</td>\n",
       "      <td>1</td>\n",
       "      <td>0</td>\n",
       "      <td>3</td>\n",
       "      <td>Braund, Mr. Owen Harris</td>\n",
       "      <td>male</td>\n",
       "      <td>22.0</td>\n",
       "      <td>1</td>\n",
       "      <td>0</td>\n",
       "      <td>A/5 21171</td>\n",
       "      <td>7.2500</td>\n",
       "      <td>NaN</td>\n",
       "      <td>S</td>\n",
       "    </tr>\n",
       "    <tr>\n",
       "      <th>1</th>\n",
       "      <td>1</td>\n",
       "      <td>2</td>\n",
       "      <td>1</td>\n",
       "      <td>1</td>\n",
       "      <td>Cumings, Mrs. John Bradley (Florence Briggs Th...</td>\n",
       "      <td>female</td>\n",
       "      <td>38.0</td>\n",
       "      <td>1</td>\n",
       "      <td>0</td>\n",
       "      <td>PC 17599</td>\n",
       "      <td>71.2833</td>\n",
       "      <td>C85</td>\n",
       "      <td>C</td>\n",
       "    </tr>\n",
       "    <tr>\n",
       "      <th>2</th>\n",
       "      <td>2</td>\n",
       "      <td>3</td>\n",
       "      <td>1</td>\n",
       "      <td>3</td>\n",
       "      <td>Heikkinen, Miss. Laina</td>\n",
       "      <td>female</td>\n",
       "      <td>26.0</td>\n",
       "      <td>0</td>\n",
       "      <td>0</td>\n",
       "      <td>STON/O2. 3101282</td>\n",
       "      <td>7.9250</td>\n",
       "      <td>NaN</td>\n",
       "      <td>S</td>\n",
       "    </tr>\n",
       "    <tr>\n",
       "      <th>3</th>\n",
       "      <td>3</td>\n",
       "      <td>4</td>\n",
       "      <td>1</td>\n",
       "      <td>1</td>\n",
       "      <td>Futrelle, Mrs. Jacques Heath (Lily May Peel)</td>\n",
       "      <td>female</td>\n",
       "      <td>35.0</td>\n",
       "      <td>1</td>\n",
       "      <td>0</td>\n",
       "      <td>113803</td>\n",
       "      <td>53.1000</td>\n",
       "      <td>C123</td>\n",
       "      <td>S</td>\n",
       "    </tr>\n",
       "    <tr>\n",
       "      <th>4</th>\n",
       "      <td>4</td>\n",
       "      <td>5</td>\n",
       "      <td>0</td>\n",
       "      <td>3</td>\n",
       "      <td>Allen, Mr. William Henry</td>\n",
       "      <td>male</td>\n",
       "      <td>35.0</td>\n",
       "      <td>0</td>\n",
       "      <td>0</td>\n",
       "      <td>373450</td>\n",
       "      <td>8.0500</td>\n",
       "      <td>NaN</td>\n",
       "      <td>S</td>\n",
       "    </tr>\n",
       "  </tbody>\n",
       "</table>\n",
       "</div>"
      ],
      "text/plain": [
       "   Unnamed: 0  PassengerId  Survived  Pclass  \\\n",
       "0           0            1         0       3   \n",
       "1           1            2         1       1   \n",
       "2           2            3         1       3   \n",
       "3           3            4         1       1   \n",
       "4           4            5         0       3   \n",
       "\n",
       "                                                Name     Sex   Age  SibSp  \\\n",
       "0                            Braund, Mr. Owen Harris    male  22.0      1   \n",
       "1  Cumings, Mrs. John Bradley (Florence Briggs Th...  female  38.0      1   \n",
       "2                             Heikkinen, Miss. Laina  female  26.0      0   \n",
       "3       Futrelle, Mrs. Jacques Heath (Lily May Peel)  female  35.0      1   \n",
       "4                           Allen, Mr. William Henry    male  35.0      0   \n",
       "\n",
       "   Parch            Ticket     Fare Cabin Embarked  \n",
       "0      0         A/5 21171   7.2500   NaN        S  \n",
       "1      0          PC 17599  71.2833   C85        C  \n",
       "2      0  STON/O2. 3101282   7.9250   NaN        S  \n",
       "3      0            113803  53.1000  C123        S  \n",
       "4      0            373450   8.0500   NaN        S  "
      ]
     },
     "execution_count": 68,
     "metadata": {},
     "output_type": "execute_result"
    }
   ],
   "source": [
    "df = pd.read_csv('titanic.csv')\n",
    "df.head()"
   ]
  },
  {
   "cell_type": "code",
   "execution_count": 69,
   "metadata": {},
   "outputs": [
    {
     "name": "stdout",
     "output_type": "stream",
     "text": [
      "Dataframe Shape: (891, 13)\n",
      "Cardianlity of Name col: 891\n",
      "Cardianlity of Sex col 2\n",
      "Cardinality of Cabin col: 148\n"
     ]
    }
   ],
   "source": [
    "print('Dataframe Shape:', df.shape)\n",
    "print('Cardianlity of Name col:', len(df['Name'].unique()))\n",
    "print('Cardianlity of Sex col', len(df['Sex'].unique()))\n",
    "print('Cardinality of Cabin col:', len(df['Cabin'].unique()))"
   ]
  },
  {
   "cell_type": "code",
   "execution_count": 70,
   "metadata": {},
   "outputs": [
    {
     "data": {
      "text/html": [
       "<div>\n",
       "<style scoped>\n",
       "    .dataframe tbody tr th:only-of-type {\n",
       "        vertical-align: middle;\n",
       "    }\n",
       "\n",
       "    .dataframe tbody tr th {\n",
       "        vertical-align: top;\n",
       "    }\n",
       "\n",
       "    .dataframe thead th {\n",
       "        text-align: right;\n",
       "    }\n",
       "</style>\n",
       "<table border=\"1\" class=\"dataframe\">\n",
       "  <thead>\n",
       "    <tr style=\"text-align: right;\">\n",
       "      <th></th>\n",
       "      <th>Cabin</th>\n",
       "      <th>Sex</th>\n",
       "      <th>Survived</th>\n",
       "    </tr>\n",
       "  </thead>\n",
       "  <tbody>\n",
       "    <tr>\n",
       "      <th>0</th>\n",
       "      <td>NaN</td>\n",
       "      <td>male</td>\n",
       "      <td>0</td>\n",
       "    </tr>\n",
       "    <tr>\n",
       "      <th>1</th>\n",
       "      <td>C85</td>\n",
       "      <td>female</td>\n",
       "      <td>1</td>\n",
       "    </tr>\n",
       "    <tr>\n",
       "      <th>2</th>\n",
       "      <td>NaN</td>\n",
       "      <td>female</td>\n",
       "      <td>1</td>\n",
       "    </tr>\n",
       "    <tr>\n",
       "      <th>3</th>\n",
       "      <td>C123</td>\n",
       "      <td>female</td>\n",
       "      <td>1</td>\n",
       "    </tr>\n",
       "    <tr>\n",
       "      <th>4</th>\n",
       "      <td>NaN</td>\n",
       "      <td>male</td>\n",
       "      <td>0</td>\n",
       "    </tr>\n",
       "  </tbody>\n",
       "</table>\n",
       "</div>"
      ],
      "text/plain": [
       "  Cabin     Sex  Survived\n",
       "0   NaN    male         0\n",
       "1   C85  female         1\n",
       "2   NaN  female         1\n",
       "3  C123  female         1\n",
       "4   NaN    male         0"
      ]
     },
     "execution_count": 70,
     "metadata": {},
     "output_type": "execute_result"
    }
   ],
   "source": [
    "c_df = df[['Cabin', 'Sex', 'Survived']]\n",
    "c_df.head()"
   ]
  },
  {
   "cell_type": "code",
   "execution_count": 71,
   "metadata": {},
   "outputs": [
    {
     "data": {
      "text/plain": [
       "array([nan, 'C', 'E', 'G', 'D', 'A', 'B', 'F', 'T'], dtype=object)"
      ]
     },
     "execution_count": 71,
     "metadata": {},
     "output_type": "execute_result"
    }
   ],
   "source": [
    "c_df['Cabin'].str[0].unique()"
   ]
  },
  {
   "cell_type": "code",
   "execution_count": 72,
   "metadata": {},
   "outputs": [
    {
     "data": {
      "text/plain": [
       "array(['n', 'C', 'E', 'G', 'D', 'A', 'B', 'F', 'T'], dtype=object)"
      ]
     },
     "execution_count": 72,
     "metadata": {},
     "output_type": "execute_result"
    }
   ],
   "source": [
    "c_df['Cabin'].str[0].fillna('n').unique()"
   ]
  },
  {
   "cell_type": "code",
   "execution_count": 73,
   "metadata": {
    "scrolled": true
   },
   "outputs": [
    {
     "name": "stderr",
     "output_type": "stream",
     "text": [
      "/Users/darragh/opt/anaconda3/lib/python3.7/site-packages/ipykernel_launcher.py:1: SettingWithCopyWarning: \n",
      "A value is trying to be set on a copy of a slice from a DataFrame.\n",
      "Try using .loc[row_indexer,col_indexer] = value instead\n",
      "\n",
      "See the caveats in the documentation: https://pandas.pydata.org/pandas-docs/stable/user_guide/indexing.html#returning-a-view-versus-a-copy\n",
      "  \"\"\"Entry point for launching an IPython kernel.\n"
     ]
    },
    {
     "data": {
      "text/html": [
       "<div>\n",
       "<style scoped>\n",
       "    .dataframe tbody tr th:only-of-type {\n",
       "        vertical-align: middle;\n",
       "    }\n",
       "\n",
       "    .dataframe tbody tr th {\n",
       "        vertical-align: top;\n",
       "    }\n",
       "\n",
       "    .dataframe thead th {\n",
       "        text-align: right;\n",
       "    }\n",
       "</style>\n",
       "<table border=\"1\" class=\"dataframe\">\n",
       "  <thead>\n",
       "    <tr style=\"text-align: right;\">\n",
       "      <th></th>\n",
       "      <th>Cabin</th>\n",
       "      <th>Sex</th>\n",
       "      <th>Survived</th>\n",
       "      <th>cabin_reduced</th>\n",
       "    </tr>\n",
       "  </thead>\n",
       "  <tbody>\n",
       "    <tr>\n",
       "      <th>0</th>\n",
       "      <td>NaN</td>\n",
       "      <td>male</td>\n",
       "      <td>0</td>\n",
       "      <td>n</td>\n",
       "    </tr>\n",
       "    <tr>\n",
       "      <th>1</th>\n",
       "      <td>C85</td>\n",
       "      <td>female</td>\n",
       "      <td>1</td>\n",
       "      <td>C</td>\n",
       "    </tr>\n",
       "    <tr>\n",
       "      <th>2</th>\n",
       "      <td>NaN</td>\n",
       "      <td>female</td>\n",
       "      <td>1</td>\n",
       "      <td>n</td>\n",
       "    </tr>\n",
       "    <tr>\n",
       "      <th>3</th>\n",
       "      <td>C123</td>\n",
       "      <td>female</td>\n",
       "      <td>1</td>\n",
       "      <td>C</td>\n",
       "    </tr>\n",
       "    <tr>\n",
       "      <th>4</th>\n",
       "      <td>NaN</td>\n",
       "      <td>male</td>\n",
       "      <td>0</td>\n",
       "      <td>n</td>\n",
       "    </tr>\n",
       "  </tbody>\n",
       "</table>\n",
       "</div>"
      ],
      "text/plain": [
       "  Cabin     Sex  Survived cabin_reduced\n",
       "0   NaN    male         0             n\n",
       "1   C85  female         1             C\n",
       "2   NaN  female         1             n\n",
       "3  C123  female         1             C\n",
       "4   NaN    male         0             n"
      ]
     },
     "execution_count": 73,
     "metadata": {},
     "output_type": "execute_result"
    }
   ],
   "source": [
    "c_df['cabin_reduced'] = c_df['Cabin'].str[0].fillna('n')\n",
    "c_df.head()"
   ]
  },
  {
   "cell_type": "code",
   "execution_count": 74,
   "metadata": {},
   "outputs": [
    {
     "name": "stdout",
     "output_type": "stream",
     "text": [
      "148\n",
      "9\n",
      "2\n"
     ]
    }
   ],
   "source": [
    "print(len(c_df['Cabin'].unique()))\n",
    "print(len(c_df['cabin_reduced'].unique()))\n",
    "print(len(c_df['Sex'].unique()))"
   ]
  },
  {
   "cell_type": "markdown",
   "metadata": {},
   "source": [
    "## Exploring values missing between train and test sets\n",
    "\n",
    "* Showing how values can be missing from the train and test data after the train test split.\n",
    "* This can effect the model and cause underfitting leding to low train set accuracy."
   ]
  },
  {
   "cell_type": "code",
   "execution_count": 75,
   "metadata": {
    "code_folding": []
   },
   "outputs": [],
   "source": [
    "use_cols = ['Cabin', 'cabin_reduced', 'Sex']\n",
    "X_train, X_test, y_train, y_test = train_test_split(c_df[use_cols], \n",
    "                                                   c_df['Survived'],\n",
    "                                                    test_size = 0.4,\n",
    "                                                    random_state = 32) "
   ]
  },
  {
   "cell_type": "code",
   "execution_count": 76,
   "metadata": {},
   "outputs": [
    {
     "data": {
      "text/plain": [
       "((534, 3), (357, 3))"
      ]
     },
     "execution_count": 76,
     "metadata": {},
     "output_type": "execute_result"
    }
   ],
   "source": [
    "X_train.shape, X_test.shape"
   ]
  },
  {
   "cell_type": "code",
   "execution_count": 77,
   "metadata": {
    "scrolled": true
   },
   "outputs": [
    {
     "data": {
      "text/plain": [
       "(array([nan, 'C124', 'C22 C26', 'B28', 'G6', 'E77', 'D19', 'D9', 'C30',\n",
       "        'A10', 'D11', 'A23', 'T', 'C52', 'C23 C25 C27', 'D35', 'B35',\n",
       "        'B86', 'C68', 'F E69', 'C123', 'A16', 'C104', 'B37', 'D26', 'C110',\n",
       "        'B30', 'C46', 'C126', 'F33', 'C106', 'B49', 'A20', 'D36', 'B77',\n",
       "        'A36', 'C99', 'E101', 'C125', 'B82 B84', 'C91', 'E58', 'C128',\n",
       "        'B19', 'C101', 'C78', 'C49', 'B78', 'B51 B53 B55', 'D30', 'E67',\n",
       "        'C90', 'B102', 'A6', 'F G73', 'F2', 'D46', 'D49', 'A19', 'E24',\n",
       "        'C50', 'C118', 'C47', 'E8', 'B18', 'E68', 'D56', 'D17', 'B22',\n",
       "        'B42', 'A34', 'D37', 'E49', 'B5', 'E33', 'B38', 'B20', 'E36',\n",
       "        'C82', 'D33', 'C93', 'F4', 'E10', 'D48', 'C7', 'E46', 'E34',\n",
       "        'C148', 'D47', 'B4', 'E38', 'D', 'E25', 'C65', 'E63', 'F G63',\n",
       "        'D20', 'C2', 'E40', 'E121', 'C83', 'B3', 'A32', 'E44', 'C87',\n",
       "        'C54'], dtype=object),\n",
       " array([nan, 'C92', 'C2', 'B71', 'B80', 'F38', 'D', 'E31', 'D20', 'B101',\n",
       "        'C95', 'B79', 'D35', 'C111', 'C124', 'A5', 'B51 B53 B55',\n",
       "        'B96 B98', 'B5', 'G6', 'C103', 'E25', 'C65', 'B57 B59 B63 B66',\n",
       "        'A26', 'D7', 'D10 D12', 'B58 B60', 'B35', 'D45', 'E12', 'E50',\n",
       "        'B73', 'C93', 'E24', 'D15', 'C62 C64', 'D6', 'C83', 'D33', 'C78',\n",
       "        'C70', 'D36', 'E8', 'B50', 'F2', 'C23 C25 C27', 'B20', 'A7',\n",
       "        'E121', 'D21', 'B94', 'C86', 'C85', 'D50', 'B18', 'F G73', 'E17',\n",
       "        'C123', 'A14', 'D17', 'E67', 'B69', 'C32', 'A31', 'A24', 'E101',\n",
       "        'B39', 'D28', 'B22', 'C45', 'B41', 'D26'], dtype=object))"
      ]
     },
     "execution_count": 77,
     "metadata": {},
     "output_type": "execute_result"
    }
   ],
   "source": [
    "train_cabin_unique = X_train['Cabin'].unique()\n",
    "test_cabin_unique = X_test['Cabin'].unique()\n",
    "train_cabin_unique, test_cabin_unique"
   ]
  },
  {
   "cell_type": "code",
   "execution_count": 78,
   "metadata": {},
   "outputs": [
    {
     "data": {
      "text/plain": [
       "33"
      ]
     },
     "execution_count": 78,
     "metadata": {},
     "output_type": "execute_result"
    }
   ],
   "source": [
    "len(train_cabin_unique) - len(test_cabin_unique)"
   ]
  },
  {
   "cell_type": "code",
   "execution_count": 79,
   "metadata": {},
   "outputs": [
    {
     "data": {
      "text/plain": [
       "76"
      ]
     },
     "execution_count": 79,
     "metadata": {},
     "output_type": "execute_result"
    }
   ],
   "source": [
    "# 76 values in train set are not in the test \n",
    "len([x for x in train_cabin_unique if x not in test_cabin_unique])"
   ]
  },
  {
   "cell_type": "code",
   "execution_count": 80,
   "metadata": {},
   "outputs": [
    {
     "data": {
      "text/plain": [
       "43"
      ]
     },
     "execution_count": 80,
     "metadata": {},
     "output_type": "execute_result"
    }
   ],
   "source": [
    "# 43 values in test set are not in the train \n",
    "len([x for x in test_cabin_unique if x not in train_cabin_unique])"
   ]
  },
  {
   "cell_type": "markdown",
   "metadata": {},
   "source": [
    "* just one value missing from the testing set from the reduced cardinality set"
   ]
  },
  {
   "cell_type": "code",
   "execution_count": 81,
   "metadata": {
    "scrolled": true
   },
   "outputs": [
    {
     "data": {
      "text/plain": [
       "1"
      ]
     },
     "execution_count": 81,
     "metadata": {},
     "output_type": "execute_result"
    }
   ],
   "source": [
    "len([x for x in X_train['cabin_reduced'].unique() if x not in X_test['cabin_reduced'].unique()])"
   ]
  },
  {
   "cell_type": "code",
   "execution_count": 82,
   "metadata": {},
   "outputs": [
    {
     "data": {
      "text/plain": [
       "0"
      ]
     },
     "execution_count": 82,
     "metadata": {},
     "output_type": "execute_result"
    }
   ],
   "source": [
    "len([x for x in X_test['cabin_reduced'].unique() if x not in X_train['cabin_reduced'].unique()])"
   ]
  },
  {
   "cell_type": "markdown",
   "metadata": {},
   "source": [
    "## Categorical Encoding "
   ]
  },
  {
   "cell_type": "code",
   "execution_count": 83,
   "metadata": {},
   "outputs": [
    {
     "data": {
      "text/plain": [
       "Cabin            408\n",
       "cabin_reduced      0\n",
       "Sex                0\n",
       "dtype: int64"
      ]
     },
     "execution_count": 83,
     "metadata": {},
     "output_type": "execute_result"
    }
   ],
   "source": [
    "X_train.isna().sum()"
   ]
  },
  {
   "cell_type": "code",
   "execution_count": 84,
   "metadata": {},
   "outputs": [
    {
     "data": {
      "text/plain": [
       "Cabin            279\n",
       "cabin_reduced      0\n",
       "Sex                0\n",
       "dtype: int64"
      ]
     },
     "execution_count": 84,
     "metadata": {},
     "output_type": "execute_result"
    }
   ],
   "source": [
    "X_test.isna().sum()"
   ]
  },
  {
   "cell_type": "code",
   "execution_count": 85,
   "metadata": {},
   "outputs": [
    {
     "data": {
      "text/plain": [
       "837      0\n",
       "334      0\n",
       "849    C92\n",
       "778      0\n",
       "413      0\n",
       "      ... \n",
       "383      0\n",
       "752      0\n",
       "124    D26\n",
       "784      0\n",
       "216      0\n",
       "Name: Cabin, Length: 357, dtype: object"
      ]
     },
     "execution_count": 85,
     "metadata": {},
     "output_type": "execute_result"
    }
   ],
   "source": [
    "X_train['Cabin'].fillna(0)\n",
    "X_test['Cabin'].fillna(0)"
   ]
  },
  {
   "cell_type": "code",
   "execution_count": 86,
   "metadata": {},
   "outputs": [],
   "source": [
    "train = pd.get_dummies(X_train[['Cabin', 'Sex']], columns=['Cabin', 'Sex'])\n",
    "test = pd.get_dummies(X_test[['Cabin', 'Sex']], columns=['Cabin', 'Sex'])"
   ]
  },
  {
   "cell_type": "code",
   "execution_count": 87,
   "metadata": {},
   "outputs": [
    {
     "data": {
      "text/plain": [
       "((534, 107), (357, 74))"
      ]
     },
     "execution_count": 87,
     "metadata": {},
     "output_type": "execute_result"
    }
   ],
   "source": [
    "train.shape, test.shape"
   ]
  },
  {
   "cell_type": "markdown",
   "metadata": {},
   "source": [
    "### Balancing the columns"
   ]
  },
  {
   "cell_type": "code",
   "execution_count": 88,
   "metadata": {},
   "outputs": [],
   "source": [
    "missing_cols = set(train.columns) - set(test.columns)\n",
    "\n",
    "for c in missing_cols:\n",
    "    test[c] = 0\n",
    "    \n",
    "test = test[train.columns]"
   ]
  },
  {
   "cell_type": "code",
   "execution_count": 89,
   "metadata": {},
   "outputs": [
    {
     "data": {
      "text/plain": [
       "RandomForestClassifier(n_estimators=200, random_state=32)"
      ]
     },
     "execution_count": 89,
     "metadata": {},
     "output_type": "execute_result"
    }
   ],
   "source": [
    "clf = RandomForestClassifier(n_estimators = 200, random_state=32)\n",
    "clf.fit(train, y_train)"
   ]
  },
  {
   "cell_type": "code",
   "execution_count": 90,
   "metadata": {},
   "outputs": [],
   "source": [
    "y_train_pred = clf.predict_proba(train)\n",
    "y_test_pred = clf.predict_proba(test)"
   ]
  },
  {
   "cell_type": "code",
   "execution_count": 91,
   "metadata": {},
   "outputs": [
    {
     "data": {
      "text/plain": [
       "array([[0.3935532 , 0.6064468 ],\n",
       "       [0.95601304, 0.04398696],\n",
       "       [0.87045605, 0.12954395],\n",
       "       ...,\n",
       "       [0.17895308, 0.82104692],\n",
       "       [0.87045605, 0.12954395],\n",
       "       [0.3935532 , 0.6064468 ]])"
      ]
     },
     "execution_count": 91,
     "metadata": {},
     "output_type": "execute_result"
    }
   ],
   "source": [
    "y_train_pred"
   ]
  },
  {
   "cell_type": "code",
   "execution_count": 92,
   "metadata": {},
   "outputs": [
    {
     "name": "stdout",
     "output_type": "stream",
     "text": [
      " High Cardinality Train Set \n",
      " Random Forest roc_auc: 0.8697128814128494\n",
      " High Cardinality Test Set \n",
      " Random Forest roc_auc: 0.7967273194882016\n"
     ]
    }
   ],
   "source": [
    "print(' High Cardinality Train Set', '\\n', '{} roc_auc: {}'.format(\n",
    "    'Random Forest', roc_auc_score(y_train, y_train_pred[:,1])))\n",
    "      \n",
    "print(' High Cardinality Test Set', '\\n', '{} roc_auc: {}'.format(\n",
    "    'Random Forest', roc_auc_score(y_test, y_test_pred[:,1])))"
   ]
  },
  {
   "cell_type": "code",
   "execution_count": 93,
   "metadata": {},
   "outputs": [],
   "source": [
    "def run_models(data_train, data_test, y_train, y_test):\n",
    "\n",
    "    lr = LogisticRegression(solver='lbfgs', random_state = 32)\n",
    "    rf = RandomForestClassifier(n_estimators=200, random_state = 32)\n",
    "    ada = AdaBoostClassifier(n_estimators=200, random_state = 32)\n",
    "    gb = GradientBoostingClassifier(n_estimators=300, random_state = 32)\n",
    "    \n",
    "    models = {\n",
    "        'LogisticRegression': lr,\n",
    "        'Random Forest': rf,\n",
    "        'Ada Boost': ada,\n",
    "        'Gradient Boosting':gb \n",
    "          }\n",
    "    \n",
    "    train = pd.get_dummies(data_train, columns = data_train.columns)\n",
    "    test = pd.get_dummies(data_test, columns = data_test.columns)\n",
    "    \n",
    "    missing_cols = set(train.columns) - set(test.columns)\n",
    "    for col in missing_cols:\n",
    "        test[col] = 0 \n",
    "        \n",
    "    test = test[train.columns]\n",
    "    \n",
    "    for label, clf in models.items():\n",
    "        clf.fit(train, y_train)\n",
    "        \n",
    "        y_train_pred = clf.predict_proba(train)\n",
    "        y_test_pred = clf.predict_proba(test)\n",
    "        \n",
    "        print(label)\n",
    "        print('training set roc_auc: {}'.format(roc_auc_score(y_train, y_train_pred[:,1])))\n",
    "        print('testing set roc_auc: {}'.format(roc_auc_score(y_test, y_test_pred[:,1])))\n",
    "        print('\\n')"
   ]
  },
  {
   "cell_type": "code",
   "execution_count": 94,
   "metadata": {},
   "outputs": [
    {
     "name": "stdout",
     "output_type": "stream",
     "text": [
      "LogisticRegression\n",
      "training set roc_auc: 0.8415657961015371\n",
      "testing set roc_auc: 0.798527615251077\n",
      "\n",
      "\n",
      "Random Forest\n",
      "training set roc_auc: 0.8697128814128494\n",
      "testing set roc_auc: 0.7967273194882016\n",
      "\n",
      "\n",
      "Ada Boost\n",
      "training set roc_auc: 0.8651489017446918\n",
      "testing set roc_auc: 0.7588568121905742\n",
      "\n",
      "\n",
      "Gradient Boosting\n",
      "training set roc_auc: 0.8574405079907805\n",
      "testing set roc_auc: 0.7974185044685912\n",
      "\n",
      "\n"
     ]
    }
   ],
   "source": [
    "cols = ['Cabin', 'Sex']\n",
    "run_models(X_train[cols], X_test[cols], y_train, y_test)"
   ]
  },
  {
   "cell_type": "code",
   "execution_count": 95,
   "metadata": {},
   "outputs": [
    {
     "name": "stdout",
     "output_type": "stream",
     "text": [
      "LogisticRegression\n",
      "training set roc_auc: 0.8133423900599881\n",
      "testing set roc_auc: 0.8359801967466083\n",
      "\n",
      "\n",
      "Random Forest\n",
      "training set roc_auc: 0.814517729305634\n",
      "testing set roc_auc: 0.8352407895582845\n",
      "\n",
      "\n",
      "Ada Boost\n",
      "training set roc_auc: 0.8130828995771832\n",
      "testing set roc_auc: 0.8284896804475022\n",
      "\n",
      "\n",
      "Gradient Boosting\n",
      "training set roc_auc: 0.814517729305634\n",
      "testing set roc_auc: 0.8352407895582845\n",
      "\n",
      "\n"
     ]
    }
   ],
   "source": [
    "cols = ['cabin_reduced', 'Sex']\n",
    "run_models(X_train[cols], X_test[cols], y_train, y_test)"
   ]
  },
  {
   "cell_type": "code",
   "execution_count": null,
   "metadata": {},
   "outputs": [],
   "source": []
  }
 ],
 "metadata": {
  "kernelspec": {
   "display_name": "Python 3",
   "language": "python",
   "name": "python3"
  },
  "language_info": {
   "codemirror_mode": {
    "name": "ipython",
    "version": 3
   },
   "file_extension": ".py",
   "mimetype": "text/x-python",
   "name": "python",
   "nbconvert_exporter": "python",
   "pygments_lexer": "ipython3",
   "version": "3.7.6"
  }
 },
 "nbformat": 4,
 "nbformat_minor": 4
}
