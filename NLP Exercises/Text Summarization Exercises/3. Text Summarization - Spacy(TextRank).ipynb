{
 "cells": [
  {
   "cell_type": "code",
   "execution_count": 1,
   "metadata": {},
   "outputs": [],
   "source": [
    "import spacy \n",
    "import pytextrank"
   ]
  },
  {
   "cell_type": "code",
   "execution_count": 3,
   "metadata": {},
   "outputs": [],
   "source": [
    "nlp = spacy.load('en_core_web_sm')\n",
    "\n",
    "tr = pytextrank.TextRank()\n",
    "nlp.add_pipe(tr.PipelineComponent, name= 'textrank', last = True)"
   ]
  },
  {
   "cell_type": "code",
   "execution_count": 4,
   "metadata": {},
   "outputs": [],
   "source": [
    "ml = \"\"\"Machine learning (ML) is the study of computer algorithms that improve automatically through experience.[1] It is seen as a part of artificial intelligence. Machine learning algorithms build a model based on sample data, known as \"training data\", in order to make predictions or decisions without being explicitly programmed to do so.[2] Machine learning algorithms are used in a wide variety of applications, such as email filtering and computer vision, where it is difficult or unfeasible to develop conventional algorithms to perform the needed tasks.\n",
    "\n",
    "A subset of machine learning is closely related to computational statistics, which focuses on making predictions using computers; but not all machine learning is statistical learning. The study of mathematical optimization delivers methods, theory and application domains to the field of machine learning. Data mining is a related field of study, focusing on exploratory data analysis through unsupervised learning.[4][5] In its application across business problems, machine learning is also referred to as predictive analytics.\"\"\""
   ]
  },
  {
   "cell_type": "code",
   "execution_count": 5,
   "metadata": {
    "scrolled": true
   },
   "outputs": [
    {
     "name": "stdout",
     "output_type": "stream",
     "text": [
      "0.156173     1 machine learning algorithms\n",
      "[Machine learning algorithms]\n",
      "0.144483     5 machine learning\n",
      "[Machine learning, machine learning, machine learning, machine learning, not all machine learning]\n",
      "0.116124     1 statistical learning\n",
      "[statistical learning]\n",
      "0.115777     1 computer algorithms\n",
      "[computer algorithms]\n",
      "0.104131     1 conventional algorithms\n",
      "[conventional algorithms]\n",
      "0.102261     1 so.[2] machine learning algorithms\n",
      "[so.[2] Machine learning algorithms]\n",
      "0.099857     1 exploratory data analysis\n",
      "[exploratory data analysis]\n",
      "0.095490     1 sample data\n",
      "[sample data]\n",
      "0.089111     1 data mining\n",
      "[Data mining]\n",
      "0.085437     1 computer vision\n",
      "[computer vision]\n",
      "0.082842     1 application domains\n",
      "[application domains]\n",
      "0.082174     1 computers\n",
      "[computers]\n",
      "0.075920     1 artificial intelligence\n",
      "[artificial intelligence]\n",
      "0.074800     2 applications\n",
      "[applications, its application]\n",
      "0.074008     1 mathematical optimization\n",
      "[mathematical optimization]\n",
      "0.072329     2 predictions\n",
      "[predictions, predictions]\n",
      "0.072009     1 email filtering\n",
      "[email filtering]\n",
      "0.071929     3 study\n",
      "[study, the study, The study]\n",
      "0.067256     1 business problems\n",
      "[business problems]\n",
      "0.065375     1 unsupervised learning.[4][5\n",
      "[unsupervised learning.[4][5]\n",
      "0.065094     1 computational statistics\n",
      "[computational statistics]\n",
      "0.064603     1 predictive analytics\n",
      "[predictive analytics]\n",
      "0.057675     1 theory\n",
      "[theory]\n",
      "0.057537     1 methods\n",
      "[methods]\n",
      "0.052732     1 \"training data\n",
      "[\"training data]\n",
      "0.043134     1 a related field\n",
      "[a related field]\n",
      "0.042324     1 order\n",
      "[order]\n",
      "0.042324     1 decisions\n",
      "[decisions]\n",
      "0.040329     1 ml\n",
      "[ML]\n",
      "0.037849     1 a part\n",
      "[a part]\n",
      "0.037157     1 the needed tasks\n",
      "[the needed tasks]\n",
      "0.036732     1 a wide variety\n",
      "[a wide variety]\n",
      "0.036624     1 experience.[1\n",
      "[experience.[1]\n",
      "0.032324     1 the field\n",
      "[the field]\n",
      "0.029626     1 a model\n",
      "[a model]\n",
      "0.021388     1 a subset\n",
      "[A subset]\n",
      "0.000000     2 it\n",
      "[It, it]\n"
     ]
    }
   ],
   "source": [
    "doc = nlp(ml)\n",
    "\n",
    "for p in doc._.phrases:\n",
    "    print(\"{:4f} {:5} {}\".format(p.rank, p.count, p.text))\n",
    "    print(p.chunks)"
   ]
  },
  {
   "cell_type": "code",
   "execution_count": 14,
   "metadata": {},
   "outputs": [
    {
     "name": "stdout",
     "output_type": "stream",
     "text": [
      "It is seen as a part of artificial intelligence.\n",
      "Machine learning (ML) is the study of computer algorithms that improve automatically through experience.[1]\n",
      "Machine learning algorithms build a model based on sample data, known as \"training data\", in order to make predictions or decisions without being explicitly programmed to do so.[2] Machine learning algorithms are used in a wide variety of applications, such as email filtering and computer vision, where it is difficult or unfeasible to develop conventional algorithms to perform the needed tasks.\n",
      "\n",
      "\n"
     ]
    }
   ],
   "source": [
    "for sent in doc._.textrank.summary(limit_phrases=1, limit_sentences=3):\n",
    "    print(sent)"
   ]
  },
  {
   "cell_type": "code",
   "execution_count": null,
   "metadata": {},
   "outputs": [],
   "source": []
  }
 ],
 "metadata": {
  "kernelspec": {
   "display_name": "Python 3",
   "language": "python",
   "name": "python3"
  },
  "language_info": {
   "codemirror_mode": {
    "name": "ipython",
    "version": 3
   },
   "file_extension": ".py",
   "mimetype": "text/x-python",
   "name": "python",
   "nbconvert_exporter": "python",
   "pygments_lexer": "ipython3",
   "version": "3.7.6"
  }
 },
 "nbformat": 4,
 "nbformat_minor": 4
}
