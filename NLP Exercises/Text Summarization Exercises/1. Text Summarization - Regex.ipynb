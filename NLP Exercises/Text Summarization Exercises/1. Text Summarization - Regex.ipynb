{
 "cells": [
  {
   "cell_type": "markdown",
   "metadata": {},
   "source": [
    "# Text summarization\n",
    "Text summarization is the process of distilling the most important information from a source text.\n",
    "\n",
    "## Applications\n",
    "* Extract headlines from text\n",
    "* In shorts (article summary)\n",
    "* Question answering\n",
    "* Key information extraction\n",
    "* Product reviews\n",
    "\n",
    "## Type of summarization\n",
    "\n",
    "####   Based on Input Type\n",
    "* Single Document - Summarize one doc\n",
    "* Multi Document - Summarize multiple documents in one summary\n",
    "#### Based on Output\n",
    "* Extractive - Extractive strategies select the top N sentences that best represent the key points of the article. Grammatically correct but may not be suitable for smooth reading.\n",
    "* Abstractive - Abstractive summaries looks to create an intermediate semantic representation of the document and build from it. May not have original content, may use prarphrasing. Challenging to create grammatically and semantically correct summaries.\n",
    "* Hybrid - A mix of both\n",
    "#### Based on Purpose\n",
    "* Generic\n",
    "* Domain Specific\n",
    "* Query-based\n",
    "\n",
    "### Steps\n",
    " - Text Cleaning\n",
    " - Word Tokenization\n",
    " - Word-frequency\n",
    " - Sentence Tokenization\n",
    " - Word/Sentence ranking\n",
    " - Summarization\n",
    " "
   ]
  },
  {
   "cell_type": "code",
   "execution_count": 1,
   "metadata": {},
   "outputs": [],
   "source": [
    "from string import punctuation\n",
    "import re"
   ]
  },
  {
   "cell_type": "code",
   "execution_count": 2,
   "metadata": {},
   "outputs": [],
   "source": [
    "# Wiki article on the applications of biomechanics \n",
    "ml = \"\"\"Machine learning (ML) is the study of computer algorithms that improve automatically through experience.[1] It is seen as a part of artificial intelligence. Machine learning algorithms build a model based on sample data, known as \"training data\", in order to make predictions or decisions without being explicitly programmed to do so.[2] Machine learning algorithms are used in a wide variety of applications, such as email filtering and computer vision, where it is difficult or unfeasible to develop conventional algorithms to perform the needed tasks.\n",
    "\n",
    "A subset of machine learning is closely related to computational statistics, which focuses on making predictions using computers; but not all machine learning is statistical learning. The study of mathematical optimization delivers methods, theory and application domains to the field of machine learning. Data mining is a related field of study, focusing on exploratory data analysis through unsupervised learning. In its application across business problems, machine learning is also referred to as predictive analytics.\"\"\""
   ]
  },
  {
   "cell_type": "code",
   "execution_count": 3,
   "metadata": {},
   "outputs": [],
   "source": [
    "ml_split = re.split(\"\\s\", ml)"
   ]
  },
  {
   "cell_type": "code",
   "execution_count": 4,
   "metadata": {},
   "outputs": [],
   "source": [
    "stopwords = ['the', 'to', 'is', 'of', 'in', 'on', 'it', 'It', 'A', 'as']"
   ]
  },
  {
   "cell_type": "code",
   "execution_count": 5,
   "metadata": {},
   "outputs": [],
   "source": [
    "punctuation = punctuation + '\\n'"
   ]
  },
  {
   "cell_type": "code",
   "execution_count": 6,
   "metadata": {},
   "outputs": [
    {
     "data": {
      "text/plain": [
       "'!\"#$%&\\'()*+,-./:;<=>?@[\\\\]^_`{|}~\\n'"
      ]
     },
     "execution_count": 6,
     "metadata": {},
     "output_type": "execute_result"
    }
   ],
   "source": [
    "punctuation"
   ]
  },
  {
   "cell_type": "code",
   "execution_count": 7,
   "metadata": {},
   "outputs": [],
   "source": [
    "word_freq = {}\n",
    "\n",
    "for word in ml_split:\n",
    "    if word.lower() not in stopwords:\n",
    "        if word.lower() not in punctuation:\n",
    "            if word not in word_freq.keys():\n",
    "                word_freq[word] = 1\n",
    "            else:\n",
    "                word_freq[word] += 1"
   ]
  },
  {
   "cell_type": "code",
   "execution_count": 8,
   "metadata": {},
   "outputs": [
    {
     "name": "stdout",
     "output_type": "stream",
     "text": [
      "{'Machine': 3, 'learning': 6, '(ML)': 1, 'study': 2, 'computer': 2, 'algorithms': 4, 'that': 1, 'improve': 1, 'automatically': 1, 'through': 2, 'experience.[1]': 1, 'seen': 1, 'a': 4, 'part': 1, 'artificial': 1, 'intelligence.': 1, 'build': 1, 'model': 1, 'based': 1, 'sample': 1, 'data,': 1, 'known': 1, '\"training': 1, 'data\",': 1, 'order': 1, 'make': 1, 'predictions': 2, 'or': 2, 'decisions': 1, 'without': 1, 'being': 1, 'explicitly': 1, 'programmed': 1, 'do': 1, 'so.[2]': 1, 'are': 1, 'used': 1, 'wide': 1, 'variety': 1, 'applications,': 1, 'such': 1, 'email': 1, 'filtering': 1, 'and': 2, 'vision,': 1, 'where': 1, 'difficult': 1, 'unfeasible': 1, 'develop': 1, 'conventional': 1, 'perform': 1, 'needed': 1, 'tasks.': 1, 'A': 1, 'subset': 1, 'machine': 4, 'closely': 1, 'related': 2, 'computational': 1, 'statistics,': 1, 'which': 1, 'focuses': 1, 'making': 1, 'using': 1, 'computers;': 1, 'but': 1, 'not': 1, 'all': 1, 'statistical': 1, 'learning.': 3, 'mathematical': 1, 'optimization': 1, 'delivers': 1, 'methods,': 1, 'theory': 1, 'application': 2, 'domains': 1, 'field': 2, 'Data': 1, 'mining': 1, 'study,': 1, 'focusing': 1, 'exploratory': 1, 'data': 1, 'analysis': 1, 'unsupervised': 1, 'its': 1, 'across': 1, 'business': 1, 'problems,': 1, 'also': 1, 'referred': 1, 'predictive': 1, 'analytics.': 1}\n"
     ]
    }
   ],
   "source": [
    "print(word_freq)"
   ]
  },
  {
   "cell_type": "code",
   "execution_count": 9,
   "metadata": {},
   "outputs": [
    {
     "data": {
      "text/plain": [
       "6"
      ]
     },
     "execution_count": 9,
     "metadata": {},
     "output_type": "execute_result"
    }
   ],
   "source": [
    "max_freq = max(word_freq.values())\n",
    "max_freq"
   ]
  },
  {
   "cell_type": "code",
   "execution_count": 10,
   "metadata": {
    "code_folding": []
   },
   "outputs": [],
   "source": [
    "# Normalizing the word frequency\n",
    "for word in word_freq.keys():\n",
    "    word_freq[word] = word_freq[word]/max_freq"
   ]
  },
  {
   "cell_type": "code",
   "execution_count": 11,
   "metadata": {},
   "outputs": [
    {
     "name": "stdout",
     "output_type": "stream",
     "text": [
      "{'Machine': 0.5, 'learning': 1.0, '(ML)': 0.16666666666666666, 'study': 0.3333333333333333, 'computer': 0.3333333333333333, 'algorithms': 0.6666666666666666, 'that': 0.16666666666666666, 'improve': 0.16666666666666666, 'automatically': 0.16666666666666666, 'through': 0.3333333333333333, 'experience.[1]': 0.16666666666666666, 'seen': 0.16666666666666666, 'a': 0.6666666666666666, 'part': 0.16666666666666666, 'artificial': 0.16666666666666666, 'intelligence.': 0.16666666666666666, 'build': 0.16666666666666666, 'model': 0.16666666666666666, 'based': 0.16666666666666666, 'sample': 0.16666666666666666, 'data,': 0.16666666666666666, 'known': 0.16666666666666666, '\"training': 0.16666666666666666, 'data\",': 0.16666666666666666, 'order': 0.16666666666666666, 'make': 0.16666666666666666, 'predictions': 0.3333333333333333, 'or': 0.3333333333333333, 'decisions': 0.16666666666666666, 'without': 0.16666666666666666, 'being': 0.16666666666666666, 'explicitly': 0.16666666666666666, 'programmed': 0.16666666666666666, 'do': 0.16666666666666666, 'so.[2]': 0.16666666666666666, 'are': 0.16666666666666666, 'used': 0.16666666666666666, 'wide': 0.16666666666666666, 'variety': 0.16666666666666666, 'applications,': 0.16666666666666666, 'such': 0.16666666666666666, 'email': 0.16666666666666666, 'filtering': 0.16666666666666666, 'and': 0.3333333333333333, 'vision,': 0.16666666666666666, 'where': 0.16666666666666666, 'difficult': 0.16666666666666666, 'unfeasible': 0.16666666666666666, 'develop': 0.16666666666666666, 'conventional': 0.16666666666666666, 'perform': 0.16666666666666666, 'needed': 0.16666666666666666, 'tasks.': 0.16666666666666666, 'A': 0.16666666666666666, 'subset': 0.16666666666666666, 'machine': 0.6666666666666666, 'closely': 0.16666666666666666, 'related': 0.3333333333333333, 'computational': 0.16666666666666666, 'statistics,': 0.16666666666666666, 'which': 0.16666666666666666, 'focuses': 0.16666666666666666, 'making': 0.16666666666666666, 'using': 0.16666666666666666, 'computers;': 0.16666666666666666, 'but': 0.16666666666666666, 'not': 0.16666666666666666, 'all': 0.16666666666666666, 'statistical': 0.16666666666666666, 'learning.': 0.5, 'mathematical': 0.16666666666666666, 'optimization': 0.16666666666666666, 'delivers': 0.16666666666666666, 'methods,': 0.16666666666666666, 'theory': 0.16666666666666666, 'application': 0.3333333333333333, 'domains': 0.16666666666666666, 'field': 0.3333333333333333, 'Data': 0.16666666666666666, 'mining': 0.16666666666666666, 'study,': 0.16666666666666666, 'focusing': 0.16666666666666666, 'exploratory': 0.16666666666666666, 'data': 0.16666666666666666, 'analysis': 0.16666666666666666, 'unsupervised': 0.16666666666666666, 'its': 0.16666666666666666, 'across': 0.16666666666666666, 'business': 0.16666666666666666, 'problems,': 0.16666666666666666, 'also': 0.16666666666666666, 'referred': 0.16666666666666666, 'predictive': 0.16666666666666666, 'analytics.': 0.16666666666666666}\n"
     ]
    }
   ],
   "source": [
    "print(word_freq)"
   ]
  },
  {
   "cell_type": "code",
   "execution_count": 12,
   "metadata": {},
   "outputs": [
    {
     "name": "stdout",
     "output_type": "stream",
     "text": [
      "['Machine learning (ML) is the study of computer algorithms that improve automatically through experience', '[1] It is seen as a part of artificial intelligence', ' Machine learning algorithms build a model based on sample data, known as \"training data\", in order to make predictions or decisions without being explicitly programmed to do so', '[2] Machine learning algorithms are used in a wide variety of applications, such as email filtering and computer vision, where it is difficult or unfeasible to develop conventional algorithms to perform the needed tasks', '\\n\\nA subset of machine learning is closely related to computational statistics, which focuses on making predictions using computers; but not all machine learning is statistical learning', ' The study of mathematical optimization delivers methods, theory and application domains to the field of machine learning', ' Data mining is a related field of study, focusing on exploratory data analysis through unsupervised learning', ' In its application across business problems, machine learning is also referred to as predictive analytics', '']\n"
     ]
    }
   ],
   "source": [
    "sent_tokens = [sent for sent in re.split('\\.', ml)]\n",
    "print(sent_tokens)"
   ]
  },
  {
   "cell_type": "code",
   "execution_count": 13,
   "metadata": {},
   "outputs": [],
   "source": [
    "sent_scores = {}\n",
    "for sent in sent_tokens:\n",
    "    for word in sent:\n",
    "        if word.lower() in word_freq.keys():\n",
    "            if sent not in sent_scores.keys():\n",
    "                sent_scores[sent] = word_freq[word.lower()]\n",
    "            else:\n",
    "                sent_scores[sent] += word_freq[word.lower()]"
   ]
  },
  {
   "cell_type": "code",
   "execution_count": 14,
   "metadata": {
    "scrolled": true
   },
   "outputs": [
    {
     "name": "stdout",
     "output_type": "stream",
     "text": [
      "{'Machine learning (ML) is the study of computer algorithms that improve automatically through experience': 4.666666666666666, '[1] It is seen as a part of artificial intelligence': 3.333333333333333, ' Machine learning algorithms build a model based on sample data, known as \"training data\", in order to make predictions or decisions without being explicitly programmed to do so': 9.333333333333332, '[2] Machine learning algorithms are used in a wide variety of applications, such as email filtering and computer vision, where it is difficult or unfeasible to develop conventional algorithms to perform the needed tasks': 9.999999999999998, '\\n\\nA subset of machine learning is closely related to computational statistics, which focuses on making predictions using computers; but not all machine learning is statistical learning': 9.333333333333332, ' The study of mathematical optimization delivers methods, theory and application domains to the field of machine learning': 6.666666666666667, ' Data mining is a related field of study, focusing on exploratory data analysis through unsupervised learning': 6.666666666666667, ' In its application across business problems, machine learning is also referred to as predictive analytics': 6.0}\n"
     ]
    }
   ],
   "source": [
    "print(sent_scores)"
   ]
  },
  {
   "cell_type": "code",
   "execution_count": 15,
   "metadata": {},
   "outputs": [],
   "source": [
    "from heapq import nlargest"
   ]
  },
  {
   "cell_type": "code",
   "execution_count": 16,
   "metadata": {},
   "outputs": [
    {
     "data": {
      "text/plain": [
       "2"
      ]
     },
     "execution_count": 16,
     "metadata": {},
     "output_type": "execute_result"
    }
   ],
   "source": [
    "select_length = int(len(sent_tokens)*0.3)\n",
    "select_length"
   ]
  },
  {
   "cell_type": "code",
   "execution_count": 17,
   "metadata": {},
   "outputs": [],
   "source": [
    "summary = nlargest(select_length, sent_scores, key = sent_scores.get)"
   ]
  },
  {
   "cell_type": "code",
   "execution_count": 18,
   "metadata": {},
   "outputs": [
    {
     "data": {
      "text/plain": [
       "2"
      ]
     },
     "execution_count": 18,
     "metadata": {},
     "output_type": "execute_result"
    }
   ],
   "source": [
    "len(summary)"
   ]
  },
  {
   "cell_type": "code",
   "execution_count": 19,
   "metadata": {},
   "outputs": [],
   "source": [
    "final_summary = [word for word in summary]"
   ]
  },
  {
   "cell_type": "code",
   "execution_count": 20,
   "metadata": {},
   "outputs": [],
   "source": [
    "summary = ' '.join(final_summary)"
   ]
  },
  {
   "cell_type": "code",
   "execution_count": 21,
   "metadata": {
    "scrolled": true
   },
   "outputs": [
    {
     "data": {
      "text/plain": [
       "'[2] Machine learning algorithms are used in a wide variety of applications, such as email filtering and computer vision, where it is difficult or unfeasible to develop conventional algorithms to perform the needed tasks  Machine learning algorithms build a model based on sample data, known as \"training data\", in order to make predictions or decisions without being explicitly programmed to do so'"
      ]
     },
     "execution_count": 21,
     "metadata": {},
     "output_type": "execute_result"
    }
   ],
   "source": [
    "summary"
   ]
  },
  {
   "cell_type": "code",
   "execution_count": 22,
   "metadata": {},
   "outputs": [
    {
     "data": {
      "text/plain": [
       "(1078, 397)"
      ]
     },
     "execution_count": 22,
     "metadata": {},
     "output_type": "execute_result"
    }
   ],
   "source": [
    "len(ml), len(summary)"
   ]
  },
  {
   "cell_type": "code",
   "execution_count": null,
   "metadata": {},
   "outputs": [],
   "source": []
  },
  {
   "cell_type": "code",
   "execution_count": null,
   "metadata": {},
   "outputs": [],
   "source": []
  }
 ],
 "metadata": {
  "kernelspec": {
   "display_name": "Python 3",
   "language": "python",
   "name": "python3"
  },
  "language_info": {
   "codemirror_mode": {
    "name": "ipython",
    "version": 3
   },
   "file_extension": ".py",
   "mimetype": "text/x-python",
   "name": "python",
   "nbconvert_exporter": "python",
   "pygments_lexer": "ipython3",
   "version": "3.7.6"
  }
 },
 "nbformat": 4,
 "nbformat_minor": 4
}
