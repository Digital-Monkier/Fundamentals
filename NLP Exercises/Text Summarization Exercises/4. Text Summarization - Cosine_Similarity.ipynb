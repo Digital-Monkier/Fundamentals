{
 "cells": [
  {
   "cell_type": "code",
   "execution_count": 188,
   "metadata": {},
   "outputs": [],
   "source": [
    "import nltk\n",
    "from nltk.cluster.util import cosine_distance\n",
    "import numpy as np\n",
    "from nltk.corpus import stopwords\n",
    "# Similairy grapoh creation and manipulation\n",
    "import networkx as nx\n",
    "import re"
   ]
  },
  {
   "cell_type": "code",
   "execution_count": 189,
   "metadata": {},
   "outputs": [],
   "source": [
    "# Cosine similarity calculates the cosine angle between two non-zero vectors\n",
    "\n",
    "# Cosine similarity formula (A.B) / (||A||.||B||)\n",
    "\n",
    "# Nltk.utils cosine_distance()"
   ]
  },
  {
   "cell_type": "code",
   "execution_count": 299,
   "metadata": {},
   "outputs": [],
   "source": [
    "def read_article(file_name):\n",
    "    file = open(file_name, \"r\",encoding=\"utf8\")\n",
    "    filedata = file.read()\n",
    "    article = filedata\n",
    "    sentences = []\n",
    "    for sentence in re.split('\\.\\s',article):\n",
    "        sentences.append(sentence)\n",
    "    \n",
    "    return sentences"
   ]
  },
  {
   "cell_type": "code",
   "execution_count": 300,
   "metadata": {},
   "outputs": [
    {
     "data": {
      "text/plain": [
       "[\"The tale is set during the reign of King Arthur and tells of a young Cornish farmer's son named Jack who is not only strong but so clever he easily confounds the learned with his penetrating wit\",\n",
       " \"Jack encounters a livestock-eating giant called Cormoran (Cornish: 'The Giant of the Sea' SWF:Kowr-Mor-An) and lures him to his death in a pit trap\",\n",
       " \"Jack is dubbed 'Jack the Giant-Killer' for this feat and receives not only the giant's wealth, but a sword and belt to commemorate the event\",\n",
       " \"A man-eating giant named Blunderbore vows vengeance for Cormoran's death and carries Jack off to an enchanted castle\",\n",
       " 'Jack manages to slay Blunderbore and his brother Rebecks by hanging and stabbing them',\n",
       " \"He frees three ladies held captive in the giant's castle.On a trip into Wales, Jack tricks a two-headed Welsh giant into slashing his own belly open\",\n",
       " \"King Arthur's son now enters the story and Jack becomes his servant\",\n",
       " 'They spend the night with a three-headed giant and rob him in the morning',\n",
       " 'In gratitude for having spared his castle, the three-headed giant gives Jack a magic sword, a cap of knowledge, a cloak of invisibility, and shoes of swiftness.On the road, Jack and the Prince meet an enchanted Lady serving Lucifer',\n",
       " 'Jack breaks the spell with his magic accessories, beheads Lucifer, and the Lady marries the Prince',\n",
       " 'Jack is rewarded with membership in the Round Table',\n",
       " \"St Michael's Mount - home of the Giant\\nJack ventures forth alone with his magic shoes, sword, cloak, and cap to rid the realm of troublesome giants\",\n",
       " 'He encounters a giant terrorizing a knight and his lady',\n",
       " \"He cuts off the giant's legs, then puts him to death\",\n",
       " \"He discovers the giant's companion in a cave\",\n",
       " \"Invisible in his cloak, Jack cuts off the giant's nose then slays him by plunging his sword into the monster's back\",\n",
       " \"He frees the giant's captives and returns to the house of the knight and lady he earlier had rescued\",\n",
       " 'A banquet is prepared, but it is interrupted by the two-headed giant Thunderdel chanting \"Fee, fau, fum\"',\n",
       " \"Jack defeats and beheads the giant with a trick involving the house's moat and drawbridge\",\n",
       " 'Growing weary of the festivities, Jack sallies forth for more adventures and meets an elderly man who directs him to an enchanted castle belonging to the giant Galligantus (Galligantua, in the Joseph Jacobs version)',\n",
       " \"The giant holds captive many knights and ladies and a Duke's daughter who has been transformed into a white doe through the power of a sorcerer\",\n",
       " \"Jack beheads the giant, the sorcerer flees, the Duke's daughter is restored to her true shape, and the captives are freed\",\n",
       " \"At the court of King Arthur, Jack marries the Duke's daughter and the two are given an estate where they live happily ever after.\"]"
      ]
     },
     "execution_count": 300,
     "metadata": {},
     "output_type": "execute_result"
    }
   ],
   "source": [
    "read_article(\"test.txt\")"
   ]
  },
  {
   "cell_type": "code",
   "execution_count": null,
   "metadata": {},
   "outputs": [],
   "source": []
  },
  {
   "cell_type": "code",
   "execution_count": 301,
   "metadata": {},
   "outputs": [],
   "source": [
    "def sentence_similarity(sent1, sent2, stopwords=None):\n",
    "    if stopwords is None:\n",
    "        stopwords = []\n",
    " \n",
    "    sent1 = [w.lower() for w in sent1]\n",
    "    sent2 = [w.lower() for w in sent2]\n",
    " \n",
    "    all_words = list(set(sent1 + sent2))\n",
    " \n",
    "    vector1 = [0] * len(all_words)\n",
    "    vector2 = [0] * len(all_words)\n",
    " \n",
    "    # build the vector for the first sentence\n",
    "    for w in sent1:\n",
    "        if w in stopwords:\n",
    "            continue\n",
    "        vector1[all_words.index(w)] += 1\n",
    " \n",
    "    # build the vector for the second sentence\n",
    "    for w in sent2:\n",
    "        if w in stopwords:\n",
    "            continue\n",
    "        vector2[all_words.index(w)] += 1\n",
    " \n",
    "    return 1 - cosine_distance(vector1, vector2)"
   ]
  },
  {
   "cell_type": "code",
   "execution_count": 302,
   "metadata": {},
   "outputs": [],
   "source": [
    "def gen_sim_matrix(sentences, stop_words):\n",
    "    # Create an empty similarity matrix\n",
    "    similarity_matrix = np.zeros((len(sentences), len(sentences)))\n",
    " \n",
    "    for idx1 in range(len(sentences)):\n",
    "        for idx2 in range(len(sentences)):\n",
    "            if idx1 == idx2: #ignore if both are same sentences\n",
    "                continue \n",
    "            similarity_matrix[idx1][idx2] = sentence_similarity(sentences[idx1], sentences[idx2], stop_words)\n",
    "    return similarity_matrix"
   ]
  },
  {
   "cell_type": "code",
   "execution_count": 303,
   "metadata": {},
   "outputs": [],
   "source": [
    "def generate_summary(file_name, top_n=2):\n",
    "    stop_words = stopwords.words(\"english\")\n",
    "    summarize_text = []\n",
    "    sentences = read_article(file_name)\n",
    "    \n",
    "    sentence_similarity_matrix = gen_sim_matrix(sentences, stop_words)\n",
    "    sentence_similarity_graph = nx.from_numpy_array(sentence_similarity_matrix)\n",
    "    \n",
    "    scores = nx.pagerank(sentence_similarity_graph, max_iter=10000)\n",
    "    ranked_sentences = sorted(((scores[i],s) for i,s in enumerate(sentences)), reverse=True)  \n",
    "    \n",
    "    for i in range(top_n):\n",
    "        summarize_text.append(\"\".join(ranked_sentences[i][1]))\n",
    "    print(\"Summary \\n\", '. '.join(summarize_text))"
   ]
  },
  {
   "cell_type": "code",
   "execution_count": 304,
   "metadata": {},
   "outputs": [
    {
     "name": "stdout",
     "output_type": "stream",
     "text": [
      "Summary \n",
      " The giant holds captive many knights and ladies and a Duke's daughter who has been transformed into a white doe through the power of a sorcerer. In gratitude for having spared his castle, the three-headed giant gives Jack a magic sword, a cap of knowledge, a cloak of invisibility, and shoes of swiftness.On the road, Jack and the Prince meet an enchanted Lady serving Lucifer. Jack defeats and beheads the giant with a trick involving the house's moat and drawbridge. The tale is set during the reign of King Arthur and tells of a young Cornish farmer's son named Jack who is not only strong but so clever he easily confounds the learned with his penetrating wit. Jack is dubbed 'Jack the Giant-Killer' for this feat and receives not only the giant's wealth, but a sword and belt to commemorate the event\n"
     ]
    }
   ],
   "source": [
    "generate_summary(\"test.txt\", 5)"
   ]
  },
  {
   "cell_type": "code",
   "execution_count": null,
   "metadata": {},
   "outputs": [],
   "source": []
  },
  {
   "cell_type": "code",
   "execution_count": null,
   "metadata": {},
   "outputs": [],
   "source": []
  },
  {
   "cell_type": "code",
   "execution_count": null,
   "metadata": {},
   "outputs": [],
   "source": []
  }
 ],
 "metadata": {
  "kernelspec": {
   "display_name": "Python 3",
   "language": "python",
   "name": "python3"
  },
  "language_info": {
   "codemirror_mode": {
    "name": "ipython",
    "version": 3
   },
   "file_extension": ".py",
   "mimetype": "text/x-python",
   "name": "python",
   "nbconvert_exporter": "python",
   "pygments_lexer": "ipython3",
   "version": "3.7.6"
  }
 },
 "nbformat": 4,
 "nbformat_minor": 4
}
