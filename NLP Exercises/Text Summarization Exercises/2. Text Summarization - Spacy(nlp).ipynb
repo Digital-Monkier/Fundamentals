{
 "cells": [
  {
   "cell_type": "markdown",
   "metadata": {},
   "source": [
    "# Text summarization\n",
    "Text summarization is the process of distilling the most important information from a source text.\n",
    "\n",
    "## Applications\n",
    "* Extract headlines from text\n",
    "* In shorts (article summary)\n",
    "* Question answering\n",
    "* Key information extraction\n",
    "* Product reviews\n",
    "\n",
    "## Type of summarization\n",
    "\n",
    "####   Based on Input Type\n",
    "* Single Document - Summarize one doc\n",
    "* Multi Document - Summarize multiple documents in one summary\n",
    "#### Based on Output\n",
    "* Extractive - Extractive strategies select the top N sentences that best represent the key points of the article. Grammatically correct but may not be suitable for smooth reading.\n",
    "* Abstractive - Abstractive summaries looks to create an intermediate semantic representation of the document and build from it. May not have original content, may use prarphrasing. Challenging to create grammatically and semantically correct summaries.\n",
    "* Hybrid - A mix of both\n",
    "#### Based on Purpose\n",
    "* Generic\n",
    "* Domain Specific\n",
    "* Query-based\n",
    "\n",
    "### Steps\n",
    " - Text Cleaning\n",
    " - Word Tokenization\n",
    " - Word-frequency\n",
    " - Sentence Tokenization\n",
    " - Common word sentence similarity\n",
    " - Summarization\n",
    " "
   ]
  },
  {
   "cell_type": "code",
   "execution_count": 516,
   "metadata": {},
   "outputs": [],
   "source": [
    "# Wiki article on the applications of biomechanics \n",
    "ml = \"\"\"Machine learning (ML) is the study of computer algorithms that improve automatically through experience.[1] It is seen as a part of artificial intelligence. Machine learning algorithms build a model based on sample data, known as \"training data\", in order to make predictions or decisions without being explicitly programmed to do so.[2] Machine learning algorithms are used in a wide variety of applications, such as email filtering and computer vision, where it is difficult or unfeasible to develop conventional algorithms to perform the needed tasks.\n",
    "\n",
    "A subset of machine learning is closely related to computational statistics, which focuses on making predictions using computers; but not all machine learning is statistical learning. The study of mathematical optimization delivers methods, theory and application domains to the field of machine learning. Data mining is a related field of study, focusing on exploratory data analysis through unsupervised learning. In its application across business problems, machine learning is also referred to as predictive analytics.\"\"\""
   ]
  },
  {
   "cell_type": "code",
   "execution_count": 517,
   "metadata": {},
   "outputs": [],
   "source": [
    "# ml = re.sub(\".[\\d+]]\", \"\", ml)\n",
    "# ml"
   ]
  },
  {
   "cell_type": "code",
   "execution_count": 518,
   "metadata": {},
   "outputs": [],
   "source": [
    "# bio_split = biomechanics.split(\" \")\n",
    "# bio_sent = biomechanics.split('.')"
   ]
  },
  {
   "cell_type": "code",
   "execution_count": 519,
   "metadata": {},
   "outputs": [],
   "source": [
    "import spacy\n",
    "from spacy.lang.en.stop_words import STOP_WORDS\n",
    "from string import punctuation\n",
    "import re"
   ]
  },
  {
   "cell_type": "code",
   "execution_count": 520,
   "metadata": {},
   "outputs": [],
   "source": [
    "stopwords = list(STOP_WORDS)"
   ]
  },
  {
   "cell_type": "code",
   "execution_count": 521,
   "metadata": {},
   "outputs": [],
   "source": [
    "nlp = spacy.load(\"en_core_web_sm\")"
   ]
  },
  {
   "cell_type": "code",
   "execution_count": 522,
   "metadata": {},
   "outputs": [],
   "source": [
    "doc = nlp(ml)"
   ]
  },
  {
   "cell_type": "code",
   "execution_count": 523,
   "metadata": {},
   "outputs": [],
   "source": [
    "punctuation = punctuation + '\\n'"
   ]
  },
  {
   "cell_type": "code",
   "execution_count": 524,
   "metadata": {},
   "outputs": [
    {
     "data": {
      "text/plain": [
       "'!\"#$%&\\'()*+,-./:;<=>?@[\\\\]^_`{|}~\\n'"
      ]
     },
     "execution_count": 524,
     "metadata": {},
     "output_type": "execute_result"
    }
   ],
   "source": [
    "punctuation"
   ]
  },
  {
   "cell_type": "code",
   "execution_count": 525,
   "metadata": {},
   "outputs": [],
   "source": [
    "word_freq = {}\n",
    "\n",
    "for word in doc:\n",
    "    if word.text.lower() not in stopwords:\n",
    "        if word.text.lower() not in punctuation:\n",
    "            if word.text not in word_freq.keys():\n",
    "                word_freq[word.text] = 1\n",
    "            else:\n",
    "                word_freq[word.text] += 1"
   ]
  },
  {
   "cell_type": "code",
   "execution_count": 526,
   "metadata": {},
   "outputs": [
    {
     "name": "stdout",
     "output_type": "stream",
     "text": [
      "{'Machine': 3, 'learning': 9, 'ML': 1, 'study': 3, 'computer': 2, 'algorithms': 4, 'improve': 1, 'automatically': 1, 'experience.[1': 1, 'seen': 1, 'artificial': 1, 'intelligence': 1, 'build': 1, 'model': 1, 'based': 1, 'sample': 1, 'data': 3, 'known': 1, 'training': 1, 'order': 1, 'predictions': 2, 'decisions': 1, 'explicitly': 1, 'programmed': 1, 'so.[2': 1, 'wide': 1, 'variety': 1, 'applications': 1, 'email': 1, 'filtering': 1, 'vision': 1, 'difficult': 1, 'unfeasible': 1, 'develop': 1, 'conventional': 1, 'perform': 1, 'needed': 1, 'tasks': 1, '\\n\\n': 1, 'subset': 1, 'machine': 4, 'closely': 1, 'related': 2, 'computational': 1, 'statistics': 1, 'focuses': 1, 'making': 1, 'computers': 1, 'statistical': 1, 'mathematical': 1, 'optimization': 1, 'delivers': 1, 'methods': 1, 'theory': 1, 'application': 2, 'domains': 1, 'field': 2, 'Data': 1, 'mining': 1, 'focusing': 1, 'exploratory': 1, 'analysis': 1, 'unsupervised': 1, 'business': 1, 'problems': 1, 'referred': 1, 'predictive': 1, 'analytics': 1}\n"
     ]
    }
   ],
   "source": [
    "print(word_freq)"
   ]
  },
  {
   "cell_type": "code",
   "execution_count": 527,
   "metadata": {},
   "outputs": [
    {
     "data": {
      "text/plain": [
       "9"
      ]
     },
     "execution_count": 527,
     "metadata": {},
     "output_type": "execute_result"
    }
   ],
   "source": [
    "max_freq = max(word_freq.values())\n",
    "max_freq"
   ]
  },
  {
   "cell_type": "code",
   "execution_count": 528,
   "metadata": {
    "code_folding": []
   },
   "outputs": [],
   "source": [
    "# Normalizing the word frequency\n",
    "for word in word_freq.keys():\n",
    "    word_freq[word] = word_freq[word]/max_freq"
   ]
  },
  {
   "cell_type": "code",
   "execution_count": 529,
   "metadata": {},
   "outputs": [
    {
     "name": "stdout",
     "output_type": "stream",
     "text": [
      "{'Machine': 0.3333333333333333, 'learning': 1.0, 'ML': 0.1111111111111111, 'study': 0.3333333333333333, 'computer': 0.2222222222222222, 'algorithms': 0.4444444444444444, 'improve': 0.1111111111111111, 'automatically': 0.1111111111111111, 'experience.[1': 0.1111111111111111, 'seen': 0.1111111111111111, 'artificial': 0.1111111111111111, 'intelligence': 0.1111111111111111, 'build': 0.1111111111111111, 'model': 0.1111111111111111, 'based': 0.1111111111111111, 'sample': 0.1111111111111111, 'data': 0.3333333333333333, 'known': 0.1111111111111111, 'training': 0.1111111111111111, 'order': 0.1111111111111111, 'predictions': 0.2222222222222222, 'decisions': 0.1111111111111111, 'explicitly': 0.1111111111111111, 'programmed': 0.1111111111111111, 'so.[2': 0.1111111111111111, 'wide': 0.1111111111111111, 'variety': 0.1111111111111111, 'applications': 0.1111111111111111, 'email': 0.1111111111111111, 'filtering': 0.1111111111111111, 'vision': 0.1111111111111111, 'difficult': 0.1111111111111111, 'unfeasible': 0.1111111111111111, 'develop': 0.1111111111111111, 'conventional': 0.1111111111111111, 'perform': 0.1111111111111111, 'needed': 0.1111111111111111, 'tasks': 0.1111111111111111, '\\n\\n': 0.1111111111111111, 'subset': 0.1111111111111111, 'machine': 0.4444444444444444, 'closely': 0.1111111111111111, 'related': 0.2222222222222222, 'computational': 0.1111111111111111, 'statistics': 0.1111111111111111, 'focuses': 0.1111111111111111, 'making': 0.1111111111111111, 'computers': 0.1111111111111111, 'statistical': 0.1111111111111111, 'mathematical': 0.1111111111111111, 'optimization': 0.1111111111111111, 'delivers': 0.1111111111111111, 'methods': 0.1111111111111111, 'theory': 0.1111111111111111, 'application': 0.2222222222222222, 'domains': 0.1111111111111111, 'field': 0.2222222222222222, 'Data': 0.1111111111111111, 'mining': 0.1111111111111111, 'focusing': 0.1111111111111111, 'exploratory': 0.1111111111111111, 'analysis': 0.1111111111111111, 'unsupervised': 0.1111111111111111, 'business': 0.1111111111111111, 'problems': 0.1111111111111111, 'referred': 0.1111111111111111, 'predictive': 0.1111111111111111, 'analytics': 0.1111111111111111}\n"
     ]
    }
   ],
   "source": [
    "print(word_freq)"
   ]
  },
  {
   "cell_type": "code",
   "execution_count": 530,
   "metadata": {},
   "outputs": [
    {
     "name": "stdout",
     "output_type": "stream",
     "text": [
      "[Machine learning (ML) is the study of computer algorithms that improve automatically through experience.[1], It is seen as a part of artificial intelligence., Machine learning algorithms build a model based on sample data, known as \"training data\", in order to make predictions or decisions without being explicitly programmed to do so.[2] Machine learning algorithms are used in a wide variety of applications, such as email filtering and computer vision, where it is difficult or unfeasible to develop conventional algorithms to perform the needed tasks.\n",
      "\n",
      ", A subset of machine learning is closely related to computational statistics, which focuses on making predictions using computers; but not all machine learning is statistical learning., The study of mathematical optimization delivers methods, theory and application domains to the field of machine learning., Data mining is a related field of study, focusing on exploratory data analysis through unsupervised learning., In its application across business problems, machine learning is also referred to as predictive analytics.]\n"
     ]
    }
   ],
   "source": [
    "sent_tokens = [sent for sent in doc.sents]\n",
    "print(sent_tokens)"
   ]
  },
  {
   "cell_type": "code",
   "execution_count": 531,
   "metadata": {},
   "outputs": [],
   "source": [
    "sent_scores = {}\n",
    "for sent in sent_tokens:\n",
    "    for word in sent:\n",
    "        if word.text.lower() in word_freq.keys():\n",
    "            if sent not in sent_scores.keys():\n",
    "                sent_scores[sent] = word_freq[word.text.lower()]\n",
    "            else:\n",
    "                sent_scores[sent] += word_freq[word.text.lower()]"
   ]
  },
  {
   "cell_type": "code",
   "execution_count": 532,
   "metadata": {
    "scrolled": true
   },
   "outputs": [
    {
     "name": "stdout",
     "output_type": "stream",
     "text": [
      "{Machine learning (ML) is the study of computer algorithms that improve automatically through experience.[1]: 2.777777777777778, It is seen as a part of artificial intelligence.: 0.3333333333333333, Machine learning algorithms build a model based on sample data, known as \"training data\", in order to make predictions or decisions without being explicitly programmed to do so.[2] Machine learning algorithms are used in a wide variety of applications, such as email filtering and computer vision, where it is difficult or unfeasible to develop conventional algorithms to perform the needed tasks.\n",
      "\n",
      ": 8.111111111111107, A subset of machine learning is closely related to computational statistics, which focuses on making predictions using computers; but not all machine learning is statistical learning.: 5.222222222222222, The study of mathematical optimization delivers methods, theory and application domains to the field of machine learning.: 2.8888888888888893, Data mining is a related field of study, focusing on exploratory data analysis through unsupervised learning.: 3.0, In its application across business problems, machine learning is also referred to as predictive analytics.: 2.2222222222222223}\n"
     ]
    }
   ],
   "source": [
    "print(sent_scores)"
   ]
  },
  {
   "cell_type": "code",
   "execution_count": 533,
   "metadata": {},
   "outputs": [],
   "source": [
    "from heapq import nlargest"
   ]
  },
  {
   "cell_type": "code",
   "execution_count": 534,
   "metadata": {},
   "outputs": [
    {
     "data": {
      "text/plain": [
       "2"
      ]
     },
     "execution_count": 534,
     "metadata": {},
     "output_type": "execute_result"
    }
   ],
   "source": [
    "select_length = int(len(sent_tokens)*0.3)\n",
    "select_length"
   ]
  },
  {
   "cell_type": "code",
   "execution_count": 535,
   "metadata": {},
   "outputs": [],
   "source": [
    "summary = nlargest(select_length, sent_scores, key = sent_scores.get)"
   ]
  },
  {
   "cell_type": "code",
   "execution_count": 536,
   "metadata": {},
   "outputs": [
    {
     "data": {
      "text/plain": [
       "2"
      ]
     },
     "execution_count": 536,
     "metadata": {},
     "output_type": "execute_result"
    }
   ],
   "source": [
    "len(summary)"
   ]
  },
  {
   "cell_type": "code",
   "execution_count": 537,
   "metadata": {},
   "outputs": [],
   "source": [
    "final_summary = [word.text for word in summary]"
   ]
  },
  {
   "cell_type": "code",
   "execution_count": 538,
   "metadata": {},
   "outputs": [],
   "source": [
    "summary = ' '.join(final_summary)"
   ]
  },
  {
   "cell_type": "code",
   "execution_count": 539,
   "metadata": {
    "scrolled": true
   },
   "outputs": [
    {
     "data": {
      "text/plain": [
       "'Machine learning algorithms build a model based on sample data, known as \"training data\", in order to make predictions or decisions without being explicitly programmed to do so.[2] Machine learning algorithms are used in a wide variety of applications, such as email filtering and computer vision, where it is difficult or unfeasible to develop conventional algorithms to perform the needed tasks.\\n\\n A subset of machine learning is closely related to computational statistics, which focuses on making predictions using computers; but not all machine learning is statistical learning.'"
      ]
     },
     "execution_count": 539,
     "metadata": {},
     "output_type": "execute_result"
    }
   ],
   "source": [
    "summary"
   ]
  },
  {
   "cell_type": "code",
   "execution_count": 540,
   "metadata": {},
   "outputs": [
    {
     "data": {
      "text/plain": [
       "(1078, 583)"
      ]
     },
     "execution_count": 540,
     "metadata": {},
     "output_type": "execute_result"
    }
   ],
   "source": [
    "len(ml), len(summary)"
   ]
  },
  {
   "cell_type": "code",
   "execution_count": null,
   "metadata": {},
   "outputs": [],
   "source": []
  }
 ],
 "metadata": {
  "kernelspec": {
   "display_name": "Python 3",
   "language": "python",
   "name": "python3"
  },
  "language_info": {
   "codemirror_mode": {
    "name": "ipython",
    "version": 3
   },
   "file_extension": ".py",
   "mimetype": "text/x-python",
   "name": "python",
   "nbconvert_exporter": "python",
   "pygments_lexer": "ipython3",
   "version": "3.7.6"
  }
 },
 "nbformat": 4,
 "nbformat_minor": 4
}
