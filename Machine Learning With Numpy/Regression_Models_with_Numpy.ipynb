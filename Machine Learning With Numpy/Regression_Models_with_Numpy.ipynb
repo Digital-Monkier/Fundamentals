{
  "nbformat": 4,
  "nbformat_minor": 0,
  "metadata": {
    "colab": {
      "name": "Regression Models with Numpy.ipynb",
      "provenance": [],
      "collapsed_sections": []
    },
    "kernelspec": {
      "name": "python3",
      "display_name": "Python 3"
    },
    "language_info": {
      "name": "python"
    }
  },
  "cells": [
    {
      "cell_type": "code",
      "metadata": {
        "id": "xtvcoj5ZQNOM"
      },
      "source": [
        "# y_hat = h theta(x) = 1 / 1 + e - wx+b\n",
        "\n",
        "# sigmoid(x) = 1 / 1 + e-x\n",
        "\n",
        "# Update rule \n",
        "# w = w - a * dw\n",
        "# b = b - a * db\n",
        "import numpy as np\n",
        "from sklearn.model_selection import train_test_split\n",
        "from sklearn import datasets\n",
        "import matplotlib.pyplot as plt"
      ],
      "execution_count": 146,
      "outputs": []
    },
    {
      "cell_type": "code",
      "metadata": {
        "id": "Bylcr7-UQyQD"
      },
      "source": [
        "class Regression:\n",
        "  #initialize base class attributes\n",
        "  def __init__(self, lr=0.01, n_iters=1000):\n",
        "  # story lr and n_iters and set weight and bias \n",
        "  # to 0 or random to be updated by gradient descent\n",
        "    self.lr = lr\n",
        "    self.n_iters = n_iters\n",
        "    self.weights = None\n",
        "    self.bias = None\n",
        "\n",
        "  # Fit method for both linear and logistic \n",
        "  def fit(self, X, y):\n",
        "    # unpack samples size and features for use in algo\n",
        "    n_samples, n_features = X.shape\n",
        "    # set weights for each feature to 0\n",
        "    self.weights = np.zeros(n_features)\n",
        "    self.bias = 0\n",
        "\n",
        "    # gradient descent iteration\n",
        "    for _ in range(self.n_iters):\n",
        "      # predict y_pred with initial weight and bias \n",
        "      # y_pred = wx + b\n",
        "      # If both a and b are 1-D arrays, it is inner product of vectors (without complex conjugation).\n",
        "      # If both a and b are 2-D arrays, it is matrix multiplication\n",
        "      linear_y_pred = np.dot(X, self.weights) + self.bias\n",
        "      # transpose the X vectors, calculate the product to calculate derivative of weights\n",
        "      dw = (1 / n_samples) * np.dot(X.T, (linear_y_pred - y))\n",
        "      # sum for difference for derivative of bias\n",
        "      db = (1 / n_samples) * np.sum(linear_y_pred - y)\n",
        "      # set new weights and bias and repeat\n",
        "      self.weights -= self.lr * dw\n",
        "      self.bias -= self.lr *db\n",
        "\n",
        "  def predict(self, X):\n",
        "    return self._predict(X, self.weights, self.bias)\n",
        "\n",
        "  def _predict(self, X, w, b):\n",
        "    return NotImplementedError()\n",
        "  \n",
        "  def _approximation(self, X, w, b):\n",
        "    return NotImplementedError()\n",
        "\n",
        "\n",
        "class LinearRegression(Regression):\n",
        "  def _approximation(self, X, w, b):\n",
        "    return np.dot(X, w) + b\n",
        "\n",
        "  def _predict(self, X, w, b):\n",
        "    # predict y_pred with trained (gradient descent updated) weights and bias\n",
        "    return np.dot(X, w) + b\n",
        "\n",
        "\n",
        "\n",
        "class LogisticRegression(BaseRegression):\n",
        "  def _approximation(self, X, w, b):\n",
        "    linear_model = np.dot(X, w) + b\n",
        "    return self._sigmoid(linear_model)\n",
        "\n",
        "  def _predict(self, X, w, b):\n",
        "    # predict y_pred with trained (gradient descent updated) weights and bias\n",
        "    linear_model = np.dot(X, w) + b\n",
        "    y_pred = self._sigmoid(linear_model)\n",
        "    y_pred_cls = [1 if i > 0.5 else 0 for i in y_pred]\n",
        "    return np.array(y_pred_cls)\n",
        "\n",
        "  # sigmoid function \n",
        "  def _sigmoid(self, x):\n",
        "    return 1 / (np.exp(-x) + 1)"
      ],
      "execution_count": 147,
      "outputs": []
    },
    {
      "cell_type": "markdown",
      "metadata": {
        "id": "wBrzb4dj9ywl"
      },
      "source": [
        "# Accuracy functions"
      ]
    },
    {
      "cell_type": "code",
      "metadata": {
        "id": "a5say45Ay_pd"
      },
      "source": [
        "# mean squared error function for linear regression\n",
        "def mse(y_true, y_pred):\n",
        "  return np.mean((y_true - y_pred)**2)\n",
        "  \n",
        "# simple accuracy for for logistic regression\n",
        "def accuracy(y_true, y_pred):\n",
        "  accuracy = np.sum(y_true == y_pred) / len(y_true)\n",
        "  return accuracy"
      ],
      "execution_count": 148,
      "outputs": []
    },
    {
      "cell_type": "markdown",
      "metadata": {
        "id": "pplmRZmB46g0"
      },
      "source": [
        "# Implimenting Linear Regression on Random Dataset"
      ]
    },
    {
      "cell_type": "code",
      "metadata": {
        "colab": {
          "base_uri": "https://localhost:8080/",
          "height": 406
        },
        "id": "yG27pV_d3lrH",
        "outputId": "5ea2f031-1464-4489-8109-cd6de40988a4"
      },
      "source": [
        "# Random dataset from sklearn\n",
        "X, y = datasets.make_regression(n_samples=100, n_features =1, noise=20, random_state = 42)\n",
        "# Splitting the dataset\n",
        "X_train, X_test, y_train, y_test = train_test_split(X, y, test_size=0.2, random_state =42)\n",
        "# plotting the dataset\n",
        "fig = plt.figure(figsize=(8,6))\n",
        "plt.scatter(X[:, 0], y, color='b', marker='o', s=30)\n",
        "plt.show()\n",
        "print(X_train.shape)\n",
        "print(y_train.shape)"
      ],
      "execution_count": 149,
      "outputs": [
        {
          "output_type": "display_data",
          "data": {
            "image/png": "[encoded data removed]",
            "text/plain": [
              "<Figure size 576x432 with 1 Axes>"
            ]
          },
          "metadata": {
            "tags": [],
            "needs_background": "light"
          }
        },
        {
          "output_type": "stream",
          "text": [
            "(80, 1)\n",
            "(80,)\n"
          ],
          "name": "stdout"
        }
      ]
    },
    {
      "cell_type": "code",
      "metadata": {
        "colab": {
          "base_uri": "https://localhost:8080/",
          "height": 282
        },
        "id": "K0fkoREd3nul",
        "outputId": "8d91bcbc-c076-4906-f8c4-0486dcaa11db"
      },
      "source": [
        "# Instantite the class\n",
        "linreg = LinearRegression()\n",
        "# Fit the training data\n",
        "linreg.fit(X_train , y_train)\n",
        "# capture prediction\n",
        "preds = linreg.predict(X_test)\n",
        "# Capture the mean squared error\n",
        "mse_val = mse(preds, y_test)\n",
        "print(\"MSE Value:\", mse_val)\n",
        "\n",
        "# Plotting the results\n",
        "full_preds = linreg.predict(X)\n",
        "\n",
        "fig = plt.figure(figsize=(8,6))\n",
        "plt.scatter(X_train, y_train)\n",
        "plt.scatter(X_test,y_test)\n",
        "plt.plot(X , full_preds, color='b')\n",
        "plt.show()"
      ],
      "execution_count": 150,
      "outputs": [
        {
          "output_type": "stream",
          "text": [
            "MSE Value: 417.00933221477027\n"
          ],
          "name": "stdout"
        },
        {
          "output_type": "display_data",
          "data": {
            "image/png": "[encoded data removed]",
            "text/plain": [
              "<Figure size 432x288 with 1 Axes>"
            ]
          },
          "metadata": {
            "tags": [],
            "needs_background": "light"
          }
        }
      ]
    },
    {
      "cell_type": "markdown",
      "metadata": {
        "id": "Syla4e0z42N7"
      },
      "source": [
        "# Implimenting Logistic Regression On Breast Cancer Dataset"
      ]
    },
    {
      "cell_type": "code",
      "metadata": {
        "id": "A6Kbq9x94ZXb"
      },
      "source": [
        "# Loading the breast cancer dataset from sklearn\n",
        "bc = datasets.load_breast_cancer()\n",
        "# unpacking the data and target vectors\n",
        "X, y = bc.data, bc.target\n",
        "# Splitting the dataset\n",
        "X_train, X_test, y_train, y_test = train_test_split(X, y, test_size = 0.25, random_state = 32)"
      ],
      "execution_count": 151,
      "outputs": []
    },
    {
      "cell_type": "code",
      "metadata": {
        "colab": {
          "base_uri": "https://localhost:8080/"
        },
        "id": "fFZJd513QyS0",
        "outputId": "160bdc86-ebaa-44b3-fe5c-b2f30f3c6fef"
      },
      "source": [
        "# instantiating the model\n",
        "logreg = LogisticRegression()\n",
        "# fit the training data\n",
        "logreg.fit(X_train, y_train)\n",
        "# Capture the predictions\n",
        "preds = logreg.predict(X_test)\n",
        "# Print the accuracy\n",
        "print(\"LogReg From Scratch Accuracy: \", accuracy(preds, y_test))"
      ],
      "execution_count": 152,
      "outputs": [
        {
          "output_type": "stream",
          "text": [
            "LogReg From scratch accuracy:  0.8811188811188811\n"
          ],
          "name": "stdout"
        },
        {
          "output_type": "stream",
          "text": [
            "/usr/local/lib/python3.7/dist-packages/ipykernel_launcher.py:63: RuntimeWarning: overflow encountered in exp\n"
          ],
          "name": "stderr"
        }
      ]
    },
    {
      "cell_type": "code",
      "metadata": {
        "id": "Plu64Ftf4l7I"
      },
      "source": [
        ""
      ],
      "execution_count": 152,
      "outputs": []
    }
  ]
}